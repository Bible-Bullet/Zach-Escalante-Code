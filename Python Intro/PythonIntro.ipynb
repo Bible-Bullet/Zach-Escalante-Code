{
 "cells": [
  {
   "cell_type": "markdown",
   "metadata": {},
   "source": [
    "<p><a name=\"sections\"></a></p>\n",
    "\n",
    "\n",
    "# Sections\n",
    "\n",
    "- <a href=\"#simple\">Simple Values and Expressions</a><br>\n",
    "- <a href=\"#dataTypes\">Python Data Types</a><br>\n",
    "- <a href=\"#lambda\">Lambda Functions and Named Functions</a><br>\n",
    "- <a href=\"#loops\">Loops in Python</a><br>\n",
    "- <a href=\"#ifelse\">If-Else Statements</a><br>\n",
    "- <a href=\"#numpypandas\">Numpy and Pandas Packages</a><br>\n",
    "- <a href=\"#numpypandas\">Pandas Join-Functionality</a><br>\n",
    "- <a href=\"#writefile\">Writing to File</a><br>\n",
    "\n",
    "\n",
    "<p><a name=\"simple\"></a></p>\n",
    "# Simple Values and Expressions\n",
    "\n",
    "** Expressions and Values**\n",
    "\n",
    "We demonstrate the simplest expression syntax: Operators +, -, * and / work just like in most other languages; parentheses can be used for grouping."
   ]
  },
  {
   "cell_type": "code",
   "execution_count": 483,
   "metadata": {},
   "outputs": [
    {
     "data": {
      "text/plain": [
       "7"
      ]
     },
     "execution_count": 483,
     "metadata": {},
     "output_type": "execute_result"
    }
   ],
   "source": [
    "# Comment in Python starts with the hash character, # , and extend to the end of the physical line\n",
    "\n",
    "1 + 2 * 3     # * has precedence over +"
   ]
  },
  {
   "cell_type": "markdown",
   "metadata": {},
   "source": [
    "- iPython notebook shows only the last statement in each cell. To inspect all of them, we may use the `print` statement:"
   ]
  },
  {
   "cell_type": "code",
   "execution_count": 484,
   "metadata": {},
   "outputs": [
    {
     "name": "stdout",
     "output_type": "stream",
     "text": [
      "7\n",
      "9\n"
     ]
    }
   ],
   "source": [
    "print(1 + 2 * 3)\n",
    "print((1 + 2) * 3)"
   ]
  },
  {
   "cell_type": "code",
   "execution_count": 96,
   "metadata": {},
   "outputs": [
    {
     "name": "stdout",
     "output_type": "stream",
     "text": [
      "4.6\n",
      "7.666666666666667\n",
      "4.0\n",
      "3\n",
      "128\n"
     ]
    }
   ],
   "source": [
    "print(23 / 5)     \n",
    "print(23 / 3.0)   # In Python 2, you must divide int / float -> float \n",
    "print(23 // 5.0 ) # explicit integer division \n",
    "print(23 % 5)     # remainder\n",
    "print(2 ** 7)     # 2 to the power of 7"
   ]
  },
  {
   "cell_type": "markdown",
   "metadata": {},
   "source": [
    "**Syntactic note**:  Python does not close it's statements with any special character (like C++). Therefore if you want to split a line of code, you need to use a **'\\'**. "
   ]
  },
  {
   "cell_type": "code",
   "execution_count": 137,
   "metadata": {},
   "outputs": [
    {
     "name": "stdout",
     "output_type": "stream",
     "text": [
      "109.44444444444444\n",
      "44.44444444444444\n",
      "63.44444444444444\n"
     ]
    }
   ],
   "source": [
    "print(11 * (5 * 3 - 5) + 4 / 3 ** 2 - 1)\n",
    "\n",
    "print (8 + (7 + 6 * 5)    # use parentheses\n",
    "       + 4 / 3 ** 2 - 1)\n",
    "\n",
    "print(8 * (7 + 6 - 5) \\\n",
    "      + 4 / 3 ** 2 - 1)       # use backslash"
   ]
  },
  {
   "cell_type": "markdown",
   "metadata": {},
   "source": [
    "- **Note**: Indentation is how Python closes loops and statements. Python code will not run if it's not indented right."
   ]
  },
  {
   "cell_type": "markdown",
   "metadata": {},
   "source": [
    "**Varaiables**\n",
    "\n",
    "Variables assign values to characters/words.  We use the \"=\" sign to make this assignemnt. This is in contrast to how we test whether something is equal, where we use the double \"==\"."
   ]
  },
  {
   "cell_type": "code",
   "execution_count": 140,
   "metadata": {
    "collapsed": true
   },
   "outputs": [],
   "source": [
    "tax = 8.5 / 100   # An “assignment statement”\n",
    "price = 100.50"
   ]
  },
  {
   "cell_type": "markdown",
   "metadata": {},
   "source": [
    "iPython notebook print nothing for assignments, as we see from above."
   ]
  },
  {
   "cell_type": "code",
   "execution_count": 141,
   "metadata": {},
   "outputs": [
    {
     "data": {
      "text/plain": [
       "8.5425"
      ]
     },
     "execution_count": 141,
     "metadata": {},
     "output_type": "execute_result"
    }
   ],
   "source": [
    "price * tax"
   ]
  },
  {
   "cell_type": "markdown",
   "metadata": {},
   "source": [
    "Test if these two expressions are equal:"
   ]
  },
  {
   "cell_type": "code",
   "execution_count": 99,
   "metadata": {},
   "outputs": [
    {
     "name": "stdout",
     "output_type": "stream",
     "text": [
      "False\n",
      "True\n"
     ]
    }
   ],
   "source": [
    "a = 4\n",
    "b = 5\n",
    "c = 4\n",
    "\n",
    "print(a == b)\n",
    "print(a == c)"
   ]
  },
  {
   "cell_type": "markdown",
   "metadata": {},
   "source": [
    "**Built-In Python Functions**\n",
    "\n",
    "- Python comes with a number of built in functions"
   ]
  },
  {
   "cell_type": "code",
   "execution_count": 142,
   "metadata": {},
   "outputs": [
    {
     "name": "stdout",
     "output_type": "stream",
     "text": [
      "12.0 \n",
      "\n",
      "5\n",
      "{1, 2, 3, 4, 5}\n"
     ]
    }
   ],
   "source": [
    "#absolute value\n",
    "print(abs(-12.0), '\\n')\n",
    "#length of a list (which we'll cover shortly)\n",
    "print(len([1, 2, 3, 4, 5]))\n",
    "#Set of unique values in a list \n",
    "print(set([1, 2, 3, 4, 5, 5, 4]))"
   ]
  },
  {
   "cell_type": "markdown",
   "metadata": {},
   "source": [
    "You can also import **modules** which are packages that provided extra functionality\n",
    "\n",
    "- You use the functions in a module by importing the module and using its name plus the function’s name:"
   ]
  },
  {
   "cell_type": "code",
   "execution_count": 146,
   "metadata": {},
   "outputs": [
    {
     "name": "stdout",
     "output_type": "stream",
     "text": [
      "26.832815729997478 \n",
      "\n",
      "25.0 \n",
      "\n"
     ]
    }
   ],
   "source": [
    "import math          # import the math module\n",
    "print(math.sqrt(720), '\\n')    # square root of 720\n",
    "print(math.pow(5, 2), '\\n')    #5 to the power 2"
   ]
  },
  {
   "cell_type": "markdown",
   "metadata": {},
   "source": [
    "- Or, use a different import syntax and use the function name alone:"
   ]
  },
  {
   "cell_type": "code",
   "execution_count": 150,
   "metadata": {},
   "outputs": [
    {
     "name": "stdout",
     "output_type": "stream",
     "text": [
      "720 \n",
      "\n",
      "25.0 \n",
      "\n"
     ]
    }
   ],
   "source": [
    "from math import factorial, pow\n",
    "print(factorial(6), '\\n')       #We no longer need to state the package name prior to declaring the function\n",
    "print(pow(5, 2), '\\n')"
   ]
  },
  {
   "cell_type": "markdown",
   "metadata": {},
   "source": [
    "**Naming convention**\n",
    "\n",
    "- Python variable names are case sensitive (VaRiAbLe_NaMe does not equal variable_name)\n",
    "\n",
    "- They can contain all alpha numeric characters [A-Z0-9], but shoudl always start with letters\n",
    "\n",
    "- dict, set, list are examples of reserve words which cannot be used as variable names\n",
    "\n",
    "- By convention, Python variables usually start with lower-case letters.  Variables should have descriptive names; for multi-word names, separate the words by underscores.\n",
    " - Good names:  column_1, row_2, key_variable, first_name\n",
    " - One-letter names are used in certain circumstances - e.g. i, j, k when used as indexes - but are otherwise frowned upon."
   ]
  },
  {
   "cell_type": "markdown",
   "metadata": {},
   "source": [
    "**Exercise 1**\n",
    "\n",
    "In the input panel, run Python commands:\n",
    "\n",
    "- Calculate 10 / 3. \n",
    "- Calculate 10 / -3  and compare it with the previous result. What do you notice?\n",
    "- Calculate 2 to the power of 3.\n",
    "- Now import the math module and try calculating a square root. Use the function math.sqrt(number). Try any number!\n"
   ]
  },
  {
   "cell_type": "markdown",
   "metadata": {},
   "source": [
    "<p><a name=\"dataTypes\"></a></p>\n",
    "# Python Data Types\n",
    "\n",
    "**Data Types**\n",
    "\n",
    "- Python has a number of built-in data types\n",
    "- Most of these you'll remember from basic programming classes\n",
    "- A couple of them we'll touch base on later in the tutorial (as they require specific packages)\n",
    "- We'll demonstrate all of them!\n",
    "- The first ones we'll cover are **bools**, **ints** and **floats**"
   ]
  },
  {
   "cell_type": "code",
   "execution_count": 151,
   "metadata": {},
   "outputs": [
    {
     "name": "stdout",
     "output_type": "stream",
     "text": [
      "<class 'int'>\n",
      "<class 'float'>\n",
      "<class 'bool'>\n"
     ]
    }
   ],
   "source": [
    "a = 5\n",
    "b = 2.333\n",
    "c = True\n",
    "\n",
    "print(type(a))\n",
    "print(type(b))\n",
    "print(type(c))"
   ]
  },
  {
   "cell_type": "code",
   "execution_count": 152,
   "metadata": {},
   "outputs": [
    {
     "name": "stdout",
     "output_type": "stream",
     "text": [
      "<class 'float'>\n"
     ]
    }
   ],
   "source": [
    "#Let's do some operations with these. First we'll add an int + float and see that we have <class 'float>\n",
    "d = a + b\n",
    "\n",
    "print(type(d))"
   ]
  },
  {
   "cell_type": "code",
   "execution_count": 153,
   "metadata": {},
   "outputs": [
    {
     "name": "stdout",
     "output_type": "stream",
     "text": [
      "3.333\n"
     ]
    }
   ],
   "source": [
    "#Now let's try adding an int + bool\n",
    "e = c + b\n",
    "\n",
    "#Python 3 evaluates bools as == 1, hence we can add these!\n",
    "print(e)"
   ]
  },
  {
   "cell_type": "markdown",
   "metadata": {},
   "source": [
    "**Data Types**\n",
    "\n",
    "- Next we'll look at **lists**, **sets** and **tuples**\n",
    "- lists are the most commonly used data type in Python\n",
    "- lists and sets are **mutable** objects \n",
    "- **mutable** means the content can be changed after they are created\n",
    "- **tuples** are immutable"
   ]
  },
  {
   "cell_type": "code",
   "execution_count": 154,
   "metadata": {},
   "outputs": [
    {
     "name": "stdout",
     "output_type": "stream",
     "text": [
      "[1, 2, 3, 5.4, 'a', 2, 2]\n",
      "(1, 2)\n",
      "{1, 2, 3, 5.4, 'a'}\n"
     ]
    }
   ],
   "source": [
    "#A list is an ordered collection of objects of variables which DO NOT have to be of the same data type\n",
    "list_ = [1, 2, 3, 5.40, 'a', 2, 2]\n",
    "print(list_)\n",
    "\n",
    "#Tuples are two values in a pairing\n",
    "tuple_ = (1, 2)\n",
    "print(tuple_)\n",
    "\n",
    "#A set is the unique values in a list\n",
    "set_ = set(list_)\n",
    "print(set_)"
   ]
  },
  {
   "cell_type": "code",
   "execution_count": 155,
   "metadata": {},
   "outputs": [
    {
     "name": "stdout",
     "output_type": "stream",
     "text": [
      "1\n",
      "[1, 2, 3]\n",
      "1\n"
     ]
    },
    {
     "ename": "TypeError",
     "evalue": "'set' object does not support indexing",
     "output_type": "error",
     "traceback": [
      "\u001b[1;31m---------------------------------------------------------------------------\u001b[0m",
      "\u001b[1;31mTypeError\u001b[0m                                 Traceback (most recent call last)",
      "\u001b[1;32m<ipython-input-155-710f005f7644>\u001b[0m in \u001b[0;36m<module>\u001b[1;34m()\u001b[0m\n\u001b[0;32m      5\u001b[0m \u001b[1;33m\u001b[0m\u001b[0m\n\u001b[0;32m      6\u001b[0m \u001b[1;31m#Sets are unordered, hence we can't take slices like in a list\u001b[0m\u001b[1;33m\u001b[0m\u001b[1;33m\u001b[0m\u001b[0m\n\u001b[1;32m----> 7\u001b[1;33m \u001b[0mprint\u001b[0m\u001b[1;33m(\u001b[0m\u001b[0mset_\u001b[0m\u001b[1;33m[\u001b[0m\u001b[1;36m3\u001b[0m\u001b[1;33m]\u001b[0m\u001b[1;33m)\u001b[0m\u001b[1;33m\u001b[0m\u001b[0m\n\u001b[0m",
      "\u001b[1;31mTypeError\u001b[0m: 'set' object does not support indexing"
     ]
    }
   ],
   "source": [
    "#Here's how we subset lists\n",
    "print(list_[0])\n",
    "print(list_[0:3])\n",
    "print(tuple_[0])\n",
    "\n",
    "#Sets are unordered, hence we can't take slices like in a list\n",
    "print(set_[3])"
   ]
  },
  {
   "cell_type": "code",
   "execution_count": 156,
   "metadata": {},
   "outputs": [
    {
     "name": "stdout",
     "output_type": "stream",
     "text": [
      "[5, 2, 3, 5.4, 'a', 2, 2]\n"
     ]
    },
    {
     "ename": "TypeError",
     "evalue": "'tuple' object does not support item assignment",
     "output_type": "error",
     "traceback": [
      "\u001b[1;31m---------------------------------------------------------------------------\u001b[0m",
      "\u001b[1;31mTypeError\u001b[0m                                 Traceback (most recent call last)",
      "\u001b[1;32m<ipython-input-156-070061329a07>\u001b[0m in \u001b[0;36m<module>\u001b[1;34m()\u001b[0m\n\u001b[0;32m      4\u001b[0m \u001b[1;33m\u001b[0m\u001b[0m\n\u001b[0;32m      5\u001b[0m \u001b[1;31m#Tuples are immutable\u001b[0m\u001b[1;33m\u001b[0m\u001b[1;33m\u001b[0m\u001b[0m\n\u001b[1;32m----> 6\u001b[1;33m \u001b[0mtuple_\u001b[0m\u001b[1;33m[\u001b[0m\u001b[1;36m0\u001b[0m\u001b[1;33m]\u001b[0m \u001b[1;33m=\u001b[0m \u001b[1;36m5\u001b[0m\u001b[1;33m\u001b[0m\u001b[0m\n\u001b[0m",
      "\u001b[1;31mTypeError\u001b[0m: 'tuple' object does not support item assignment"
     ]
    }
   ],
   "source": [
    "#Lists are mutable. This means the object can be changed after it's been created.\n",
    "list_[0] = 5\n",
    "print(list_)\n",
    "\n",
    "#Tuples are immutable\n",
    "tuple_[0] = 5"
   ]
  },
  {
   "cell_type": "code",
   "execution_count": 170,
   "metadata": {},
   "outputs": [
    {
     "name": "stdout",
     "output_type": "stream",
     "text": [
      "[1, 'a', 2, 'b']\n"
     ]
    }
   ],
   "source": [
    "#You can add elements to a list by using the 'append()' function\n",
    "list_a = []\n",
    "list_a.append(1)\n",
    "list_a.append('a')\n",
    "list_a.append(2)\n",
    "list_a.append('b')\n",
    "\n",
    "print(list_a)"
   ]
  },
  {
   "cell_type": "markdown",
   "metadata": {},
   "source": [
    "**Data Types**\n",
    "\n",
    "- Next we'll look at **dictionaries** and **strings**\n",
    "- **dictionaries** are the Python implementation of hash tables\n",
    "- they require key-value pairs\n",
    "- The keys must be immutable data types (ints, floats, strings, tuples)\n",
    "- The pairs can be anything (ints, strings, lists, other dictionaries)\n",
    "- strings have their own functionality which could be covered in a completely separate session\n",
    "- We'll show just a few basics right now"
   ]
  },
  {
   "cell_type": "code",
   "execution_count": 171,
   "metadata": {},
   "outputs": [
    {
     "name": "stdout",
     "output_type": "stream",
     "text": [
      "{'a': 1, 'b': [2, 3, 4], 'c': 3, 'd': 4}\n",
      "1\n",
      "[2, 3, 4]\n"
     ]
    }
   ],
   "source": [
    "dict_ = {'a': 1, 'b': [2, 3, 4], 'c': 3, 'd': 4}\n",
    "print(dict_)\n",
    "#Select the correct key to see the value associated with the 'b' key\n",
    "print(dict_['a'])\n",
    "print(dict_['b'])"
   ]
  },
  {
   "cell_type": "code",
   "execution_count": 172,
   "metadata": {},
   "outputs": [
    {
     "name": "stdout",
     "output_type": "stream",
     "text": [
      "quick brown fox jumped over the lazy dogs \n",
      "QUICK BROWN FOX JUMPED OVER THE LAZY DOGS \n",
      "Quick brown fox jumped over the lazy dogs and ran away from the hunter \n",
      "\n",
      "['Quick', 'brown', 'fox', 'jumped', 'over', 'the', 'lazy', 'dogs'] \n",
      "\n",
      "Quickbrownfoxjumpedoverthelazydogs\n"
     ]
    }
   ],
   "source": [
    "#Strings have a lot of built in functionality\n",
    "string_a = 'Quick brown fox jumped over the lazy dogs '\n",
    "string_b = 'and ran away from the hunter'\n",
    "print(string_a.lower()) #convert all characters to lower case\n",
    "print(string_a.upper()) #convert all characters to lower case\n",
    "\n",
    "print(string_a + string_b, '\\n') #strings can be added with an '+' operator\n",
    "\n",
    "split_string = string_a.split() #strings can be split by calling the 'split' function\n",
    "\n",
    "#Here you see we can both split, and then re-join the strings!\n",
    "print(split_string, '\\n')\n",
    "print(\"\".join(split_string))"
   ]
  },
  {
   "cell_type": "markdown",
   "metadata": {},
   "source": [
    "String functionality could be an entire separate class, but for now please visit https://www.tutorialspoint.com/python/python_strings.htm for your questions on strings!\n",
    "\n",
    "Having reviewed the basics of **Python operations** and **data types**, we'll now take a look at how to **declare functions**"
   ]
  },
  {
   "cell_type": "markdown",
   "metadata": {},
   "source": [
    "**Exercise 2**\n",
    "\n",
    "Let's reverse the words in a string!:\n",
    "\n",
    "- String is, \"Welcome to grandma and grandpa's 50th Anniversary Celebration!\"\n",
    "- First, separate the words using the str.split() function\n",
    "- Next, reverse the resulting list using the list index operator\n",
    "- Finally, join your new list together separating the words with a blank space\n",
    "- And print...\n"
   ]
  },
  {
   "cell_type": "code",
   "execution_count": 173,
   "metadata": {},
   "outputs": [
    {
     "name": "stdout",
     "output_type": "stream",
     "text": [
      "Celebration! Birthday 80th grandma's to Welcome\n"
     ]
    }
   ],
   "source": [
    "#Answer\n",
    "s = \"Welcome to grandma's 80th Birthday Celebration!\"\n",
    "splits = s.split()\n",
    "rev = splits[::-1]\n",
    "result = \" \".join(rev)\n",
    "print(result)"
   ]
  },
  {
   "cell_type": "markdown",
   "metadata": {},
   "source": [
    "<p><a name=\"lambda\"></a></p>\n",
    "# Lambda Functions and Named Functions\n",
    "\n",
    "**Defining Functions**\n",
    "\n",
    "- There are two ways do define functions in Python\n",
    "- The first is the traditional named-function format\n",
    "- The second is as a one-line anonymous function\n",
    "- We'll demonstrate both!"
   ]
  },
  {
   "cell_type": "code",
   "execution_count": 174,
   "metadata": {},
   "outputs": [
    {
     "name": "stdout",
     "output_type": "stream",
     "text": [
      "8\n"
     ]
    }
   ],
   "source": [
    "#The first way is using def func_name(inputs):\n",
    "def take_power(a, b):\n",
    "    return a**b\n",
    "\n",
    "print(take_power(2, 3))"
   ]
  },
  {
   "cell_type": "code",
   "execution_count": 175,
   "metadata": {},
   "outputs": [
    {
     "data": {
      "text/plain": [
       "8"
      ]
     },
     "execution_count": 175,
     "metadata": {},
     "output_type": "execute_result"
    }
   ],
   "source": [
    "#The other way to declare this function is using the \"lambda\" method\n",
    "g = lambda a, b: a**b\n",
    "g(2, 3)"
   ]
  },
  {
   "cell_type": "code",
   "execution_count": 176,
   "metadata": {},
   "outputs": [
    {
     "name": "stdout",
     "output_type": "stream",
     "text": [
      "[1, 4, 27, 256, 3125, 46656]\n"
     ]
    }
   ],
   "source": [
    "#Lambda functions are often wrapped in other Python fuctionality, like \"map\", which applies a function across a specified range of values\n",
    "x = map(lambda a: a**a, [1, 2, 3, 4, 5, 6])\n",
    "print(list(x))"
   ]
  },
  {
   "cell_type": "markdown",
   "metadata": {},
   "source": [
    "**List Comprehensions**\n",
    "\n",
    "- These act as in-line for-loops\n",
    "- While much of the functionality is similar, List Comprehensions sometimes provide a more readable format\n",
    "- Due to their one-line syntax, they are easily incorporated in functions "
   ]
  },
  {
   "cell_type": "code",
   "execution_count": 177,
   "metadata": {},
   "outputs": [
    {
     "name": "stdout",
     "output_type": "stream",
     "text": [
      "[5, 5, 5, 5, 5, 5, 5, 5, 5]\n"
     ]
    },
    {
     "data": {
      "text/plain": [
       "[-9999, 2, -9999, 4, -9999, 6, -9999, 8, -9999]"
      ]
     },
     "execution_count": 177,
     "metadata": {},
     "output_type": "execute_result"
    }
   ],
   "source": [
    "#Let's look at an example of a list-comprehension\n",
    "w = [5, 5, 5, 5, 5, 5, 5 , 5, 5]\n",
    "x = [1, 2, 3, 4, 5, 6, 7 , 8, 9]\n",
    "\n",
    "#Example 1\n",
    "print([i for i in w])\n",
    "\n",
    "#Example 2 incorporating an 'if' statement\n",
    "[i if i % 2 == 0 else -9999 for i in x]"
   ]
  },
  {
   "cell_type": "markdown",
   "metadata": {},
   "source": [
    "**Exercise 3**\n",
    "\n",
    "Let's try something a little tricky.\n",
    "\n",
    "- Create a function that takes in two lists, combines them into a new list, and sorts it biggest to smallest, and add a 0 to the end\n",
    "- Use the list.append() function in your answer\n"
   ]
  },
  {
   "cell_type": "code",
   "execution_count": 178,
   "metadata": {},
   "outputs": [
    {
     "data": {
      "text/plain": [
       "[222, 22, 5, 4, 2, 1, 0]"
      ]
     },
     "execution_count": 178,
     "metadata": {},
     "output_type": "execute_result"
    }
   ],
   "source": [
    "def list_fun(a,b):\n",
    "    new_list = a+b\n",
    "    new_list.sort(reverse=True)\n",
    "    new_list.append(0) # the append function adds the object in parentheses to the end of the list\n",
    "    return new_list\n",
    "    \n",
    "list_fun([1,5,4], [22, 2, 222])"
   ]
  },
  {
   "cell_type": "markdown",
   "metadata": {},
   "source": [
    "<p><a name=\"loops\"></a></p>\n",
    "# Loops in Python\n",
    "\n",
    "**How to Define Loops**\n",
    "\n",
    "- Python has no terminating characters\n",
    "- This means that all 'termination' is done by indentation\n",
    "- In Python, we can loop through actual values of an object, OR integers\n",
    "- We'll demonstrate both!"
   ]
  },
  {
   "cell_type": "code",
   "execution_count": 167,
   "metadata": {},
   "outputs": [
    {
     "name": "stdout",
     "output_type": "stream",
     "text": [
      "5 5 5 5 5 5 5 5 5 "
     ]
    }
   ],
   "source": [
    "#Let's continue with the example from above (list comprehensions)\n",
    "for i in w:\n",
    "    print(i, end=\" \")"
   ]
  },
  {
   "cell_type": "code",
   "execution_count": 168,
   "metadata": {},
   "outputs": [
    {
     "name": "stdout",
     "output_type": "stream",
     "text": [
      "[0, 1, 2, 3, 4, 5, 6, 7, 8, 9] \n",
      "\n",
      "[20, 21, 22, 23, 24, 25, 26, 27, 28, 29] \n",
      "\n",
      "[100, 99, 98, 97, 96, 95, 94, 93, 92, 91] \n",
      "\n",
      "0 1 2 3 4 5 6 7 8 "
     ]
    }
   ],
   "source": [
    "#We see here that we've printed the actual values in our list 'w'. Now let's loop through a range of integers\n",
    "#The 'range' function is a built-in function for Python. It generates a list of integers in the range which is passed to it\n",
    "#'range' values must be wrapped in list-data types\n",
    "\n",
    "r1 = range(10)\n",
    "r2 = range(20, 30)\n",
    "r3 = range(100, 90, -1)\n",
    "\n",
    "print(list(r1), '\\n')\n",
    "print(list(r2), '\\n')\n",
    "print(list(r3), '\\n')\n",
    "\n",
    "#We see here that we are now iterating over the length of the 'w' list, as opposed to the actual values. It doesn't make much \n",
    "#of a difference here, but when we need to pass column values in dataframes, or string values to dictionaries, it's quite helpful\n",
    "for i in range(len(w)):\n",
    "    print(i, end=\" \")"
   ]
  },
  {
   "cell_type": "markdown",
   "metadata": {},
   "source": [
    "**Exercise 4**\n",
    "\n",
    "Looping:\n",
    "\n",
    "Let's try writing a loop, first the standard way, and after, the same loop with a lambda function.\n",
    "\n",
    "- Declare both a list of integers (my_list) and an empty list (new_list)\n",
    "- Write a loop that multiplies each item in the list 'my_list' by 2, and adds it to 'new_list'\n",
    "- print the 'new_list'"
   ]
  },
  {
   "cell_type": "code",
   "execution_count": 181,
   "metadata": {},
   "outputs": [
    {
     "name": "stdout",
     "output_type": "stream",
     "text": [
      "[4, 10, 24, 6.0, 22]\n"
     ]
    }
   ],
   "source": [
    "my_list = [2, 5, 12, 3.0, 11]\n",
    "new_list = []\n",
    "for item in my_list:\n",
    "    times_two = item*2\n",
    "    new_list.append(times_two)\n",
    "print(new_list)"
   ]
  },
  {
   "cell_type": "code",
   "execution_count": 183,
   "metadata": {},
   "outputs": [
    {
     "name": "stdout",
     "output_type": "stream",
     "text": [
      "[2, 5, 12, 3.0, 11]\n"
     ]
    }
   ],
   "source": [
    "my_list = [2, 5, 12, 3.0, 11]\n",
    "new_list = map(lambda x: x*2, my_list)\n",
    "print(list(my_list))"
   ]
  },
  {
   "cell_type": "markdown",
   "metadata": {},
   "source": [
    "<p><a name=\"ifelse\"></a></p>\n",
    "# If-Else Statement in Python\n",
    "\n",
    "**How to Write an If-Else Statement**\n",
    "F\n",
    "- The general syntax is straightforward\n",
    "- Make sure the indenting is correct"
   ]
  },
  {
   "cell_type": "code",
   "execution_count": 184,
   "metadata": {},
   "outputs": [
    {
     "name": "stdout",
     "output_type": "stream",
     "text": [
      "y is less than 3!:  1\n"
     ]
    }
   ],
   "source": [
    "#This is the general construction of an if-else statement\n",
    "from random import randint\n",
    "y = randint(0, 10)\n",
    "\n",
    "if y < 3:\n",
    "    print('y is less than 3!: ', y)\n",
    "elif y >= 3 and y < 7:\n",
    "    print('y is between 3 & 6!: ', y)\n",
    "else:\n",
    "    print('y is greater than 6!: ', y)"
   ]
  },
  {
   "cell_type": "markdown",
   "metadata": {},
   "source": [
    "**Python has another set of functionality call \"Try-Except\"**\n",
    "\n",
    "**This is commonly used in loops and if-else statements, and is quite handy!**\n",
    "\n",
    "- Try-except statements allow us to 'try' to perform an operation\n",
    "- if we fail to complete this operation, we simply proceed to the next statement without crashing our code\n",
    "- this is especially handy when parsing websites, where data may be delayed in loading\n",
    "- 'except' statements can specify a number of specific errors which may occur\n",
    "- once these errors have occured, specific corrective action can then be taken \n",
    "- for a complete list of exceptions and how to handle them, please visit https://wiki.python.org/moin/HandlingExceptions !"
   ]
  },
  {
   "cell_type": "code",
   "execution_count": 185,
   "metadata": {},
   "outputs": [
    {
     "name": "stdout",
     "output_type": "stream",
     "text": [
      "Dividing by Zero\n",
      "Dividing by Zero\n",
      "20.0\n",
      "14.0\n",
      "Dividing by Zero\n",
      "16.0\n",
      "8.0\n",
      "5.0\n",
      "5.0\n",
      "13.0\n",
      "11.0\n",
      "17.0\n",
      "9.0\n",
      "Dividing by Zero\n",
      "Dividing by Zero\n",
      "10.0\n",
      "Dividing by Zero\n",
      "Dividing by Zero\n",
      "Dividing by Zero\n",
      "Dividing by Zero\n",
      "Dividing by Zero\n",
      "Dividing by Zero\n",
      "7.0\n",
      "Dividing by Zero\n",
      "5.0\n",
      "Dividing by Zero\n",
      "Dividing by Zero\n",
      "0.0\n",
      "Dividing by Zero\n",
      "Dividing by Zero\n",
      "2.0\n",
      "9.0\n",
      "16.0\n",
      "Dividing by Zero\n",
      "Dividing by Zero\n",
      "17.0\n",
      "Dividing by Zero\n",
      "Dividing by Zero\n",
      "20.0\n",
      "Dividing by Zero\n",
      "Dividing by Zero\n",
      "10.0\n",
      "Dividing by Zero\n",
      "16.0\n",
      "Dividing by Zero\n",
      "Dividing by Zero\n",
      "Dividing by Zero\n",
      "16.0\n",
      "Dividing by Zero\n",
      "11.0\n"
     ]
    }
   ],
   "source": [
    "#For this example, we'll modify our if-else statement to include integers outside of the specified range\n",
    "\n",
    "#Create a 'for' loop which will iterate 50 times\n",
    "for i in range(50):\n",
    "    #For each loop, randomly select and x & y in the given ranges\n",
    "    x = randint(0, 20)\n",
    "    y = randint(0, 1)\n",
    "    #if the y-value is zero, divide x by y\n",
    "    try:\n",
    "        print(x/y)\n",
    "    #otherwise print'Dividing by Zero'\n",
    "    except ZeroDivisionError:\n",
    "        print('Dividing by Zero')\n",
    "    "
   ]
  },
  {
   "cell_type": "markdown",
   "metadata": {},
   "source": [
    "<p><a name=\"numpypandas\"></a></p>\n",
    "# Numpy and Pandas packages\n",
    "\n",
    "**Numpy & Pandas are two fundamental packages**\n",
    "\n",
    "- Numpy provides a host of array functions\n",
    "- Pandas is the main data frame package in Python\n",
    "- Pandas dataframes are Python objects\n",
    "- In the coming section we will explore some of their functionality"
   ]
  },
  {
   "cell_type": "markdown",
   "metadata": {},
   "source": [
    "#### Numpy (Array & Matrix Operations)\n",
    "\n",
    "\"NumPy’s main object is the homogeneous multidimensional array. It is a table of elements (usually numbers), all of the same type, indexed by a tuple of positive integers. In NumPy dimensions are called axes. The number of axes is rank.\"\n",
    "\n",
    "https://docs.scipy.org/doc/numpy-dev/user/quickstart.html"
   ]
  },
  {
   "cell_type": "code",
   "execution_count": 2,
   "metadata": {},
   "outputs": [
    {
     "name": "stdout",
     "output_type": "stream",
     "text": [
      "Matrix a's shape:  (3, 4) \n",
      "\n",
      "Matrix a's dimensions:  2 \n",
      "\n",
      "Matrix a's size:  12 \n",
      "\n"
     ]
    }
   ],
   "source": [
    "import numpy as np\n",
    "\n",
    "a = np.arange(12).reshape(3, 4)\n",
    "print(\"Matrix a's shape: \", a.shape, '\\n')\n",
    "print(\"Matrix a's dimensions: \", a.ndim, '\\n')\n",
    "print(\"Matrix a's size: \", a.size, '\\n')"
   ]
  },
  {
   "cell_type": "code",
   "execution_count": 3,
   "metadata": {},
   "outputs": [
    {
     "name": "stdout",
     "output_type": "stream",
     "text": [
      "[2 3 4 5 6] \n",
      "\n",
      "[[ 2  3  4  5  6]\n",
      " [ 7  8  9 10 11]] \n",
      "\n",
      "Array of Zeroes\n",
      "[[ 0.  0.  0.  0.]\n",
      " [ 0.  0.  0.  0.]\n",
      " [ 0.  0.  0.  0.]] \n",
      "\n",
      "Array of Ones\n",
      "[[ 1.  1.  1.  1.]\n",
      " [ 1.  1.  1.  1.]\n",
      " [ 1.  1.  1.  1.]]\n"
     ]
    }
   ],
   "source": [
    "#Arrays are declared in the following fashion\n",
    "b = np.array([2, 3, 4, 5, 6])\n",
    "c = np.array([[2, 3, 4, 5, 6], [7, 8, 9, 10, 11]]) #Notice the double outside brackets\n",
    "print(b, '\\n')\n",
    "print(c, '\\n')\n",
    "\n",
    "#Declare an array array of zeros\n",
    "d = np.zeros((3, 4))\n",
    "print('Array of Zeroes')\n",
    "print(d, '\\n')\n",
    "\n",
    "#Declare a matrix of ones\n",
    "e = np.ones((3, 4))\n",
    "print('Array of Ones')\n",
    "print(e)"
   ]
  },
  {
   "cell_type": "code",
   "execution_count": 4,
   "metadata": {},
   "outputs": [
    {
     "name": "stdout",
     "output_type": "stream",
     "text": [
      "[[ 3.33  3.33  3.33  3.33]\n",
      " [ 3.33  3.33  3.33  3.33]\n",
      " [ 3.33  3.33  3.33  3.33]] \n",
      "\n",
      "[[ 2.  2.  2.  2.]\n",
      " [ 2.  2.  2.  2.]\n",
      " [ 2.  2.  2.  2.]] \n",
      "\n"
     ]
    }
   ],
   "source": [
    "#Arithmetic operators on arrays apply elementwise. A new array is created and filled with the result.\n",
    "print(d + 3.33, '\\n') #See that 3.33 is added to each element in the array\n",
    "\n",
    "print(e * 2, '\\n') # '*' operator works elementwise"
   ]
  },
  {
   "cell_type": "code",
   "execution_count": 5,
   "metadata": {},
   "outputs": [
    {
     "name": "stdout",
     "output_type": "stream",
     "text": [
      "Sum a matrix:  12.0 \n",
      "\n",
      "Max of a matrix:  1.0 \n",
      "\n",
      "Min of a matrix:  1.0 \n",
      "\n",
      "Array F \n",
      "\n",
      "[0 1 2 3] \n",
      "\n",
      "Exponent of matrix :  [  1.           2.71828183   7.3890561   20.08553692] \n",
      "\n",
      "Square of matrix :  [ 0.          1.          1.41421356  1.73205081] \n",
      "\n"
     ]
    }
   ],
   "source": [
    "#Many unary operations, such as computing the \n",
    "#sum of all the elements in the array, are implemented as methods of the ndarray class.\n",
    "print('Sum a matrix: ', e.sum(), '\\n') #'e' was a 3x4 matrix of 1's\n",
    "print('Max of a matrix: ', e.max(), '\\n')\n",
    "print('Min of a matrix: ', e.min(), '\\n') #Max = Min since the matrix is only 1's\n",
    "\n",
    "f = np.arange(4)\n",
    "print('Array F', '\\n')\n",
    "print(f, '\\n')\n",
    "print('Exponent of matrix 'F': ', np.exp(f), '\\n')\n",
    "print('Square of matrix 'F': ', np.sqrt(f), '\\n')"
   ]
  },
  {
   "cell_type": "code",
   "execution_count": 6,
   "metadata": {},
   "outputs": [
    {
     "name": "stdout",
     "output_type": "stream",
     "text": [
      "Array G \n",
      "\n",
      "[ 0  1  2  3  4  5  6  7  8  9 10 11 12 13 14 15 16 17 18 19] \n",
      "\n",
      "The 4th element of G:  3 \n",
      "\n",
      "The 3rd - 5th elements of G:  [2 3 4]\n"
     ]
    }
   ],
   "source": [
    "#1-dimensional arrays can be sliced and indexed, similar to a list\n",
    "g = np.arange(20)\n",
    "print('Array G', '\\n')\n",
    "print(g, '\\n')\n",
    "print('The 4th element of G: ', g[3], '\\n')\n",
    "print('The 3rd - 5th elements of G: ', g[2:5])"
   ]
  },
  {
   "cell_type": "markdown",
   "metadata": {},
   "source": [
    "Numpy arrays support extensively more functionality for matrix indexing and operations. For more on these data types, please reference https://docs.scipy.org/doc/numpy-dev/user/quickstart.html"
   ]
  },
  {
   "cell_type": "markdown",
   "metadata": {},
   "source": [
    "#### Pandas (Dataframe objects)\n",
    "\n",
    "Pandas is the primary dataframe package in Python. Dataframes are declared and treated as objects, with a host of useful functionality. We'll take a look at some of the most common uses and functions, but for a full deep dive into Pandas, please visit the Pandas documentation website:\n",
    "\n",
    "https://pandas.pydata.org/pandas-docs/stable/generated/pandas.DataFrame.html"
   ]
  },
  {
   "cell_type": "code",
   "execution_count": 7,
   "metadata": {},
   "outputs": [
    {
     "name": "stdout",
     "output_type": "stream",
     "text": [
      "      col_1 col_2 col_3\n",
      "val_1     1     2     3\n",
      "val_2     4     5     a\n",
      "val_3     b     c     d\n",
      "val_4     e     7     8\n",
      "val_5     9    10    11 \n",
      "\n",
      "  Juan Kelly Mike Pete\n",
      "0    A     A    B    C\n",
      "1   A+    B+   C+   D+\n",
      "2   B-    C-   A-   B-\n",
      "3   B+    A-   A-    B \n",
      "\n",
      "                              names   platform\n",
      "timestamps                                    \n",
      "2015-08-30 07:56:28     Olivia Munn    Youtube\n",
      "2015-08-30 08:56:28  Vivika Salazar   Snapchat\n",
      "2015-08-30 09:56:28      David Chen    Youtube\n",
      "2015-08-30 10:56:28   Juan Williams  Instagram\n",
      "2015-08-30 11:56:28     Olivia Munn    Twitter \n",
      "\n"
     ]
    }
   ],
   "source": [
    "#Declaring Pandas dataframes can be done in a number of ways. We can declare dataframes from numpy arrays, \n",
    "#dictionaries, or csv/text files.\n",
    "import os\n",
    "import json\n",
    "import pandas as pd\n",
    "\n",
    "#Create a pandas dataframe from numpy arrays\n",
    "a = np.array([[1, 2, 3, 4, 5],\n",
    "             ['a', 'b', 'c', 'd', 'e'],\n",
    "             [7, 8, 9, 10, 11]]).reshape(5, 3)\n",
    "b = ['col_1', 'col_2', 'col_3']\n",
    "c = ['val_1', 'val_2', 'val_3', 'val_4', 'val_5']\n",
    "\n",
    "array_df = pd.DataFrame(data = a, columns = b, index =c)\n",
    "print(array_df, '\\n')\n",
    "\n",
    "#Declare a Pandas dataframe from a dictionary\n",
    "students = {'Kelly': ['A', 'B+', 'C-', 'A-'],\n",
    "           'Mike': ['B', 'C+', 'A-', 'A-'],\n",
    "           'Pete': ['C', 'D+', 'B-', 'B'],\n",
    "           'Juan': ['A', 'A+', 'B-', 'B+']}\n",
    "dict_df = pd.DataFrame.from_dict(students, orient='columns') #default is for the dictionary keys to be columns. For the keys \n",
    "print(dict_df, '\\n')                                              #to be row indices, specify orient='index'\n",
    "\n",
    "csv_df = pd.DataFrame.from_csv('social_data.csv', index_col = 'timestamps')\n",
    "print(csv_df.head(), '\\n')"
   ]
  },
  {
   "cell_type": "markdown",
   "metadata": {},
   "source": [
    "#### Pandas Dataframe Operations\n",
    "\n",
    "Now that we've seen how to create a Pandas dataframe from several different inputs, let's take a look at some of the operations we can perform on a dataframe"
   ]
  },
  {
   "cell_type": "code",
   "execution_count": 9,
   "metadata": {},
   "outputs": [
    {
     "name": "stdout",
     "output_type": "stream",
     "text": [
      ".head() function: \n",
      "                              names   platform\n",
      "timestamps                                    \n",
      "2015-08-30 07:56:28     Olivia Munn    Youtube\n",
      "2015-08-30 08:56:28  Vivika Salazar   Snapchat\n",
      "2015-08-30 09:56:28      David Chen    Youtube\n",
      "2015-08-30 10:56:28   Juan Williams  Instagram\n",
      "2015-08-30 11:56:28     Olivia Munn    Twitter \n",
      "\n",
      ".tail() function: \n",
      "                              names   platform\n",
      "timestamps                                    \n",
      "2017-08-09 09:52:46  Josh Escalante    Youtube\n",
      "2017-08-09 10:52:47  Josh Escalante    Youtube\n",
      "2017-08-09 11:52:57   Juan Williams    Twitter\n",
      "2017-08-09 12:53:06   Gerald Butler  Instagram\n",
      "2017-08-09 13:23:06  Vivika Salazar   Snapchat \n",
      "\n",
      "Let's see if there are any Null values in our dataframe:  \n",
      "\n",
      "names       0\n",
      "platform    0\n",
      "dtype: int64 \n",
      "\n",
      "Check the shape of the dataframe: \n",
      "(17006, 2) rows x columns \n",
      "\n",
      "Let's look at the mode:  0    Olivia Munn\n",
      "dtype: object \n",
      "\n"
     ]
    }
   ],
   "source": [
    "#To check only the first few rows of a dataframe, we can call the '.head()' function\n",
    "print('.head() function: ')\n",
    "print(csv_df.head(), '\\n')\n",
    "\n",
    "#Or to check the last few entries, we can use the '.tail()' function\n",
    "print('.tail() function: ')\n",
    "print(csv_df.tail(), '\\n')\n",
    "\n",
    "#If we'd like to check and see if there are any 'NA's' in our dataframe, we can simply call the '.isnull()' function followed by \n",
    "#the '.sum()' function\n",
    "print(\"Let's see if there are any Null values in our dataframe: \", '\\n')\n",
    "print(csv_df.isnull().sum(), '\\n')\n",
    "\n",
    "#Now we can check the shape (dimensionality of our dataframe)\n",
    "print('Check the shape of the dataframe: ')\n",
    "print(csv_df.shape, 'rows x columns', '\\n')\n",
    "\n",
    "#What if we want to see the most frequent value in the 'names' column?\n",
    "print(\"Let's look at the mode: \", csv_df['names'].mode(), '\\n')"
   ]
  },
  {
   "cell_type": "markdown",
   "metadata": {},
   "source": [
    "#### Pandas subsetting operations \n",
    "\n",
    "Pandas dataframes can be subset similar to R dataframes (if you're familiar with R). The syntax is straightforward and intuitive. We'll now look at some examples"
   ]
  },
  {
   "cell_type": "code",
   "execution_count": 10,
   "metadata": {},
   "outputs": [
    {
     "name": "stdout",
     "output_type": "stream",
     "text": [
      "timestamps\n",
      "2015-08-30 07:56:28      Youtube\n",
      "2015-08-30 08:56:28     Snapchat\n",
      "2015-08-30 09:56:28      Youtube\n",
      "2015-08-30 10:56:28    Instagram\n",
      "2015-08-30 11:56:28      Twitter\n",
      "Name: platform, dtype: object \n",
      "\n",
      "                              names  platform\n",
      "timestamps                                   \n",
      "2015-08-30 13:56:28   Gerald Butler  Facebook\n",
      "2015-08-30 15:56:28  Josh Escalante  Facebook\n",
      "2015-08-30 23:56:28     Olivia Munn  Facebook\n",
      "2015-08-31 03:56:28  Josh Escalante  Facebook\n",
      "2015-08-31 07:56:28      David Chen  Facebook \n",
      "\n",
      "timestamps\n",
      "2015-08-30 13:56:28     Gerald Butler\n",
      "2015-08-30 15:56:28    Josh Escalante\n",
      "2015-08-30 23:56:28       Olivia Munn\n",
      "2015-08-31 03:56:28    Josh Escalante\n",
      "2015-08-31 07:56:28        David Chen\n",
      "Name: names, dtype: object \n",
      "\n",
      "                           names   platform\n",
      "timestamps                                 \n",
      "2015-09-02 05:56:28  Olivia Munn  Instagram\n",
      "2015-09-08 10:56:28  Olivia Munn  Instagram\n",
      "2015-09-12 09:56:28  Olivia Munn  Instagram\n",
      "2015-09-13 16:56:28  Olivia Munn  Instagram\n",
      "2015-09-15 09:56:28  Olivia Munn  Instagram \n",
      "\n",
      "timestamps\n",
      "2015-08-30 07:56:28       Olivia Munn\n",
      "2015-08-30 08:56:28    Vivika Salazar\n",
      "2015-08-30 09:56:28        David Chen\n",
      "2015-08-30 10:56:28     Juan Williams\n",
      "2015-08-30 11:56:28       Olivia Munn\n",
      "Name: names, dtype: object \n",
      "\n"
     ]
    },
    {
     "data": {
      "text/plain": [
       "names       Gerald Butler\n",
       "platform         Facebook\n",
       "Name: 2015-08-30 13:56:28, dtype: object"
      ]
     },
     "execution_count": 10,
     "metadata": {},
     "output_type": "execute_result"
    }
   ],
   "source": [
    "#Let's select the 'Platform' column of the csv_df dataframe\n",
    "print(csv_df['platform'].head(), '\\n')  #The '.head()' is for simplicities sake\n",
    "\n",
    "#Now let's select the entire csv_df dataframe where 'platform' = Facebook\n",
    "print(csv_df[csv_df['platform'] == 'Facebook'].head(), '\\n')\n",
    "\n",
    "#What if we want to select the values all the 'names' entries in the 'names' column where she logged into 'Facebook' in the \n",
    "#'platform' column?\n",
    "print(csv_df['names'][csv_df['platform'] == 'Facebook'].head(), '\\n')\n",
    "\n",
    "#Next, let's combine two conditions - let's select all the 'names' which equal 'Olivia Munn' and all the 'platform' values\n",
    "#that equal 'Instagram':\n",
    "\n",
    "print(csv_df[(csv_df['names'] == 'Olivia Munn') & (csv_df['platform'] == 'Instagram')].head(), '\\n')\n",
    "\n",
    "#What if we want to select a specific column/rows by the place in the index (number)? For these operations, we can use '.iloc' \n",
    "#and '.loc':\n",
    "\n",
    "#Let's select the 1st 5 'names' values. iloc is used to select values by index number\n",
    "print(csv_df.iloc[0:5, 0], '\\n')\n",
    "\n",
    "#'loc' is used to select values by index name. Let's select the '2015-08-30 13:56:28' entry in our index\n",
    "csv_df.loc['2015-08-30 13:56:28']\n",
    "#And we see that have all the information for this row in our index"
   ]
  },
  {
   "cell_type": "code",
   "execution_count": 11,
   "metadata": {},
   "outputs": [
    {
     "name": "stdout",
     "output_type": "stream",
     "text": [
      "Subset according to 'names' = 'Josh Escalante':  \n",
      "\n",
      "                              names   platform\n",
      "timestamps                                    \n",
      "2015-08-30 15:56:28  Josh Escalante   Facebook\n",
      "2015-08-30 17:56:28  Josh Escalante  Instagram\n",
      "2015-08-31 03:56:28  Josh Escalante   Facebook\n",
      "2015-08-31 12:56:28  Josh Escalante    Youtube\n",
      "2015-09-01 05:56:28  Josh Escalante    Twitter \n",
      "\n",
      "Most frequently visited:  \n",
      "\n",
      "           names\n",
      "platform        \n",
      "Facebook    3416\n",
      "Instagram   3467\n",
      "Snapchat    3349\n",
      "Twitter     3346\n",
      "Youtube     3428 \n",
      "\n",
      "The most often used platforms are:  \n",
      "\n",
      "How many times has each person used these platforms? \n",
      "\n",
      "Vivika Salazar \n",
      " Youtube      517\n",
      "Snapchat     478\n",
      "Facebook     470\n",
      "Instagram    469\n",
      "Twitter      458\n",
      "Name: platform, dtype: int64 \n",
      "\n",
      "Josh Escalante \n",
      " Youtube      510\n",
      "Snapchat     494\n",
      "Instagram    491\n",
      "Twitter      468\n",
      "Facebook     450\n",
      "Name: platform, dtype: int64 \n",
      "\n",
      "David Chen \n",
      " Instagram    525\n",
      "Facebook     510\n",
      "Snapchat     506\n",
      "Youtube      464\n",
      "Twitter      455\n",
      "Name: platform, dtype: int64 \n",
      "\n",
      "Olivia Munn \n",
      " Instagram    521\n",
      "Twitter      519\n",
      "Facebook     503\n",
      "Youtube      482\n",
      "Snapchat     470\n",
      "Name: platform, dtype: int64 \n",
      "\n",
      "Gerald Butler \n",
      " Instagram    514\n",
      "Twitter      503\n",
      "Youtube      492\n",
      "Facebook     487\n",
      "Snapchat     473\n",
      "Name: platform, dtype: int64 \n",
      "\n",
      "Juan Williams \n",
      " Facebook     498\n",
      "Youtube      488\n",
      "Twitter      484\n",
      "Instagram    470\n",
      "Snapchat     460\n",
      "Name: platform, dtype: int64 \n",
      "\n",
      "Teddy Bridgewater \n",
      " Facebook     498\n",
      "Instagram    477\n",
      "Youtube      475\n",
      "Snapchat     468\n",
      "Twitter      459\n",
      "Name: platform, dtype: int64 \n",
      "\n",
      "names              platform \n",
      "David Chen         Facebook     510\n",
      "                   Instagram    525\n",
      "                   Snapchat     506\n",
      "                   Twitter      455\n",
      "                   Youtube      464\n",
      "Gerald Butler      Facebook     487\n",
      "                   Instagram    514\n",
      "                   Snapchat     473\n",
      "                   Twitter      503\n",
      "                   Youtube      492\n",
      "Josh Escalante     Facebook     450\n",
      "                   Instagram    491\n",
      "                   Snapchat     494\n",
      "                   Twitter      468\n",
      "                   Youtube      510\n",
      "Juan Williams      Facebook     498\n",
      "                   Instagram    470\n",
      "                   Snapchat     460\n",
      "                   Twitter      484\n",
      "                   Youtube      488\n",
      "Olivia Munn        Facebook     503\n",
      "                   Instagram    521\n",
      "                   Snapchat     470\n",
      "                   Twitter      519\n",
      "                   Youtube      482\n",
      "Teddy Bridgewater  Facebook     498\n",
      "                   Instagram    477\n",
      "                   Snapchat     468\n",
      "                   Twitter      459\n",
      "                   Youtube      475\n",
      "Vivika Salazar     Facebook     470\n",
      "                   Instagram    469\n",
      "                   Snapchat     478\n",
      "                   Twitter      458\n",
      "                   Youtube      517\n",
      "Name: platform, dtype: int64\n"
     ]
    }
   ],
   "source": [
    "#Now let's perform some subsetting operations on the 'csv_df' dataframe\n",
    "#How about we select all of the 'Josh Escalante' entries in the dataframe\n",
    "print(\"Subset according to 'names' = 'Josh Escalante': \", '\\n')\n",
    "#Now we a separate dataframe that is a subset of the original, where 'names' = 'Josh Escalante'\n",
    "josh = csv_df[csv_df['names'] == 'Josh Escalante']\n",
    "print(josh.head(), '\\n')\n",
    "\n",
    "#What if we want to see what the most frequently visited platforms for each person are?\n",
    "print('Most frequently visited: ', '\\n')\n",
    "print(csv_df.groupby(csv_df['platform']).count(), '\\n')\n",
    "\n",
    "#let's what what the most often used platforms are:\n",
    "print('The most often used platforms are: ', '\\n')\n",
    "csv_df['platform'].value_counts()\n",
    "\n",
    "#What if we want to see how many times each person used each of the platforms?\n",
    "#We can do this two ways. The longer, but \"subsettable\" way would be like this:\n",
    "print('How many times has each person used these platforms?', '\\n')\n",
    "for name in set(csv_df['names']):\n",
    "    print(name, '\\n', csv_df[csv_df['names'] == name]['platform'].value_counts(), '\\n')\n",
    "    \n",
    "#The cleaner way would be the following:\n",
    "print(csv_df.groupby(['names', 'platform'])['platform'].count())"
   ]
  },
  {
   "cell_type": "code",
   "execution_count": 12,
   "metadata": {},
   "outputs": [
    {
     "name": "stdout",
     "output_type": "stream",
     "text": [
      "711\n"
     ]
    }
   ],
   "source": [
    "#Let's now answer some additonal questions surrounding our data set\n",
    "\n",
    "#1. How many days are we observing in our data set?\n",
    "\n",
    "#Let's first add the individual days as a column to our dataframe\n",
    "csv_df['date'] = csv_df.index.date\n",
    "\n",
    "#Now let's take the lenght of the set of the values in this column\n",
    "print(len(set(csv_df['date'])))"
   ]
  },
  {
   "cell_type": "code",
   "execution_count": 13,
   "metadata": {},
   "outputs": [
    {
     "name": "stdout",
     "output_type": "stream",
     "text": [
      "Answer 2.A:  \n",
      "\n",
      "Olivia Munn          2495\n",
      "Gerald Butler        2469\n",
      "David Chen           2460\n",
      "Josh Escalante       2413\n",
      "Juan Williams        2400\n",
      "Vivika Salazar       2392\n",
      "Teddy Bridgewater    2377\n",
      "Name: names, dtype: int64 \n",
      "\n",
      "Vivika Salazar :  691\n",
      "Josh Escalante :  696\n",
      "David Chen :  693\n",
      "Olivia Munn :  692\n",
      "Gerald Butler :  697\n",
      "Juan Williams :  698\n",
      "Teddy Bridgewater :  697\n"
     ]
    }
   ],
   "source": [
    "#2.A Which users had the most active social media sessions?\n",
    "print('Answer 2.A: ', '\\n')\n",
    "print(csv_df['names'].value_counts(), '\\n')\n",
    "\n",
    "#2.B Which users were active the most number of days?\n",
    "for i in set(csv_df['names']):\n",
    "    print(i, \": \", len(set(csv_df['date'][csv_df['names']==i])))"
   ]
  },
  {
   "cell_type": "markdown",
   "metadata": {},
   "source": [
    "**Exercise 5**\n",
    "\n",
    "Determine the following:\n",
    "\n",
    "- Who used Facebook most frequntly?\n",
    "- Answer 2.B (Which users were active the most number of days?) using the \"groupby\" function"
   ]
  },
  {
   "cell_type": "code",
   "execution_count": 14,
   "metadata": {},
   "outputs": [
    {
     "name": "stdout",
     "output_type": "stream",
     "text": [
      "Method 1:  \n",
      "\n",
      "Vivika Salazar :  Facebook    470\n",
      "Name: platform, dtype: int64 \n",
      "\n",
      "Josh Escalante :  Facebook    450\n",
      "Name: platform, dtype: int64 \n",
      "\n",
      "David Chen :  Facebook    510\n",
      "Name: platform, dtype: int64 \n",
      "\n",
      "Olivia Munn :  Facebook    503\n",
      "Name: platform, dtype: int64 \n",
      "\n",
      "Gerald Butler :  Facebook    487\n",
      "Name: platform, dtype: int64 \n",
      "\n",
      "Juan Williams :  Facebook    498\n",
      "Name: platform, dtype: int64 \n",
      "\n",
      "Teddy Bridgewater :  Facebook    498\n",
      "Name: platform, dtype: int64 \n",
      "\n",
      "Method 2  \n",
      "\n"
     ]
    },
    {
     "data": {
      "text/plain": [
       "names              platform \n",
       "David Chen         Facebook     510\n",
       "                   Instagram    525\n",
       "                   Snapchat     506\n",
       "                   Twitter      455\n",
       "                   Youtube      464\n",
       "Gerald Butler      Facebook     487\n",
       "                   Instagram    514\n",
       "                   Snapchat     473\n",
       "                   Twitter      503\n",
       "                   Youtube      492\n",
       "Josh Escalante     Facebook     450\n",
       "                   Instagram    491\n",
       "                   Snapchat     494\n",
       "                   Twitter      468\n",
       "                   Youtube      510\n",
       "Juan Williams      Facebook     498\n",
       "                   Instagram    470\n",
       "                   Snapchat     460\n",
       "                   Twitter      484\n",
       "                   Youtube      488\n",
       "Olivia Munn        Facebook     503\n",
       "                   Instagram    521\n",
       "                   Snapchat     470\n",
       "                   Twitter      519\n",
       "                   Youtube      482\n",
       "Teddy Bridgewater  Facebook     498\n",
       "                   Instagram    477\n",
       "                   Snapchat     468\n",
       "                   Twitter      459\n",
       "                   Youtube      475\n",
       "Vivika Salazar     Facebook     470\n",
       "                   Instagram    469\n",
       "                   Snapchat     478\n",
       "                   Twitter      458\n",
       "                   Youtube      517\n",
       "Name: date, dtype: int64"
      ]
     },
     "execution_count": 14,
     "metadata": {},
     "output_type": "execute_result"
    }
   ],
   "source": [
    "#Hint: very similar to what we did previously, I just passed an extra parameter to the filter so we only see the FB results\n",
    "print('Method 1: ', '\\n')\n",
    "for i in set(csv_df['names']):\n",
    "    print(i, \": \", csv_df['platform'][(csv_df['names']==i) & (csv_df['platform']=='Facebook')].value_counts(), '\\n')\n",
    "    \n",
    "print('Method 2 ', '\\n')\n",
    "csv_df.groupby(['names', 'platform'])['date'].count()"
   ]
  },
  {
   "cell_type": "code",
   "execution_count": 15,
   "metadata": {},
   "outputs": [
    {
     "name": "stdout",
     "output_type": "stream",
     "text": [
      "Method 1:  \n",
      "\n",
      "Vivika Salazar  : 691\n",
      "Josh Escalante  : 696\n",
      "David Chen  : 693\n",
      "Olivia Munn  : 692\n",
      "Gerald Butler  : 697\n",
      "Juan Williams  : 698\n",
      "Teddy Bridgewater  : 697\n",
      "\n",
      " Method 2: \n"
     ]
    },
    {
     "data": {
      "text/plain": [
       "names\n",
       "David Chen           693\n",
       "Gerald Butler        697\n",
       "Josh Escalante       696\n",
       "Juan Williams        698\n",
       "Olivia Munn          692\n",
       "Teddy Bridgewater    697\n",
       "Vivika Salazar       691\n",
       "Name: date, dtype: int64"
      ]
     },
     "execution_count": 15,
     "metadata": {},
     "output_type": "execute_result"
    }
   ],
   "source": [
    "#2.B\n",
    "print('Method 1: ', '\\n')\n",
    "for i in set(csv_df['names']):\n",
    "    print(i, \" :\", len(set(csv_df['date'][csv_df['names']==i])))\n",
    "    \n",
    "print('\\n', 'Method 2: ')\n",
    "csv_df.groupby(['names'])['date'].nunique()"
   ]
  },
  {
   "cell_type": "markdown",
   "metadata": {},
   "source": [
    "<p><a name=\"joins\"></a></p>\n",
    "# Pandas-Join functionality\n",
    "\n",
    "**Pandas has merge, join & concatenate implemented similar to SQL**\n",
    "\n",
    "- Pandas leverages SQL-type implementation to join data sets\n",
    "- These functions provide excellent capability\n",
    "- Pandas joins are very versatile\n",
    "\n",
    "Visit https://pandas.pydata.org/pandas-docs/stable/merging.html for a complete overview!"
   ]
  },
  {
   "cell_type": "markdown",
   "metadata": {},
   "source": [
    "#### There are four main join-types in Pandas:\n",
    "\n",
    "|**Python**|  **SQL**  |**Description**|\n",
    "|----------|-----------|---------------|\n",
    "|**left**|**LEFT OUTER**|Match keys in the left data frame|\n",
    "|**right**|**RIGHT OUTER**|Match keys in the right data frame| \n",
    "|**outer**|**OUTER JOIN**|Match keys in the both data frame|   \n",
    "|**innter**|**INNER JOIN**|Match keys present in both data frames| \n",
    "\n",
    "- These joins are all present in SQL and we'll demonstrate how they can be implemented in Python. Let's look at some examples\n",
    "- Suppose one of your friends wanted to get some stats surrounding 90's basketball players, and you (being a Python whiz) decided to help\n",
    "- You first want to combine the tables in different ways to demonstrate to your friend just how good your skills are!\n",
    "\n",
    "Let's see how we can do this"
   ]
  },
  {
   "cell_type": "code",
   "execution_count": 16,
   "metadata": {},
   "outputs": [
    {
     "name": "stdout",
     "output_type": "stream",
     "text": [
      "Table columns:  \n",
      "\n",
      "Index(['points', 'rebounds', 'assists'], dtype='object') \n",
      "\n",
      "Index(['city', 'state'], dtype='object') \n",
      "\n",
      "Table 1 data types:  \n",
      " points      int64\n",
      "rebounds    int64\n",
      "assists     int64\n",
      "dtype: object \n",
      "\n",
      "Table 2 data types:  \n",
      " city     object\n",
      "state    object\n",
      "dtype: object \n",
      "\n",
      "Table_1: \n",
      "                 points  rebounds  assists\n",
      "name                                      \n",
      "Grant Hill         1640       656      492\n",
      "Penny Hardaway     1804       738      410\n",
      "Alonzo Mourning    1066       984      328\n",
      "Charles Oakley      873       902      164\n",
      "John Stockton      1211       410      902 \n",
      "\n",
      "Table_2 \n",
      "\n",
      "                           city state\n",
      "name                                 \n",
      "Alonzo Mourning           Miami    FL\n",
      "Charles Oakley         New York    NY\n",
      "John Stockton    Salt Lake City    UT\n",
      "Karl Malone      Salt Lake City    UT\n",
      "Michael Jordan          Chicago    IL \n",
      "\n"
     ]
    }
   ],
   "source": [
    "table_1 = pd.DataFrame.from_csv('nba_1.csv')\n",
    "table_2 = pd.DataFrame.from_csv('nba_2.csv')\n",
    "\n",
    "\n",
    "#Let's take a look at the columns names and data types\n",
    "print('Table columns: ', '\\n')\n",
    "print(table_1.columns, '\\n')\n",
    "print(table_2.columns, '\\n')\n",
    "\n",
    "print('Table 1 data types: ', '\\n', table_1.dtypes, '\\n')\n",
    "print('Table 2 data types: ', '\\n', table_2.dtypes, '\\n')\n",
    "\n",
    "#Finally let's examine the first few lines of each data frame\n",
    "print('Table_1: ')\n",
    "print(table_1.head(), '\\n')\n",
    "print('Table_2', '\\n')\n",
    "print(table_2.head(), '\\n')"
   ]
  },
  {
   "cell_type": "markdown",
   "metadata": {},
   "source": [
    "- Now let's try joining table 1 and table 2 on the index\n",
    "- The basic syntax for a 'merge' in Python is: \n",
    "\n",
    "**result = pd.merge(left, right, how='outer', on=['key1', 'key2'])**\n",
    "\n",
    "Where **'how'** can be: **outer, inner, left or right** (similar to SQL)\n",
    "\n",
    "If you're going to join on the column indices, specify which index is present for comparison. \n",
    "\n",
    "In the following examples we'll see that even though the dimensions of our data set are different, by specifying both **'right'** and **'left'** index, we can find the correct values to assing to each time series observation in our data set.\n",
    "\n",
    "Let's take a look first at how to merge on the index of two dataframes:"
   ]
  },
  {
   "cell_type": "code",
   "execution_count": 17,
   "metadata": {},
   "outputs": [
    {
     "data": {
      "text/html": [
       "<div>\n",
       "<style>\n",
       "    .dataframe thead tr:only-child th {\n",
       "        text-align: right;\n",
       "    }\n",
       "\n",
       "    .dataframe thead th {\n",
       "        text-align: left;\n",
       "    }\n",
       "\n",
       "    .dataframe tbody tr th {\n",
       "        vertical-align: top;\n",
       "    }\n",
       "</style>\n",
       "<table border=\"1\" class=\"dataframe\">\n",
       "  <thead>\n",
       "    <tr style=\"text-align: right;\">\n",
       "      <th></th>\n",
       "      <th>points</th>\n",
       "      <th>rebounds</th>\n",
       "      <th>assists</th>\n",
       "      <th>city</th>\n",
       "      <th>state</th>\n",
       "    </tr>\n",
       "    <tr>\n",
       "      <th>name</th>\n",
       "      <th></th>\n",
       "      <th></th>\n",
       "      <th></th>\n",
       "      <th></th>\n",
       "      <th></th>\n",
       "    </tr>\n",
       "  </thead>\n",
       "  <tbody>\n",
       "    <tr>\n",
       "      <th>Alonzo Mourning</th>\n",
       "      <td>1066</td>\n",
       "      <td>984</td>\n",
       "      <td>328</td>\n",
       "      <td>Miami</td>\n",
       "      <td>FL</td>\n",
       "    </tr>\n",
       "    <tr>\n",
       "      <th>Charles Oakley</th>\n",
       "      <td>873</td>\n",
       "      <td>902</td>\n",
       "      <td>164</td>\n",
       "      <td>New York</td>\n",
       "      <td>NY</td>\n",
       "    </tr>\n",
       "    <tr>\n",
       "      <th>John Stockton</th>\n",
       "      <td>1211</td>\n",
       "      <td>410</td>\n",
       "      <td>902</td>\n",
       "      <td>Salt Lake City</td>\n",
       "      <td>UT</td>\n",
       "    </tr>\n",
       "    <tr>\n",
       "      <th>Karl Malone</th>\n",
       "      <td>1524</td>\n",
       "      <td>1066</td>\n",
       "      <td>328</td>\n",
       "      <td>Salt Lake City</td>\n",
       "      <td>UT</td>\n",
       "    </tr>\n",
       "    <tr>\n",
       "      <th>Michael Jordan</th>\n",
       "      <td>1856</td>\n",
       "      <td>574</td>\n",
       "      <td>656</td>\n",
       "      <td>Chicago</td>\n",
       "      <td>IL</td>\n",
       "    </tr>\n",
       "    <tr>\n",
       "      <th>Clyde Drexler</th>\n",
       "      <td>1403</td>\n",
       "      <td>492</td>\n",
       "      <td>697</td>\n",
       "      <td>Houston</td>\n",
       "      <td>TX</td>\n",
       "    </tr>\n",
       "  </tbody>\n",
       "</table>\n",
       "</div>"
      ],
      "text/plain": [
       "                 points  rebounds  assists            city state\n",
       "name                                                            \n",
       "Alonzo Mourning    1066       984      328           Miami    FL\n",
       "Charles Oakley      873       902      164        New York    NY\n",
       "John Stockton      1211       410      902  Salt Lake City    UT\n",
       "Karl Malone        1524      1066      328  Salt Lake City    UT\n",
       "Michael Jordan     1856       574      656         Chicago    IL\n",
       "Clyde Drexler      1403       492      697         Houston    TX"
      ]
     },
     "execution_count": 17,
     "metadata": {},
     "output_type": "execute_result"
    }
   ],
   "source": [
    "#Let's join our tables\n",
    "player_totals = pd.merge(table_1, table_2, left_index = True, right_index = True)\n",
    "player_totals"
   ]
  },
  {
   "cell_type": "markdown",
   "metadata": {},
   "source": [
    "- We see here that we were able to merge two dataframes according to the pandas merge default type, which is **\"inner\"**. We can see this because we only have 6 entries which were common to both data frames.\n",
    "\n",
    "Now let's try some of these different joins when we're not using the index to join on and see what happens:"
   ]
  },
  {
   "cell_type": "code",
   "execution_count": 22,
   "metadata": {},
   "outputs": [
    {
     "name": "stdout",
     "output_type": "stream",
     "text": [
      "Right Join keeps all the data in the right table, and matches the left side against the right \n",
      "\n",
      "   index_x             name  points  rebounds  assists  index_y  \\\n",
      "0      2.0  Alonzo Mourning  1066.0     984.0    328.0        0   \n",
      "1      3.0   Charles Oakley   873.0     902.0    164.0        1   \n",
      "2      4.0    John Stockton  1211.0     410.0    902.0        2   \n",
      "3      5.0      Karl Malone  1524.0    1066.0    328.0        3   \n",
      "4      6.0   Michael Jordan  1856.0     574.0    656.0        4   \n",
      "5      7.0    Clyde Drexler  1403.0     492.0    697.0        5   \n",
      "6      NaN  Hakeem Olajuwan     NaN       NaN      NaN        6   \n",
      "7      NaN  Mookie Blaylock     NaN       NaN      NaN        7   \n",
      "\n",
      "             city state  \n",
      "0           Miami    FL  \n",
      "1        New York    NY  \n",
      "2  Salt Lake City    UT  \n",
      "3  Salt Lake City    UT  \n",
      "4         Chicago    IL  \n",
      "5         Houston    TX  \n",
      "6         Houston    TX  \n",
      "7         Atlanta    GA   \n",
      "\n",
      "Left Join does the opposite - matches the right table against the left \n",
      "\n",
      "   index_x             name  points  rebounds  assists  index_y  \\\n",
      "0        0       Grant Hill    1640       656      492      NaN   \n",
      "1        1   Penny Hardaway    1804       738      410      NaN   \n",
      "2        2  Alonzo Mourning    1066       984      328      0.0   \n",
      "3        3   Charles Oakley     873       902      164      1.0   \n",
      "4        4    John Stockton    1211       410      902      2.0   \n",
      "5        5      Karl Malone    1524      1066      328      3.0   \n",
      "6        6   Michael Jordan    1856       574      656      4.0   \n",
      "7        7    Clyde Drexler    1403       492      697      5.0   \n",
      "\n",
      "             city state  \n",
      "0             NaN   NaN  \n",
      "1             NaN   NaN  \n",
      "2           Miami    FL  \n",
      "3        New York    NY  \n",
      "4  Salt Lake City    UT  \n",
      "5  Salt Lake City    UT  \n",
      "6         Chicago    IL  \n",
      "7         Houston    TX   \n",
      "\n",
      "Inner Join only takes the common keys to both \n",
      "\n",
      "   index_x             name  points  rebounds  assists  index_y  \\\n",
      "0        2  Alonzo Mourning    1066       984      328        0   \n",
      "1        3   Charles Oakley     873       902      164        1   \n",
      "2        4    John Stockton    1211       410      902        2   \n",
      "3        5      Karl Malone    1524      1066      328        3   \n",
      "4        6   Michael Jordan    1856       574      656        4   \n",
      "5        7    Clyde Drexler    1403       492      697        5   \n",
      "\n",
      "             city state  \n",
      "0           Miami    FL  \n",
      "1        New York    NY  \n",
      "2  Salt Lake City    UT  \n",
      "3  Salt Lake City    UT  \n",
      "4         Chicago    IL  \n",
      "5         Houston    TX   \n",
      "\n",
      "Outer Join keeps all the rows from both tables, filling in data when its available \n",
      "\n",
      "   index_x             name  points  rebounds  assists  index_y  \\\n",
      "0      0.0       Grant Hill  1640.0     656.0    492.0      NaN   \n",
      "1      1.0   Penny Hardaway  1804.0     738.0    410.0      NaN   \n",
      "2      2.0  Alonzo Mourning  1066.0     984.0    328.0      0.0   \n",
      "3      3.0   Charles Oakley   873.0     902.0    164.0      1.0   \n",
      "4      4.0    John Stockton  1211.0     410.0    902.0      2.0   \n",
      "5      5.0      Karl Malone  1524.0    1066.0    328.0      3.0   \n",
      "6      6.0   Michael Jordan  1856.0     574.0    656.0      4.0   \n",
      "7      7.0    Clyde Drexler  1403.0     492.0    697.0      5.0   \n",
      "8      NaN  Hakeem Olajuwan     NaN       NaN      NaN      6.0   \n",
      "9      NaN  Mookie Blaylock     NaN       NaN      NaN      7.0   \n",
      "\n",
      "             city state  \n",
      "0             NaN   NaN  \n",
      "1             NaN   NaN  \n",
      "2           Miami    FL  \n",
      "3        New York    NY  \n",
      "4  Salt Lake City    UT  \n",
      "5  Salt Lake City    UT  \n",
      "6         Chicago    IL  \n",
      "7         Houston    TX  \n",
      "8         Houston    TX  \n",
      "9         Atlanta    GA   \n",
      "\n"
     ]
    }
   ],
   "source": [
    "#First we'll make the index a column, and use that column to perform our right join\n",
    "table_2.reset_index(inplace=True)\n",
    "table_1.reset_index(inplace=True)\n",
    "\n",
    "player_total_right = pd.merge(table_1, table_2, on = 'name', how = \"right\")\n",
    "player_total_left = pd.merge(table_1, table_2, on = 'name', how = \"left\")\n",
    "player_total_inner = pd.merge(table_1, table_2, on = 'name', how = \"inner\")\n",
    "player_total_outer = pd.merge(table_1, table_2, on = 'name', how = \"outer\")\n",
    "\n",
    "print('Right Join keeps all the data in the right table, and matches the left side against the right', '\\n')\n",
    "print(player_total_right, '\\n')\n",
    "print('Left Join does the opposite - matches the right table against the left', '\\n')\n",
    "print(player_total_left, '\\n')\n",
    "print('Inner Join only takes the common keys to both', '\\n')\n",
    "print(player_total_inner, '\\n')\n",
    "print('Outer Join keeps all the rows from both tables, filling in data when its available', '\\n')\n",
    "print(player_total_outer, '\\n')"
   ]
  },
  {
   "cell_type": "markdown",
   "metadata": {},
   "source": [
    "<p><a name=\"writefile\"></a></p>\n",
    "# Writing to File\n",
    "\n",
    "#### Finally, how we do save a our data to a file? \n",
    "\n",
    "#### Writing to a CSV file is very simple!\n",
    "\n",
    "All this analysis is great, but what about when we want to push a dataframe (or data) to a file? Fortunately for us, that's quite easy to do!\n",
    "\n",
    "Let's start with writing to a CSV file. Pandas has a number of built-in functions that allow the user to write to CSV files, dictionaries (JSON), Excel files, and various other file types. They all follow this general syntax:  \n",
    "\n",
    "`dataframe.to_data_type('filename.type')`"
   ]
  },
  {
   "cell_type": "code",
   "execution_count": 23,
   "metadata": {},
   "outputs": [],
   "source": [
    "#Just type the dataframe name, the 'to_csv' function, then what you want to name it!\n",
    "player_total_inner.to_csv('nba_df.csv')\n",
    "#Now check your directory to see if it's there!"
   ]
  },
  {
   "cell_type": "markdown",
   "metadata": {},
   "source": [
    "#### Writing to a text file\n",
    "\n",
    "Python has handy functionality to write to text files as well. The general syntax is in the following form:\n",
    "\n",
    "`file = open(\"filename\", \"mode\")`   \n",
    "where **\"mode\"** specifies whether to append data, overwrite data, or just read whats in the file.  \n",
    "\n",
    "`a` : append data to a file (add the data to whatever is already there)  \n",
    "`r` : read whatever is in the file (for pulling the data into dataframes, etc)  \n",
    "`w` : this writes to a file - it will erase whatever was previously in the file  \n",
    "`r+`: This is a special read and write method\n",
    "\n",
    "Let's look at some examples!"
   ]
  },
  {
   "cell_type": "code",
   "execution_count": 24,
   "metadata": {
    "collapsed": true
   },
   "outputs": [],
   "source": [
    "#Let's first open a file\n",
    "file_object = open('myfile.txt', \"a\")\n",
    "#Now we call the 'write' method to enter text in our file\n",
    "file_object.write('We are saving data in our file \\n')\n",
    "file_object.write('We are learning Python \\n')\n",
    "file_object.write('This has been a great tutorial! \\n')\n",
    "file_object.close()\n"
   ]
  },
  {
   "cell_type": "markdown",
   "metadata": {},
   "source": [
    "- Let's now call the **\"r\"** method and see what we wrote!"
   ]
  },
  {
   "cell_type": "code",
   "execution_count": 25,
   "metadata": {},
   "outputs": [
    {
     "name": "stdout",
     "output_type": "stream",
     "text": [
      "file.read() '\n",
      "' We are saving data in our file \n",
      "We are learning Python \n",
      "This has been a great tutorial! \n",
      " \n",
      "\n",
      "file.readlines()  '\n",
      "' ['We are saving data in our file \\n', 'We are learning Python \\n', 'This has been a great tutorial! \\n'] \n",
      "\n",
      "Looping over lines '\n",
      "'\n",
      "We are saving data in our file \n",
      "\n",
      "We are learning Python \n",
      "\n",
      "This has been a great tutorial! \n",
      "\n"
     ]
    }
   ],
   "source": [
    "#Let's open our file so we can read it!\n",
    "file = open('myfile.txt', 'r')\n",
    "print(\"file.read() '\\n'\", file.read(), '\\n')\n",
    "\n",
    "#If we only want to read one line, we can call the 'readline()' method\n",
    "file = open('myfile.txt', 'r')\n",
    "print(\"file.readlines()  '\\n'\", file.readlines(), '\\n')\n",
    "\n",
    "#Alternatively, we can loop over our object:\n",
    "file = open(\"myfile.txt\", \"r\") \n",
    "print(\"Looping over lines '\\n'\")\n",
    "for line in file:\n",
    "    print(line) \n",
    "\n",
    "file.close()"
   ]
  },
  {
   "cell_type": "markdown",
   "metadata": {},
   "source": [
    "- Lastly, we'll use the **\"with\"** method to open our text file and write something to it"
   ]
  },
  {
   "cell_type": "code",
   "execution_count": 26,
   "metadata": {},
   "outputs": [
    {
     "name": "stdout",
     "output_type": "stream",
     "text": [
      "[\"All the text will be gone except this sentence, since I used the 'w' method\"]\n"
     ]
    }
   ],
   "source": [
    "with open('myfile.txt', 'w') as file:\n",
    "    file.write(\"All the text will be gone except this sentence, since I used the 'w' method\")\n",
    "\n",
    "with open('myfile.txt', 'r') as file:\n",
    "    print(file.readlines())"
   ]
  },
  {
   "cell_type": "markdown",
   "metadata": {},
   "source": [
    "For a more complete synopsis of the \"write\" methods for Python data, take a look at this website:  \n",
    "    http://www.pythonforbeginners.com/files/reading-and-writing-files-in-python   \n",
    "I've found it useful and full of handy tips!\n",
    "    "
   ]
  },
  {
   "cell_type": "markdown",
   "metadata": {},
   "source": [
    "#### Thank you very much for reading through this tutorial! I hope it was helpful, and that you feel as though you can begin to do some basic Python programming. Please feel free to leave feedback and let me know what I could explain better (or more in depth)!"
   ]
  }
 ],
 "metadata": {
  "kernelspec": {
   "display_name": "Python 3",
   "language": "python",
   "name": "python3"
  },
  "language_info": {
   "codemirror_mode": {
    "name": "ipython",
    "version": 3
   },
   "file_extension": ".py",
   "mimetype": "text/x-python",
   "name": "python",
   "nbconvert_exporter": "python",
   "pygments_lexer": "ipython3",
   "version": "3.6.1"
  }
 },
 "nbformat": 4,
 "nbformat_minor": 2
}
