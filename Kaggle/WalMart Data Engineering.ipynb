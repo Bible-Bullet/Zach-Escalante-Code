{
 "cells": [
  {
   "cell_type": "code",
   "execution_count": null,
   "metadata": {},
   "outputs": [],
   "source": [
    "import os\n",
    "import gc\n",
    "import pandas as pd\n",
    "import numpy as np\n",
    "import matplotlib.pyplot as plt\n",
    "\n",
    "from sklearn.preprocessing import StandardScaler\n",
    "from sklearn.preprocessing import MinMaxScaler"
   ]
  },
  {
   "cell_type": "markdown",
   "metadata": {},
   "source": [
    "#### Feature Engineering"
   ]
  },
  {
   "cell_type": "code",
   "execution_count": null,
   "metadata": {},
   "outputs": [],
   "source": [
    "# Prepare scalars to normalize data\n",
    "input_scaler = MinMaxScaler()\n",
    "output_scaler = StandardScaler()"
   ]
  },
  {
   "cell_type": "code",
   "execution_count": null,
   "metadata": {},
   "outputs": [],
   "source": [
    "calendar_df = pd.read_csv('/mnt/c/Users/NYCZE/Downloads/m5-forecasting-accuracy/calendar.csv')\n",
    "prices_df = pd.read_csv('/mnt/c/Users/NYCZE/Downloads/m5-forecasting-accuracy/sell_prices.csv')\n",
    "sales_df = pd.read_csv('/mnt/c/Users/NYCZE/Downloads/m5-forecasting-accuracy/sales_train_validation.csv')\n",
    "submission_df = pd.read_csv('/mnt/c/Users/NYCZE/Downloads/m5-forecasting-accuracy/sample_submission.csv')"
   ]
  },
  {
   "cell_type": "code",
   "execution_count": null,
   "metadata": {},
   "outputs": [],
   "source": [
    "sales_df\n",
    "#submission_df[submission_df['id'] == 'FOODS_3_823_WI_3_validation']"
   ]
  },
  {
   "cell_type": "code",
   "execution_count": null,
   "metadata": {},
   "outputs": [],
   "source": [
    "def train_test(df, train_steps, test_steps):\n",
    "    num_steps = train_steps + test_steps\n",
    "    cols = len(df.columns)\n",
    "    iterations = cols//num_steps\n",
    "    \n",
    "    test_range = []\n",
    "    train_range = []\n",
    "    \n",
    "    for i in range(iterations):\n",
    "        train_start = cols - (i+1)*num_steps\n",
    "        train_end = train_start + train_steps\n",
    "        test_start = train_end\n",
    "        test_end = test_start + test_steps\n",
    "        \n",
    "        train_data = df.iloc[:, train_start:train_end].to_numpy()\n",
    "        test_data = df.iloc[:, test_start:test_end].to_numpy()\n",
    "        train_range.extend(train_data)\n",
    "        test_range.extend(test_data)\n",
    "    \n",
    "    return train_range, test_range"
   ]
  },
  {
   "cell_type": "code",
   "execution_count": null,
   "metadata": {},
   "outputs": [],
   "source": [
    "X_data, y_data = train_test(sales_df.iloc[:, 6:], 100, 28)"
   ]
  },
  {
   "cell_type": "code",
   "execution_count": null,
   "metadata": {},
   "outputs": [],
   "source": [
    "print('Train data shape: ', len(X_data))\n",
    "print('Text data shape: ', len(y_data))"
   ]
  },
  {
   "cell_type": "code",
   "execution_count": null,
   "metadata": {},
   "outputs": [],
   "source": [
    "X_tensors = np.array(X_data)\n",
    "input_scaler.fit(X_tensors)\n",
    "X_tensors = input_scaler.transform(X_tensors)\n",
    "X_tensors = X_tensors.reshape((X_tensors.shape[0], X_tensors.shape[1], 1))"
   ]
  },
  {
   "cell_type": "code",
   "execution_count": null,
   "metadata": {},
   "outputs": [],
   "source": [
    "Y_tensors = np.array(y_data)\n",
    "output_scaler.fit(Y_tensors)\n",
    "Y_tensors = output_scaler.transform(Y_tensors)"
   ]
  },
  {
   "cell_type": "markdown",
   "metadata": {},
   "source": [
    "#### Train/Test Sets"
   ]
  },
  {
   "cell_type": "code",
   "execution_count": null,
   "metadata": {},
   "outputs": [],
   "source": [
    "train_perc = 0.8\n",
    "n = int(X_tensors.shape[0]*train_perc)\n",
    "train_index = np.random.choice(X_tensors.shape[0], n, replace=False)\n",
    "test_index = np.asarray(list(set(range(n)) - set(train_index)))"
   ]
  },
  {
   "cell_type": "code",
   "execution_count": null,
   "metadata": {},
   "outputs": [],
   "source": [
    "np.intersect1d(train_index, test_index)"
   ]
  },
  {
   "cell_type": "code",
   "execution_count": null,
   "metadata": {},
   "outputs": [],
   "source": [
    "X_train = X_tensors[train_index]\n",
    "X_test = X_tensors[test_index]\n",
    "y_train = Y_tensors[train_index]\n",
    "y_test = Y_tensors[test_index]\n",
    "print('Train data input samples: ', len(X_train))\n",
    "print('Test data input samples: ', len(X_test))\n",
    "print('Train data output samples: ', len(y_train))\n",
    "print('Test data output samples: ', len(y_test))"
   ]
  },
  {
   "cell_type": "markdown",
   "metadata": {},
   "source": [
    "#### Model Building"
   ]
  },
  {
   "cell_type": "code",
   "execution_count": null,
   "metadata": {},
   "outputs": [],
   "source": [
    "from keras import backend as K\n",
    "\n",
    "from keras.models import Sequential\n",
    "from keras.layers import Dense\n",
    "from keras.layers import Flatten\n",
    "from keras.layers import Dropout\n",
    "from keras.layers import Reshape\n",
    "from keras.layers import LSTM\n",
    "from tensorflow.compat.v1.keras.layers import CuDNNLSTM \n",
    "from keras.layers import Conv1D\n",
    "from keras.utils import to_categorical\n",
    "from keras.layers import MaxPooling1D\n",
    "from keras.layers import  GlobalAveragePooling1D\n",
    "from keras.utils import to_categorical\n",
    "\n",
    "import tensorflow as tf"
   ]
  },
  {
   "cell_type": "code",
   "execution_count": null,
   "metadata": {},
   "outputs": [],
   "source": [
    "def root_mean_squared_error(y_true, y_pred):\n",
    "    return K.sqrt(K.mean(K.square(y_pred - y_true)))\n",
    "\n",
    "def rmse(predictions, targets):\n",
    "    return np.sqrt(np.mean((predictions-targets)**2))"
   ]
  },
  {
   "cell_type": "code",
   "execution_count": null,
   "metadata": {},
   "outputs": [],
   "source": [
    "steps_in = X_train.shape[1]\n",
    "n_features = X_train.shape[2]\n",
    "steps_out = y_train.shape[1]"
   ]
  },
  {
   "cell_type": "code",
   "execution_count": null,
   "metadata": {},
   "outputs": [],
   "source": [
    "model = Sequential()\n",
    "model.add(LSTM(25, return_sequences=True, input_shape=(steps_in, n_features)))\n",
    "model.add(LSTM(25))"
   ]
  },
  {
   "cell_type": "code",
   "execution_count": null,
   "metadata": {},
   "outputs": [],
   "source": [
    "model.add(Dense(steps_out))\n",
    "model.compile(optimizer='adam', loss=root_mean_squared_error)"
   ]
  },
  {
   "cell_type": "code",
   "execution_count": null,
   "metadata": {},
   "outputs": [],
   "source": [
    "model.fit(X_train, y_train, epochs=1, verbose=1)"
   ]
  },
  {
   "cell_type": "markdown",
   "metadata": {},
   "source": [
    "#### Model Prediction"
   ]
  },
  {
   "cell_type": "code",
   "execution_count": null,
   "metadata": {},
   "outputs": [],
   "source": [
    "raw_preds = model.predict(X_test)"
   ]
  },
  {
   "cell_type": "code",
   "execution_count": null,
   "metadata": {},
   "outputs": [],
   "source": [
    "all_pred = output_scaler.inverse_transform(raw_preds)\n",
    "all_pred = np.round(np.abs(all_pred))"
   ]
  },
  {
   "cell_type": "code",
   "execution_count": null,
   "metadata": {},
   "outputs": [],
   "source": [
    "def rmse(predictions, targets):\n",
    "    return np.sqrt(np.mean((predictions-targets)**2))"
   ]
  },
  {
   "cell_type": "code",
   "execution_count": null,
   "metadata": {},
   "outputs": [],
   "source": [
    "rmse(all_pred, y_test)"
   ]
  },
  {
   "cell_type": "markdown",
   "metadata": {},
   "source": [
    "#### Predict and create submission.csv file"
   ]
  },
  {
   "cell_type": "code",
   "execution_count": null,
   "metadata": {},
   "outputs": [],
   "source": [
    "def submission_set(df, steps):\n",
    "    \n",
    "    cols = len(df.columns)\n",
    "    submit_data = df.iloc[:, (cols - steps):cols].to_numpy()\n",
    "    \n",
    "    return submit_data "
   ]
  },
  {
   "cell_type": "code",
   "execution_count": null,
   "metadata": {},
   "outputs": [],
   "source": [
    "# Set the number of steps to be the same as the training data\n",
    "submission_set = submission_set(sales_df, 100)"
   ]
  },
  {
   "cell_type": "code",
   "execution_count": null,
   "metadata": {},
   "outputs": [],
   "source": [
    "# Scale the predictions\n",
    "submission_tensors = input_scaler.transform(submission_set)"
   ]
  },
  {
   "cell_type": "code",
   "execution_count": null,
   "metadata": {},
   "outputs": [],
   "source": [
    "# Reshape the input tensors into the same dimensions as the training data\n",
    "submission_tensors = submission_tensors.reshape((submission_tensors.shape[0], submission_tensors.shape[1], 1))"
   ]
  },
  {
   "cell_type": "code",
   "execution_count": null,
   "metadata": {},
   "outputs": [],
   "source": [
    "# Make our predictions\n",
    "submission_preds = model.predict(submission_tensors)"
   ]
  },
  {
   "cell_type": "code",
   "execution_count": null,
   "metadata": {},
   "outputs": [],
   "source": [
    "# Scale and round our predictions\n",
    "submission_preds = output_scaler.inverse_transform(submission_preds)\n",
    "submission_preds = np.round(np.abs(submission_preds))"
   ]
  },
  {
   "cell_type": "code",
   "execution_count": null,
   "metadata": {},
   "outputs": [],
   "source": [
    "# Create a dataframe for the predictions\n",
    "submission_data = pd.DataFrame(data=submission_preds,\n",
    "                              columns=[F for F in submission_df.columns[1:]])\n",
    "submission_data.insert(0, 'id', submission_df['id'][:30490])\n",
    "submission_data.head()"
   ]
  },
  {
   "cell_type": "code",
   "execution_count": null,
   "metadata": {},
   "outputs": [],
   "source": [
    "# Concatenate this dataframe with the evaluation observations \n",
    "validation_df = pd.concat([submission_data, submission_df[30490:]])\n",
    "validation_df.head()"
   ]
  },
  {
   "cell_type": "code",
   "execution_count": null,
   "metadata": {},
   "outputs": [],
   "source": [
    "# Export to Excel\n",
    "validation_df.to_csv('submission.csv', index=False)"
   ]
  }
 ],
 "metadata": {
  "kernelspec": {
   "display_name": "Python 3",
   "language": "python",
   "name": "python3"
  },
  "language_info": {
   "codemirror_mode": {
    "name": "ipython",
    "version": 3
   },
   "file_extension": ".py",
   "mimetype": "text/x-python",
   "name": "python",
   "nbconvert_exporter": "python",
   "pygments_lexer": "ipython3",
   "version": "3.7.3"
  }
 },
 "nbformat": 4,
 "nbformat_minor": 2
}
