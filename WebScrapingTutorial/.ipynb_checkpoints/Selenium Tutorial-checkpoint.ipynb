{
 "cells": [
  {
   "cell_type": "markdown",
   "metadata": {},
   "source": [
    "# Selenium Webscraping Tutorial\n",
    "\n",
    "#### Table of Contents\n",
    "\n",
    "1. <a href='##Introduction'>The Basics of Webscraping With Selenium</a> <br>\n",
    "> 1.a <a href='##package'>The Selenium package</a> <br>\n",
    "2. <a href='##example'>Webscraping Example</a> <br>\n",
    "> 2.a <a href='##browser'>Selenium headless browser</a> <br>\n",
    "> 2.b <a href='##find_elements'>Find elements using the Selenium Library</a> <br>\n",
    "> 2.c <a href='##click_scroll'>Clicking, scrolling, going back</a> <br>\n",
    "3. <a href='##scrolling_example'>Selenium scrolling example</a> <br>\n",
    "4. <a href='##links'>Iterating through all movie links</a> <br>"
   ]
  },
  {
   "cell_type": "markdown",
   "metadata": {},
   "source": [
    "<a id='#Introduction'></a>\n",
    "\n",
    "### The Basics of Webscraping with Selenium\n",
    "\n",
    "Selenium automates web browsering. Routine point-and-click tasks on websites can (and should) be handled programmatically, and Selenium provides us this capability. There are many use cases for Selenium that BeautifulSoup cannot handle. Programs that require scrolling to the bottom of a webpage, pointing and clicking on a button, or passing information into a search box are all perfect use cases for Selenium. Selenium has it's own HTML parsing functionality (which we'll examine), but it can also be used **in conjunction** with BeautifulSoup to load webpages, where BeautifulSoup can be called to parse the page. We will examine all of these use cases and more in the following demo.\n",
    "\n",
    "We'll be working in Python 3 for this tutorial, although Beautiful Soup runs for Python 2 with some simple adjustments to your code. Let's take a look at an example and see if we can get you up and running with parsing your own web pages!\n",
    "\n",
    "(1) https://www.seleniumhq.org/"
   ]
  },
  {
   "cell_type": "markdown",
   "metadata": {},
   "source": [
    "<a id='#package'></a>\n",
    "\n",
    "### The Selenium package\n",
    "\n",
    "The Selenium Webdriver allows us to fetch webpages which we can control through remote operations (via the Python code which we'll write). The first steps in running Selenium are to\n",
    "\n",
    "* **Install Selenium (in your envirnonment)**\n",
    "* **Install Selenium Web Driver**\n",
    "\n",
    "(http://selenium-python.readthedocs.io/installation.html)\n",
    "\n",
    "Try following the directions listed in the link above and make sure that you're webrowser corresponds to the supported version listed in the webdriver download links. The latest version should be clearly denoted:\n",
    "\n",
    "http://selenium-python.readthedocs.io/installation.html"
   ]
  },
  {
   "cell_type": "markdown",
   "metadata": {},
   "source": [
    "<a id='#example'></a>\n",
    "### Let's Start a Webscraping Example\n",
    "\n",
    "The first thing we need to do is import the relevant packages for our project. These packages are the following: \n",
    "\n",
    "* **re** - the regular expressions package for evaluating strings \n",
    "* **pandas** - this is a fundamental package for formatting and evaluating data \n",
    "* **webdriver** - this is the headless browser which will receive our commands and parse webpages"
   ]
  },
  {
   "cell_type": "code",
   "execution_count": 66,
   "metadata": {
    "collapsed": true
   },
   "outputs": [],
   "source": [
    "import re\n",
    "import time\n",
    "import pandas as pd\n",
    "from selenium import webdriver\n",
    "from selenium.webdriver.common.keys import Keys"
   ]
  },
  {
   "cell_type": "markdown",
   "metadata": {},
   "source": [
    "<a id='#browser'></a>\n",
    "First let's call the **webdriver** (Firefox in my case) and instantiate the web browser"
   ]
  },
  {
   "cell_type": "code",
   "execution_count": 2,
   "metadata": {
    "collapsed": true
   },
   "outputs": [],
   "source": [
    "website = 'https://www.rottentomatoes.com/'\n",
    "driver = webdriver.Firefox()\n",
    "driver.get(website)"
   ]
  },
  {
   "cell_type": "markdown",
   "metadata": {},
   "source": [
    "We can now tab to the browser we created and see that we are on the Rotten Tomatoe's website! The goal of this project is going to be to finish something we were unable to do with Beautiful Soup:\n",
    "\n",
    "1. Follow links for each sub-section and click on the **\"view all\"** button to load the remainder of the movies\n",
    "2. Scroll down the page to to allow the HTML to load so that we can grab all of the movies on the page"
   ]
  },
  {
   "cell_type": "markdown",
   "metadata": {
    "collapsed": true
   },
   "source": [
    "<a id='#find_elements'></a>\n",
    "\n",
    "So to start, let's grab each of the **\"view all\"** buttons on the webpage. Selenium has a number of options for us to locate elements. Just a few of these are:\n",
    "\n",
    "For grabbing individual items on a page (the first item in the HTML tree):\n",
    "\n",
    "* *find_element_by_id*\n",
    "* *find_element_by_name*\n",
    "* *find_element_by_xpath*\n",
    "* *find_element_by_link_text*\n",
    "* *find_element_by_partial_link_text*\n",
    "* *find_element_by_tag_name*\n",
    "* *find_element_by_class_name*\n",
    "* *find_element_by_css_selector*\n",
    "\n",
    "For grabbing multiple items on a page (returns a list of the items selected):\n",
    "\n",
    "* *find_elements_by_id*\n",
    "* *find_elements_by_name*\n",
    "* *find_elements_by_xpath*\n",
    "* *find_elements_by_link_text*\n",
    "* *find_elements_by_partial_link_text*\n",
    "* *find_elements_by_tag_name*\n",
    "* *find_elements_by_class_name*\n",
    "* *find_elements_by_css_selector*\n",
    "\n",
    "Ref: https://selenium-python.readthedocs.io/locating-elements.html "
   ]
  },
  {
   "cell_type": "code",
   "execution_count": 3,
   "metadata": {},
   "outputs": [
    {
     "name": "stdout",
     "output_type": "stream",
     "text": [
      "<selenium.webdriver.firefox.webelement.FirefoxWebElement (session=\"d32bf704-b97b-4640-bf7c-5eba2b2d01c6\", element=\"bdfe4b88-0259-1848-8b08-c62173612d0d\")>\n",
      "<selenium.webdriver.firefox.webelement.FirefoxWebElement (session=\"d32bf704-b97b-4640-bf7c-5eba2b2d01c6\", element=\"bdfe4b88-0259-1848-8b08-c62173612d0d\")>\n"
     ]
    }
   ],
   "source": [
    "#We can find the first \"view all\" button by searching for the driver id\n",
    "print(driver.find_element_by_id('Top-Box-Office-view-all'))\n",
    "#We can also find it by searching x-path\n",
    "print(driver.find_element_by_xpath(\"//a[@id='Top-Box-Office-view-all']\"))\n",
    "button = driver.find_element_by_id('Top-Box-Office-view-all')"
   ]
  },
  {
   "cell_type": "markdown",
   "metadata": {},
   "source": [
    "<a id='#click_scroll'></a>\n",
    "Now we can **click** our button to follow the link to the next page and examine all the data:"
   ]
  },
  {
   "cell_type": "code",
   "execution_count": 4,
   "metadata": {
    "collapsed": true
   },
   "outputs": [],
   "source": [
    "button.click()"
   ]
  },
  {
   "cell_type": "markdown",
   "metadata": {},
   "source": [
    "Now if we look at the webpage, we see that not all the movies are loaded yet. We need to scroll down for all the movies to load. Fortunately for us, Selenium has built-in functionality to handle this situation:\n",
    "\n",
    "Ref: https://stackoverflow.com/questions/42982950/how-to-scroll-down-the-page-till-bottomend-page-in-the-selenium-webdriver/42983332 <br>\n",
    "Ref: https://stackoverflow.com/questions/22702277/crawl-site-that-has-infinite-scrolling-using-python"
   ]
  },
  {
   "cell_type": "code",
   "execution_count": 5,
   "metadata": {
    "collapsed": true
   },
   "outputs": [],
   "source": [
    "driver.execute_script(\"window.scrollTo(0, document.body.scrollHeight);\")"
   ]
  },
  {
   "cell_type": "markdown",
   "metadata": {},
   "source": [
    "Now that we are on the webpage and have scrolled to the bottom of the page (to make sure all our data is loaded), we will grab the data for all the movies on the page and store it in a **CSV** file"
   ]
  },
  {
   "cell_type": "code",
   "execution_count": 6,
   "metadata": {
    "collapsed": true
   },
   "outputs": [],
   "source": [
    "movies = driver.find_elements_by_class_name('mb-movie')"
   ]
  },
  {
   "cell_type": "markdown",
   "metadata": {},
   "source": [
    "Now let's save our movie data to a CSV file so we can review it"
   ]
  },
  {
   "cell_type": "code",
   "execution_count": 7,
   "metadata": {},
   "outputs": [],
   "source": [
    "titles = []\n",
    "dates = []\n",
    "scores= []\n",
    "for movie in movies:\n",
    "    print(movie.find_element_by_class_name('movieTitle').text)\n",
    "    print(movie.find_element_by_class_name('release-date').text)\n",
    "    titles.append(movie.find_element_by_class_name('movieTitle').text)\n",
    "    dates.append(movie.find_element_by_class_name('release-date').text)\n",
    "    try:\n",
    "        print(movie.find_element_by_class_name('tMeterScore').text)\n",
    "        scores.append(movie.find_element_by_class_name('tMeterScore').text)\n",
    "    except:\n",
    "        scores.append(None)\n",
    "pd.DataFrame({'Title':titles, 'Dates': dates, 'Score': scores}).to_csv(driver.find_element_by_class_name('main-column-item').text + '.csv')"
   ]
  },
  {
   "cell_type": "markdown",
   "metadata": {},
   "source": [
    "Finally, let's go back to the previous webpage so that we can scrape the rest of the data from the Rotten Tomatoes website"
   ]
  },
  {
   "cell_type": "code",
   "execution_count": 8,
   "metadata": {
    "collapsed": true
   },
   "outputs": [],
   "source": [
    "driver.back()"
   ]
  },
  {
   "cell_type": "markdown",
   "metadata": {},
   "source": [
    "<a id='#scrolling_example'></a>\n",
    "\n",
    "### Selenium Scrolling\n",
    "\n",
    "Most webpages that we need to gather data from are not created to assist us in our web crawling tasks. As such, properly scrolling a website is frequently used functionality Here we have **Example** code that demonstrates how one might scroll to the bottom of a webpage that loads dynamically.\n",
    "\n",
    "We'll demonstrate on a supermarket website with digital coupons. Take a look at the website in your browswe and inspect the elements. There are several aspects of the website that need to be accounted for:\n",
    "\n",
    "1. The \"Load More\" button\n",
    "2. Scrolling to the bottom of the page\n",
    "\n",
    "We'll handle each of these..."
   ]
  },
  {
   "cell_type": "code",
   "execution_count": 23,
   "metadata": {
    "collapsed": true
   },
   "outputs": [],
   "source": [
    "website_scroll = 'https://www.publix.com/savings/coupons/digital-coupons'\n",
    "driver_scroll = webdriver.Firefox()\n",
    "driver_scroll.get(website_scroll)"
   ]
  },
  {
   "cell_type": "markdown",
   "metadata": {},
   "source": [
    "Did the entire page load? If not, how many objects loaded?\n",
    "\n",
    "As we see here by looking at the length of all the objects collected, only a subset of all the coupons are currently loaded. In order to get all the coupon info, we'll need to scroll down and click the **\"Load More\"** button, and then continue to scroll until the entire page is loaded."
   ]
  },
  {
   "cell_type": "code",
   "execution_count": 24,
   "metadata": {},
   "outputs": [
    {
     "data": {
      "text/plain": [
       "30"
      ]
     },
     "execution_count": 24,
     "metadata": {},
     "output_type": "execute_result"
    }
   ],
   "source": [
    "len(driver_scroll.find_elements_by_xpath(\"//div[@class='dc-card']\"))"
   ]
  },
  {
   "cell_type": "markdown",
   "metadata": {},
   "source": [
    "First let's define the **\"Load More\"** object. We declare it using x-path, and then we'll execute a Java command to scroll down the page until we find that element"
   ]
  },
  {
   "cell_type": "code",
   "execution_count": 25,
   "metadata": {
    "collapsed": true
   },
   "outputs": [],
   "source": [
    "element = driver_scroll.find_element_by_xpath(\"//button[@class='btn btn-large js-btnLoadCoupons']\")\n",
    "driver_scroll.execute_script(\"arguments[0].scrollIntoView();\", element)"
   ]
  },
  {
   "cell_type": "markdown",
   "metadata": {},
   "source": [
    "Next click the **element** to load the rest of the objects on the page"
   ]
  },
  {
   "cell_type": "code",
   "execution_count": 26,
   "metadata": {
    "collapsed": true
   },
   "outputs": [],
   "source": [
    "element.click()"
   ]
  },
  {
   "cell_type": "markdown",
   "metadata": {},
   "source": [
    "Now that we've clicked **Load More**, let's see how many objects there are. Lot's more than 30! Now we'll scroll to the bottom of the page and collect the data for all of these coupons"
   ]
  },
  {
   "cell_type": "code",
   "execution_count": 27,
   "metadata": {},
   "outputs": [
    {
     "data": {
      "text/plain": [
       "146"
      ]
     },
     "execution_count": 27,
     "metadata": {},
     "output_type": "execute_result"
    }
   ],
   "source": [
    "len(driver_scroll.find_elements_by_xpath(\"//div[@class='dc-card']\"))"
   ]
  },
  {
   "cell_type": "markdown",
   "metadata": {},
   "source": [
    "The **Keys** class in Selenium provide keys in the keyboard like RETURN, F1, ALT etc.\n",
    "\n",
    "With this code, I am setting the new object to the old object (coupon on the page). While there exists a new object to be set, I will leverage the **\"send_keys\"** function in the **Keys** class and pass an argument to **PAGE_DOWN**. \n",
    "\n",
    "The result will be that while I step through each coupon object on the page, I only scroll until there are no more objects, at which point I stop. \n",
    "\n",
    "Ref: https://selenium-python.readthedocs.io/getting-started.html "
   ]
  },
  {
   "cell_type": "code",
   "execution_count": 67,
   "metadata": {},
   "outputs": [
    {
     "name": "stdout",
     "output_type": "stream",
     "text": [
      "<selenium.webdriver.firefox.webelement.FirefoxWebElement (session=\"d1165e5a-93f7-3941-bd50-6d851bb24959\", element=\"49b6f3a0-c868-6243-be6e-e6f6f2330e7b\")>\n",
      "<selenium.webdriver.firefox.webelement.FirefoxWebElement (session=\"d1165e5a-93f7-3941-bd50-6d851bb24959\", element=\"fa57ed74-a67f-b246-837c-f4a2193ec3bb\")>\n",
      "<selenium.webdriver.firefox.webelement.FirefoxWebElement (session=\"d1165e5a-93f7-3941-bd50-6d851bb24959\", element=\"3a83fec5-4842-4f41-8d66-4c1504780f58\")>\n",
      "<selenium.webdriver.firefox.webelement.FirefoxWebElement (session=\"d1165e5a-93f7-3941-bd50-6d851bb24959\", element=\"b4b4c2ea-62c2-4f40-af91-893d1532dca8\")>\n",
      "<selenium.webdriver.firefox.webelement.FirefoxWebElement (session=\"d1165e5a-93f7-3941-bd50-6d851bb24959\", element=\"d9067e05-fa7c-aa47-a0c2-4c864c1ac033\")>\n",
      "<selenium.webdriver.firefox.webelement.FirefoxWebElement (session=\"d1165e5a-93f7-3941-bd50-6d851bb24959\", element=\"24d32a1e-abf9-2f40-bdf3-b644c748da74\")>\n",
      "<selenium.webdriver.firefox.webelement.FirefoxWebElement (session=\"d1165e5a-93f7-3941-bd50-6d851bb24959\", element=\"f9e97a78-89a4-1140-a902-e1abdf540f10\")>\n",
      "<selenium.webdriver.firefox.webelement.FirefoxWebElement (session=\"d1165e5a-93f7-3941-bd50-6d851bb24959\", element=\"697d5df2-11b9-fb43-b060-7e1873f99e5d\")>\n",
      "<selenium.webdriver.firefox.webelement.FirefoxWebElement (session=\"d1165e5a-93f7-3941-bd50-6d851bb24959\", element=\"8e12243c-2872-224c-a83a-377ed6f603c1\")>\n",
      "<selenium.webdriver.firefox.webelement.FirefoxWebElement (session=\"d1165e5a-93f7-3941-bd50-6d851bb24959\", element=\"a959ce1e-d886-2047-b4a3-05cfeed7699a\")>\n",
      "<selenium.webdriver.firefox.webelement.FirefoxWebElement (session=\"d1165e5a-93f7-3941-bd50-6d851bb24959\", element=\"12b3e42b-4819-1445-80f2-59b6843d4f53\")>\n",
      "<selenium.webdriver.firefox.webelement.FirefoxWebElement (session=\"d1165e5a-93f7-3941-bd50-6d851bb24959\", element=\"031e79e0-bdee-3f40-9aa8-ef0f19f6e76b\")>\n",
      "<selenium.webdriver.firefox.webelement.FirefoxWebElement (session=\"d1165e5a-93f7-3941-bd50-6d851bb24959\", element=\"d67d3624-f309-704e-932f-3ebd4b7c2c74\")>\n",
      "<selenium.webdriver.firefox.webelement.FirefoxWebElement (session=\"d1165e5a-93f7-3941-bd50-6d851bb24959\", element=\"f13497d4-5728-f948-989c-b62e2c0510f5\")>\n",
      "<selenium.webdriver.firefox.webelement.FirefoxWebElement (session=\"d1165e5a-93f7-3941-bd50-6d851bb24959\", element=\"3ab99beb-a5ae-3944-babb-0a18d4841c12\")>\n",
      "<selenium.webdriver.firefox.webelement.FirefoxWebElement (session=\"d1165e5a-93f7-3941-bd50-6d851bb24959\", element=\"6ec6831c-28fc-4845-b83a-e6bd6ceaf0c3\")>\n",
      "<selenium.webdriver.firefox.webelement.FirefoxWebElement (session=\"d1165e5a-93f7-3941-bd50-6d851bb24959\", element=\"bfda1ebb-42c6-4140-825f-5de7d196fe85\")>\n",
      "<selenium.webdriver.firefox.webelement.FirefoxWebElement (session=\"d1165e5a-93f7-3941-bd50-6d851bb24959\", element=\"d336c1f2-d0a3-234a-9ceb-a70fd0d5ece7\")>\n",
      "<selenium.webdriver.firefox.webelement.FirefoxWebElement (session=\"d1165e5a-93f7-3941-bd50-6d851bb24959\", element=\"5d9493ae-7e1b-2d4a-9be3-0895df196ad8\")>\n",
      "<selenium.webdriver.firefox.webelement.FirefoxWebElement (session=\"d1165e5a-93f7-3941-bd50-6d851bb24959\", element=\"749e85e9-2774-2b43-988e-994af6f78bf6\")>\n",
      "<selenium.webdriver.firefox.webelement.FirefoxWebElement (session=\"d1165e5a-93f7-3941-bd50-6d851bb24959\", element=\"112ebaa1-89c7-4040-881c-03c60cbdbff0\")>\n",
      "<selenium.webdriver.firefox.webelement.FirefoxWebElement (session=\"d1165e5a-93f7-3941-bd50-6d851bb24959\", element=\"6ec7fcda-a241-bb46-a84d-7d3fe86ab3a1\")>\n",
      "<selenium.webdriver.firefox.webelement.FirefoxWebElement (session=\"d1165e5a-93f7-3941-bd50-6d851bb24959\", element=\"9dc3c53b-59f4-a345-9280-74c2fca2e493\")>\n",
      "<selenium.webdriver.firefox.webelement.FirefoxWebElement (session=\"d1165e5a-93f7-3941-bd50-6d851bb24959\", element=\"ae676ae1-c5b4-1042-af60-085b4f82b371\")>\n",
      "<selenium.webdriver.firefox.webelement.FirefoxWebElement (session=\"d1165e5a-93f7-3941-bd50-6d851bb24959\", element=\"bffacd30-978a-0e49-a995-462e4462f71c\")>\n",
      "<selenium.webdriver.firefox.webelement.FirefoxWebElement (session=\"d1165e5a-93f7-3941-bd50-6d851bb24959\", element=\"741f594d-e576-d747-ab89-ed4f65a4ef2f\")>\n",
      "<selenium.webdriver.firefox.webelement.FirefoxWebElement (session=\"d1165e5a-93f7-3941-bd50-6d851bb24959\", element=\"1fa74c94-fe25-5a46-a8fa-85da815f8ec1\")>\n",
      "<selenium.webdriver.firefox.webelement.FirefoxWebElement (session=\"d1165e5a-93f7-3941-bd50-6d851bb24959\", element=\"a07de1e0-e576-4249-bbc1-971937e0dfee\")>\n",
      "<selenium.webdriver.firefox.webelement.FirefoxWebElement (session=\"d1165e5a-93f7-3941-bd50-6d851bb24959\", element=\"9d44049e-79b8-404f-bd08-8a8864bd8603\")>\n",
      "<selenium.webdriver.firefox.webelement.FirefoxWebElement (session=\"d1165e5a-93f7-3941-bd50-6d851bb24959\", element=\"b990ca7b-d70b-8f4f-bcf7-1c77e68ec352\")>\n",
      "<selenium.webdriver.firefox.webelement.FirefoxWebElement (session=\"d1165e5a-93f7-3941-bd50-6d851bb24959\", element=\"445ba6bc-78b4-cd45-9663-5cfc6ad7134d\")>\n",
      "<selenium.webdriver.firefox.webelement.FirefoxWebElement (session=\"d1165e5a-93f7-3941-bd50-6d851bb24959\", element=\"37c9fcc6-d37e-6642-89da-5f6bb1bcf68a\")>\n",
      "<selenium.webdriver.firefox.webelement.FirefoxWebElement (session=\"d1165e5a-93f7-3941-bd50-6d851bb24959\", element=\"c891e99c-88ba-ba41-ac27-ff087cfa5d6e\")>\n",
      "<selenium.webdriver.firefox.webelement.FirefoxWebElement (session=\"d1165e5a-93f7-3941-bd50-6d851bb24959\", element=\"a9caf8a4-95bb-1e46-9a95-703a1aca9d6e\")>\n",
      "<selenium.webdriver.firefox.webelement.FirefoxWebElement (session=\"d1165e5a-93f7-3941-bd50-6d851bb24959\", element=\"9f7d22ef-d0af-4d46-8c26-f32b111453d1\")>\n",
      "<selenium.webdriver.firefox.webelement.FirefoxWebElement (session=\"d1165e5a-93f7-3941-bd50-6d851bb24959\", element=\"027b4b00-a680-de4b-9772-c948a067033c\")>\n",
      "<selenium.webdriver.firefox.webelement.FirefoxWebElement (session=\"d1165e5a-93f7-3941-bd50-6d851bb24959\", element=\"46e60a33-a6c2-fb43-9ce7-e94643ad41b9\")>\n",
      "<selenium.webdriver.firefox.webelement.FirefoxWebElement (session=\"d1165e5a-93f7-3941-bd50-6d851bb24959\", element=\"22371de8-0c78-f64d-b0f2-a2faa6ef6adf\")>\n",
      "<selenium.webdriver.firefox.webelement.FirefoxWebElement (session=\"d1165e5a-93f7-3941-bd50-6d851bb24959\", element=\"ef91b7b0-a821-0f49-b6a9-0cdbb60a0909\")>\n",
      "<selenium.webdriver.firefox.webelement.FirefoxWebElement (session=\"d1165e5a-93f7-3941-bd50-6d851bb24959\", element=\"8e7a3566-a337-034d-aaf0-37801de4a913\")>\n",
      "<selenium.webdriver.firefox.webelement.FirefoxWebElement (session=\"d1165e5a-93f7-3941-bd50-6d851bb24959\", element=\"1e6111c0-20e0-ef43-9fc3-6b8f53a1a5ff\")>\n",
      "<selenium.webdriver.firefox.webelement.FirefoxWebElement (session=\"d1165e5a-93f7-3941-bd50-6d851bb24959\", element=\"08d33679-e968-fc45-9cfd-f2bc964b5c93\")>\n",
      "<selenium.webdriver.firefox.webelement.FirefoxWebElement (session=\"d1165e5a-93f7-3941-bd50-6d851bb24959\", element=\"0f739cc8-c4ac-da43-9fac-a5858ccf0352\")>\n",
      "<selenium.webdriver.firefox.webelement.FirefoxWebElement (session=\"d1165e5a-93f7-3941-bd50-6d851bb24959\", element=\"4a9a2496-7c69-ce43-983f-8c78ef3e3123\")>\n",
      "<selenium.webdriver.firefox.webelement.FirefoxWebElement (session=\"d1165e5a-93f7-3941-bd50-6d851bb24959\", element=\"f3d81d78-3938-b24d-81bf-53bd61b9ac99\")>\n",
      "<selenium.webdriver.firefox.webelement.FirefoxWebElement (session=\"d1165e5a-93f7-3941-bd50-6d851bb24959\", element=\"fe4a276c-f282-9649-b1af-cb5c36d27af0\")>\n",
      "<selenium.webdriver.firefox.webelement.FirefoxWebElement (session=\"d1165e5a-93f7-3941-bd50-6d851bb24959\", element=\"b6b65b87-c429-2c4c-9229-502def7d5226\")>\n",
      "<selenium.webdriver.firefox.webelement.FirefoxWebElement (session=\"d1165e5a-93f7-3941-bd50-6d851bb24959\", element=\"0bcb4296-0e69-7a43-84bc-c9dc53533733\")>\n",
      "<selenium.webdriver.firefox.webelement.FirefoxWebElement (session=\"d1165e5a-93f7-3941-bd50-6d851bb24959\", element=\"cd213e79-30c2-8749-ae82-75d1f92d6a56\")>\n",
      "<selenium.webdriver.firefox.webelement.FirefoxWebElement (session=\"d1165e5a-93f7-3941-bd50-6d851bb24959\", element=\"15514896-c508-d741-b863-dae29df3cdef\")>\n",
      "<selenium.webdriver.firefox.webelement.FirefoxWebElement (session=\"d1165e5a-93f7-3941-bd50-6d851bb24959\", element=\"886bd524-cc6e-0c45-8e85-96e1cbb1920c\")>\n",
      "<selenium.webdriver.firefox.webelement.FirefoxWebElement (session=\"d1165e5a-93f7-3941-bd50-6d851bb24959\", element=\"2a945cd0-068e-fd45-b5ca-1a50d036809a\")>\n",
      "<selenium.webdriver.firefox.webelement.FirefoxWebElement (session=\"d1165e5a-93f7-3941-bd50-6d851bb24959\", element=\"89dec557-4c4e-0c43-b725-6c46b5a9664a\")>\n"
     ]
    },
    {
     "name": "stdout",
     "output_type": "stream",
     "text": [
      "<selenium.webdriver.firefox.webelement.FirefoxWebElement (session=\"d1165e5a-93f7-3941-bd50-6d851bb24959\", element=\"afe434c5-80e7-3944-8bfc-7ec7a832c001\")>\n",
      "<selenium.webdriver.firefox.webelement.FirefoxWebElement (session=\"d1165e5a-93f7-3941-bd50-6d851bb24959\", element=\"094b2230-905f-9840-bcad-7c6e39214cc4\")>\n",
      "<selenium.webdriver.firefox.webelement.FirefoxWebElement (session=\"d1165e5a-93f7-3941-bd50-6d851bb24959\", element=\"f0a72fd2-fb18-4149-ac44-8397a286c6bb\")>\n",
      "<selenium.webdriver.firefox.webelement.FirefoxWebElement (session=\"d1165e5a-93f7-3941-bd50-6d851bb24959\", element=\"a1ed1c9e-c67f-bb44-83d3-288400e8c8b4\")>\n",
      "<selenium.webdriver.firefox.webelement.FirefoxWebElement (session=\"d1165e5a-93f7-3941-bd50-6d851bb24959\", element=\"0beb9519-4ed4-8d43-b16d-6513389cc242\")>\n",
      "<selenium.webdriver.firefox.webelement.FirefoxWebElement (session=\"d1165e5a-93f7-3941-bd50-6d851bb24959\", element=\"03bc2b09-dc37-024d-bd44-9e29f14bc272\")>\n",
      "<selenium.webdriver.firefox.webelement.FirefoxWebElement (session=\"d1165e5a-93f7-3941-bd50-6d851bb24959\", element=\"31c43d2b-837e-a74c-8770-84fa70c4a001\")>\n",
      "<selenium.webdriver.firefox.webelement.FirefoxWebElement (session=\"d1165e5a-93f7-3941-bd50-6d851bb24959\", element=\"677d648d-fced-f441-9651-7cf720d77ed9\")>\n",
      "<selenium.webdriver.firefox.webelement.FirefoxWebElement (session=\"d1165e5a-93f7-3941-bd50-6d851bb24959\", element=\"3dfe9930-91f4-3240-8c48-cabe03c323d9\")>\n",
      "<selenium.webdriver.firefox.webelement.FirefoxWebElement (session=\"d1165e5a-93f7-3941-bd50-6d851bb24959\", element=\"db777bf2-dc1f-dc43-9f72-acd2e8dec5af\")>\n",
      "<selenium.webdriver.firefox.webelement.FirefoxWebElement (session=\"d1165e5a-93f7-3941-bd50-6d851bb24959\", element=\"00191b8f-00be-b84f-986f-3a17b3317ac7\")>\n",
      "<selenium.webdriver.firefox.webelement.FirefoxWebElement (session=\"d1165e5a-93f7-3941-bd50-6d851bb24959\", element=\"66100242-046a-4b4f-9999-0a12a8088be4\")>\n",
      "<selenium.webdriver.firefox.webelement.FirefoxWebElement (session=\"d1165e5a-93f7-3941-bd50-6d851bb24959\", element=\"64b418d3-544a-4644-ab82-726482916173\")>\n",
      "<selenium.webdriver.firefox.webelement.FirefoxWebElement (session=\"d1165e5a-93f7-3941-bd50-6d851bb24959\", element=\"19ed100c-78b6-4746-80d7-6aa92df7260e\")>\n",
      "<selenium.webdriver.firefox.webelement.FirefoxWebElement (session=\"d1165e5a-93f7-3941-bd50-6d851bb24959\", element=\"50f1a6cf-20a5-e543-96f8-2bfa8e6ec54e\")>\n",
      "<selenium.webdriver.firefox.webelement.FirefoxWebElement (session=\"d1165e5a-93f7-3941-bd50-6d851bb24959\", element=\"bcfde596-4a8d-8642-8a1e-1c5b3d002307\")>\n",
      "<selenium.webdriver.firefox.webelement.FirefoxWebElement (session=\"d1165e5a-93f7-3941-bd50-6d851bb24959\", element=\"ffd19777-93c3-234f-852f-4cbb6ca06527\")>\n",
      "<selenium.webdriver.firefox.webelement.FirefoxWebElement (session=\"d1165e5a-93f7-3941-bd50-6d851bb24959\", element=\"b324c281-954f-474e-8c8c-806ded26b1cd\")>\n",
      "<selenium.webdriver.firefox.webelement.FirefoxWebElement (session=\"d1165e5a-93f7-3941-bd50-6d851bb24959\", element=\"c3cc4398-fce2-9a45-bda0-7e985440f643\")>\n",
      "<selenium.webdriver.firefox.webelement.FirefoxWebElement (session=\"d1165e5a-93f7-3941-bd50-6d851bb24959\", element=\"0aab4d5e-1e55-bb40-83f2-3e173a0268f7\")>\n",
      "<selenium.webdriver.firefox.webelement.FirefoxWebElement (session=\"d1165e5a-93f7-3941-bd50-6d851bb24959\", element=\"6211e0df-a8ed-6748-aa5f-a2eee462a9cd\")>\n",
      "<selenium.webdriver.firefox.webelement.FirefoxWebElement (session=\"d1165e5a-93f7-3941-bd50-6d851bb24959\", element=\"07ffb87d-ab63-b441-9887-34612b309d51\")>\n",
      "<selenium.webdriver.firefox.webelement.FirefoxWebElement (session=\"d1165e5a-93f7-3941-bd50-6d851bb24959\", element=\"11f8bd98-d523-6d4e-b4ab-f98295f5e224\")>\n",
      "<selenium.webdriver.firefox.webelement.FirefoxWebElement (session=\"d1165e5a-93f7-3941-bd50-6d851bb24959\", element=\"645f9fcb-9894-3641-9eb0-4af2365b2e90\")>\n",
      "<selenium.webdriver.firefox.webelement.FirefoxWebElement (session=\"d1165e5a-93f7-3941-bd50-6d851bb24959\", element=\"43c5f9cf-843b-3e48-8016-417d8a6b60a5\")>\n",
      "<selenium.webdriver.firefox.webelement.FirefoxWebElement (session=\"d1165e5a-93f7-3941-bd50-6d851bb24959\", element=\"d1d1a074-8c97-0345-93fb-6e6837e90c05\")>\n",
      "<selenium.webdriver.firefox.webelement.FirefoxWebElement (session=\"d1165e5a-93f7-3941-bd50-6d851bb24959\", element=\"0d97c1a9-9d0d-a847-9762-3a4ec0206b37\")>\n",
      "<selenium.webdriver.firefox.webelement.FirefoxWebElement (session=\"d1165e5a-93f7-3941-bd50-6d851bb24959\", element=\"ea6160c4-becd-9542-9ad9-e3b42e2e049b\")>\n",
      "<selenium.webdriver.firefox.webelement.FirefoxWebElement (session=\"d1165e5a-93f7-3941-bd50-6d851bb24959\", element=\"154c9eb8-ebe6-7a4a-8f60-8afcaad121ac\")>\n",
      "<selenium.webdriver.firefox.webelement.FirefoxWebElement (session=\"d1165e5a-93f7-3941-bd50-6d851bb24959\", element=\"65c0d320-8d44-e449-9774-4093e9ace54c\")>\n",
      "<selenium.webdriver.firefox.webelement.FirefoxWebElement (session=\"d1165e5a-93f7-3941-bd50-6d851bb24959\", element=\"de502991-a8a9-f14c-9fc7-802c4651ae15\")>\n",
      "<selenium.webdriver.firefox.webelement.FirefoxWebElement (session=\"d1165e5a-93f7-3941-bd50-6d851bb24959\", element=\"63136b0c-39f7-db48-aba4-882b8863f33f\")>\n",
      "<selenium.webdriver.firefox.webelement.FirefoxWebElement (session=\"d1165e5a-93f7-3941-bd50-6d851bb24959\", element=\"32313a2d-8816-ee40-933c-01693f22db48\")>\n",
      "<selenium.webdriver.firefox.webelement.FirefoxWebElement (session=\"d1165e5a-93f7-3941-bd50-6d851bb24959\", element=\"26814809-a6c8-5d4c-8f3a-857f34babd21\")>\n",
      "<selenium.webdriver.firefox.webelement.FirefoxWebElement (session=\"d1165e5a-93f7-3941-bd50-6d851bb24959\", element=\"50fc170a-006e-d74e-8fde-63aad9774ae0\")>\n",
      "<selenium.webdriver.firefox.webelement.FirefoxWebElement (session=\"d1165e5a-93f7-3941-bd50-6d851bb24959\", element=\"6da3b2c3-dbba-d247-be5e-396200e3b87f\")>\n",
      "<selenium.webdriver.firefox.webelement.FirefoxWebElement (session=\"d1165e5a-93f7-3941-bd50-6d851bb24959\", element=\"a9374e14-7bbd-7346-940d-d30fc0b8d05d\")>\n",
      "<selenium.webdriver.firefox.webelement.FirefoxWebElement (session=\"d1165e5a-93f7-3941-bd50-6d851bb24959\", element=\"0626ec8a-2bb8-0543-95d9-a5ab9969bd8a\")>\n",
      "<selenium.webdriver.firefox.webelement.FirefoxWebElement (session=\"d1165e5a-93f7-3941-bd50-6d851bb24959\", element=\"d166e58c-143e-c844-aa16-f522fdebad8a\")>\n",
      "<selenium.webdriver.firefox.webelement.FirefoxWebElement (session=\"d1165e5a-93f7-3941-bd50-6d851bb24959\", element=\"82d24ef2-5ab7-f840-a33d-197da21e8891\")>\n",
      "<selenium.webdriver.firefox.webelement.FirefoxWebElement (session=\"d1165e5a-93f7-3941-bd50-6d851bb24959\", element=\"ee798d17-3758-804c-82fc-03e75e62768d\")>\n",
      "<selenium.webdriver.firefox.webelement.FirefoxWebElement (session=\"d1165e5a-93f7-3941-bd50-6d851bb24959\", element=\"9f99c53b-60d6-3441-8119-64a128a064cf\")>\n",
      "<selenium.webdriver.firefox.webelement.FirefoxWebElement (session=\"d1165e5a-93f7-3941-bd50-6d851bb24959\", element=\"2a67b1db-9c75-ae4e-9f6a-2fbbc4d6778d\")>\n",
      "<selenium.webdriver.firefox.webelement.FirefoxWebElement (session=\"d1165e5a-93f7-3941-bd50-6d851bb24959\", element=\"34352648-8ebf-614b-896a-3301319677bb\")>\n",
      "<selenium.webdriver.firefox.webelement.FirefoxWebElement (session=\"d1165e5a-93f7-3941-bd50-6d851bb24959\", element=\"ddfe7cc9-79c8-0e47-96ad-1c1379300b97\")>\n",
      "<selenium.webdriver.firefox.webelement.FirefoxWebElement (session=\"d1165e5a-93f7-3941-bd50-6d851bb24959\", element=\"0176eac7-ef3e-7c4d-bf69-7b58caf98ea0\")>\n",
      "<selenium.webdriver.firefox.webelement.FirefoxWebElement (session=\"d1165e5a-93f7-3941-bd50-6d851bb24959\", element=\"976589f2-18d3-8d4c-a5de-fe44d3208fa9\")>\n",
      "<selenium.webdriver.firefox.webelement.FirefoxWebElement (session=\"d1165e5a-93f7-3941-bd50-6d851bb24959\", element=\"334ee3e3-5d17-9a44-a414-37b9504b0f29\")>\n",
      "<selenium.webdriver.firefox.webelement.FirefoxWebElement (session=\"d1165e5a-93f7-3941-bd50-6d851bb24959\", element=\"19c5f060-fbe8-da40-a72c-0550ecee0c57\")>\n",
      "<selenium.webdriver.firefox.webelement.FirefoxWebElement (session=\"d1165e5a-93f7-3941-bd50-6d851bb24959\", element=\"3fd1f7ab-5bba-a64c-94f3-4af755b65c2e\")>\n",
      "<selenium.webdriver.firefox.webelement.FirefoxWebElement (session=\"d1165e5a-93f7-3941-bd50-6d851bb24959\", element=\"0883198a-4f5e-2449-8117-ab6d7a7d7ebc\")>\n",
      "<selenium.webdriver.firefox.webelement.FirefoxWebElement (session=\"d1165e5a-93f7-3941-bd50-6d851bb24959\", element=\"28f23407-dcc1-c54e-b320-cef28b816786\")>\n",
      "<selenium.webdriver.firefox.webelement.FirefoxWebElement (session=\"d1165e5a-93f7-3941-bd50-6d851bb24959\", element=\"6578efad-2b4a-5f47-9080-c9d06633e0b8\")>\n"
     ]
    },
    {
     "name": "stdout",
     "output_type": "stream",
     "text": [
      "<selenium.webdriver.firefox.webelement.FirefoxWebElement (session=\"d1165e5a-93f7-3941-bd50-6d851bb24959\", element=\"9a4ab059-ba5c-7541-a491-4716ea3440f9\")>\n",
      "<selenium.webdriver.firefox.webelement.FirefoxWebElement (session=\"d1165e5a-93f7-3941-bd50-6d851bb24959\", element=\"e29cf58a-e8ff-c742-bb48-ce81873390b5\")>\n",
      "<selenium.webdriver.firefox.webelement.FirefoxWebElement (session=\"d1165e5a-93f7-3941-bd50-6d851bb24959\", element=\"c6b64792-e136-8d4f-85a3-9f61f07e9403\")>\n",
      "<selenium.webdriver.firefox.webelement.FirefoxWebElement (session=\"d1165e5a-93f7-3941-bd50-6d851bb24959\", element=\"2cfc1ae2-e094-7046-a68c-77ee75733ee6\")>\n",
      "<selenium.webdriver.firefox.webelement.FirefoxWebElement (session=\"d1165e5a-93f7-3941-bd50-6d851bb24959\", element=\"62416759-b5fa-ca41-85fb-9d2a69a8fc2b\")>\n",
      "<selenium.webdriver.firefox.webelement.FirefoxWebElement (session=\"d1165e5a-93f7-3941-bd50-6d851bb24959\", element=\"3c152ccd-bbee-9946-9337-3fc5821d8b64\")>\n",
      "<selenium.webdriver.firefox.webelement.FirefoxWebElement (session=\"d1165e5a-93f7-3941-bd50-6d851bb24959\", element=\"11696060-fbab-5440-ac30-df8bd9a61452\")>\n",
      "<selenium.webdriver.firefox.webelement.FirefoxWebElement (session=\"d1165e5a-93f7-3941-bd50-6d851bb24959\", element=\"952061ed-6103-9e4f-bb83-88b2c2626d8f\")>\n",
      "<selenium.webdriver.firefox.webelement.FirefoxWebElement (session=\"d1165e5a-93f7-3941-bd50-6d851bb24959\", element=\"e4fdb271-a02c-e743-b042-80daa2330d7c\")>\n",
      "<selenium.webdriver.firefox.webelement.FirefoxWebElement (session=\"d1165e5a-93f7-3941-bd50-6d851bb24959\", element=\"900bd68f-e039-1b46-97a5-09b94830ffff\")>\n",
      "<selenium.webdriver.firefox.webelement.FirefoxWebElement (session=\"d1165e5a-93f7-3941-bd50-6d851bb24959\", element=\"d76c3ab1-bbb2-5d40-b7df-d18c136fb7d3\")>\n",
      "<selenium.webdriver.firefox.webelement.FirefoxWebElement (session=\"d1165e5a-93f7-3941-bd50-6d851bb24959\", element=\"a35fa8e4-358b-3642-9f72-352d5b60fe2a\")>\n",
      "<selenium.webdriver.firefox.webelement.FirefoxWebElement (session=\"d1165e5a-93f7-3941-bd50-6d851bb24959\", element=\"18388605-dc22-eb4e-8b3a-e9c26f45f304\")>\n",
      "<selenium.webdriver.firefox.webelement.FirefoxWebElement (session=\"d1165e5a-93f7-3941-bd50-6d851bb24959\", element=\"8e9dd08c-1543-b441-852b-94f0d886187a\")>\n",
      "<selenium.webdriver.firefox.webelement.FirefoxWebElement (session=\"d1165e5a-93f7-3941-bd50-6d851bb24959\", element=\"b4b313f2-a0df-b04b-9f08-b894d93c9567\")>\n",
      "<selenium.webdriver.firefox.webelement.FirefoxWebElement (session=\"d1165e5a-93f7-3941-bd50-6d851bb24959\", element=\"06a1c94a-9746-2f44-8914-6a69220c56fa\")>\n",
      "<selenium.webdriver.firefox.webelement.FirefoxWebElement (session=\"d1165e5a-93f7-3941-bd50-6d851bb24959\", element=\"59bf9edc-579f-ef41-819e-c2343623c04c\")>\n",
      "<selenium.webdriver.firefox.webelement.FirefoxWebElement (session=\"d1165e5a-93f7-3941-bd50-6d851bb24959\", element=\"4778864c-3d31-9b48-bb75-ed4ce59e482b\")>\n",
      "<selenium.webdriver.firefox.webelement.FirefoxWebElement (session=\"d1165e5a-93f7-3941-bd50-6d851bb24959\", element=\"d8199e05-cae6-4946-97f2-a8b7808b8e13\")>\n",
      "<selenium.webdriver.firefox.webelement.FirefoxWebElement (session=\"d1165e5a-93f7-3941-bd50-6d851bb24959\", element=\"79ff86d3-ccbf-e24d-b072-2fb3d5c2bae1\")>\n",
      "<selenium.webdriver.firefox.webelement.FirefoxWebElement (session=\"d1165e5a-93f7-3941-bd50-6d851bb24959\", element=\"6510bf76-caba-c348-a855-ef1279713cb5\")>\n",
      "<selenium.webdriver.firefox.webelement.FirefoxWebElement (session=\"d1165e5a-93f7-3941-bd50-6d851bb24959\", element=\"b418928b-08de-0d4c-9e1a-499c96c4cddc\")>\n",
      "<selenium.webdriver.firefox.webelement.FirefoxWebElement (session=\"d1165e5a-93f7-3941-bd50-6d851bb24959\", element=\"0cd9b3aa-9271-6e4c-81cf-23e52bc59624\")>\n",
      "<selenium.webdriver.firefox.webelement.FirefoxWebElement (session=\"d1165e5a-93f7-3941-bd50-6d851bb24959\", element=\"0f5b6695-21f3-1641-b49d-cfb2fdf762be\")>\n",
      "<selenium.webdriver.firefox.webelement.FirefoxWebElement (session=\"d1165e5a-93f7-3941-bd50-6d851bb24959\", element=\"80044645-62d9-3844-9c82-4e3029cabe80\")>\n",
      "<selenium.webdriver.firefox.webelement.FirefoxWebElement (session=\"d1165e5a-93f7-3941-bd50-6d851bb24959\", element=\"df2b94c7-4f5c-584c-83a7-150c3baec7f3\")>\n",
      "<selenium.webdriver.firefox.webelement.FirefoxWebElement (session=\"d1165e5a-93f7-3941-bd50-6d851bb24959\", element=\"3d0908f2-576b-1448-a80f-e8febf8de674\")>\n",
      "<selenium.webdriver.firefox.webelement.FirefoxWebElement (session=\"d1165e5a-93f7-3941-bd50-6d851bb24959\", element=\"c1a03b0c-f1f1-534b-a073-15109b3ffa16\")>\n",
      "<selenium.webdriver.firefox.webelement.FirefoxWebElement (session=\"d1165e5a-93f7-3941-bd50-6d851bb24959\", element=\"5dec87a3-4413-f34e-8489-db4d5ca81ad6\")>\n",
      "<selenium.webdriver.firefox.webelement.FirefoxWebElement (session=\"d1165e5a-93f7-3941-bd50-6d851bb24959\", element=\"51958e5d-78c9-9144-8415-11096b922d42\")>\n",
      "<selenium.webdriver.firefox.webelement.FirefoxWebElement (session=\"d1165e5a-93f7-3941-bd50-6d851bb24959\", element=\"9179e7fe-ec0c-e744-8382-25ee8b68e0d2\")>\n",
      "<selenium.webdriver.firefox.webelement.FirefoxWebElement (session=\"d1165e5a-93f7-3941-bd50-6d851bb24959\", element=\"a319be04-6bd1-9341-b004-1c5d991c27f3\")>\n",
      "<selenium.webdriver.firefox.webelement.FirefoxWebElement (session=\"d1165e5a-93f7-3941-bd50-6d851bb24959\", element=\"c34db97f-9d3b-f14c-ab73-dc9583b74070\")>\n",
      "<selenium.webdriver.firefox.webelement.FirefoxWebElement (session=\"d1165e5a-93f7-3941-bd50-6d851bb24959\", element=\"964bdbab-4a4a-be4a-abe5-bfa325e3cf64\")>\n",
      "<selenium.webdriver.firefox.webelement.FirefoxWebElement (session=\"d1165e5a-93f7-3941-bd50-6d851bb24959\", element=\"6cda1568-22ce-7242-b66c-03c0f7f5a60d\")>\n",
      "<selenium.webdriver.firefox.webelement.FirefoxWebElement (session=\"d1165e5a-93f7-3941-bd50-6d851bb24959\", element=\"b018fa9c-aa5f-804c-b369-1c35d8ca895b\")>\n",
      "<selenium.webdriver.firefox.webelement.FirefoxWebElement (session=\"d1165e5a-93f7-3941-bd50-6d851bb24959\", element=\"04b0b007-ee71-a446-bc71-fddfe6aef43b\")>\n",
      "<selenium.webdriver.firefox.webelement.FirefoxWebElement (session=\"d1165e5a-93f7-3941-bd50-6d851bb24959\", element=\"ea1756b4-7862-2840-8c8b-a0aeba730848\")>\n",
      "<selenium.webdriver.firefox.webelement.FirefoxWebElement (session=\"d1165e5a-93f7-3941-bd50-6d851bb24959\", element=\"cb995cb5-63ad-474f-9acd-b5b08560bbf5\")>\n",
      "<selenium.webdriver.firefox.webelement.FirefoxWebElement (session=\"d1165e5a-93f7-3941-bd50-6d851bb24959\", element=\"3b6ac4a4-d542-4344-b834-dde2698ad1e7\")>\n"
     ]
    }
   ],
   "source": [
    "dc_card = driver_scroll.find_element_by_xpath(\"//div[@class='dc-card']\")\n",
    "\n",
    "while True:\n",
    "    try:\n",
    "        print(dc_card)\n",
    "        #Here I am setting the new dc_card to the sibling of the previous dc-card\n",
    "        #I have to specify exactly which tag I want to use next as the sibling\n",
    "        dc_card = dc_card.find_element_by_xpath(\".//following-sibling::div[@class='dc-card']\")\n",
    "        dc_card.send_keys(Keys.PAGE_DOWN)\n",
    "        time.sleep(3)\n",
    "    except:\n",
    "        break"
   ]
  },
  {
   "cell_type": "markdown",
   "metadata": {},
   "source": [
    "<a id='#links'></a>\n",
    "\n",
    "### Iterate Through All Links\n",
    "\n",
    "Now that we've demonstrated how to **point**, **click** and **scroll** down a webpage, we will now put all these pieces together to iterate through each subsection of the Rotten Tomatoes website, point, click, scroll and collect the data on each of these pages.\n",
    "\n",
    "Let's take it from the top!"
   ]
  },
  {
   "cell_type": "markdown",
   "metadata": {},
   "source": [
    "#### Call the website and create a driver instance like we did previously..."
   ]
  },
  {
   "cell_type": "code",
   "execution_count": 68,
   "metadata": {
    "collapsed": true
   },
   "outputs": [],
   "source": [
    "website = 'https://www.rottentomatoes.com/'\n",
    "driver = webdriver.Firefox()\n",
    "driver.get(website)"
   ]
  },
  {
   "cell_type": "markdown",
   "metadata": {
    "collapsed": true
   },
   "source": [
    "#### Now let's scroll down the page to make sure all our links are loaded"
   ]
  },
  {
   "cell_type": "code",
   "execution_count": 69,
   "metadata": {
    "collapsed": true
   },
   "outputs": [],
   "source": [
    "driver.execute_script(\"window.scrollTo(0, document.body.scrollHeight);\")"
   ]
  },
  {
   "cell_type": "markdown",
   "metadata": {},
   "source": [
    "#### Grab all the \"View All\" objects"
   ]
  },
  {
   "cell_type": "code",
   "execution_count": 70,
   "metadata": {
    "collapsed": true
   },
   "outputs": [],
   "source": [
    "buttons = driver.find_elements_by_class_name('clickForMore')"
   ]
  },
  {
   "cell_type": "markdown",
   "metadata": {},
   "source": [
    "Each of the **\"View All\"** objects have different **id** tag names (1). However if we look at the **div class** parent node (2), we see that all the **class names are \"clickMore\"**. So what we'll do is create a list of all the **\"clickMore\"** objects, and then select the first child node.\n",
    "\n",
    "![title](ViewAll.png)\n",
    "\n",
    "* Once we've selected the correct child nodes, we'll extract the **href** tag, which we can follow to parse the relevant links for our data analysis.\n",
    "\n",
    "* Using a **try-except** statement, we'll search for the the **\"clickMore\"** objects which our scraper can parse, and then export that data to CSV files with the page name"
   ]
  },
  {
   "cell_type": "code",
   "execution_count": 71,
   "metadata": {
    "scrolled": true
   },
   "outputs": [
    {
     "name": "stdout",
     "output_type": "stream",
     "text": [
      "https://editorial.rottentomatoes.com/total-recall/\n",
      "pass\n",
      "https://editorial.rottentomatoes.com/rt-hubs/\n",
      "pass\n",
      "https://editorial.rottentomatoes.com/news/\n",
      "pass\n",
      "https://www.rottentomatoes.com/browse/opening/\n",
      "OPENING THIS WEEK\n",
      "https://www.rottentomatoes.com/browse/in-theaters/\n",
      "TOP BOX OFFICE\n",
      "WEEKEND BOX OFFICE EARNINGS\n",
      "https://www.rottentomatoes.com/browse/upcoming/\n",
      "COMING SOON\n",
      "https://www.rottentomatoes.com/browse/tv-list-1\n",
      "NEW TV TONIGHT\n",
      "pass\n",
      "https://www.rottentomatoes.com/browse/tv-list-2\n",
      "MOST POPULAR TV ON RT\n",
      "pass\n",
      "https://www.rottentomatoes.com/browse/top-dvd-streaming/\n",
      "TOP DVD & STREAMING\n",
      "https://www.rottentomatoes.com/browse/cf-in-theaters/\n",
      "CERTIFIED FRESH MOVIES\n",
      "WEEKEND BOX OFFICE EARNINGS\n",
      "https://editorial.rottentomatoes.com/video-interviews/\n",
      "pass\n",
      "https://editorial.rottentomatoes.com/news/\n",
      "pass\n",
      "https://editorial.rottentomatoes.com/publications/\n",
      "pass\n"
     ]
    }
   ],
   "source": [
    "#![title](ViewAll.png)\n",
    "for button in buttons:\n",
    "    #Extract the \"href\" element\n",
    "    website = button.find_element_by_xpath(\".//*\").get_attribute(\"href\")\n",
    "    print(website)\n",
    "    driver = webdriver.Firefox()\n",
    "    driver.get(website)\n",
    "    time.sleep(5)\n",
    "    #If the \"clickMore\" object has a 'main-column-item', parse the page\n",
    "    try:\n",
    "        print(driver.find_element_by_class_name('main-column-item').text)\n",
    "        time.sleep(5)\n",
    "        titles = []\n",
    "        dates = []\n",
    "        scores= []\n",
    "        movies = driver.find_elements_by_class_name('mb-movie')\n",
    "        for movie in movies:\n",
    "            titles.append(movie.find_element_by_class_name('movieTitle').text)\n",
    "            dates.append(movie.find_element_by_class_name('release-date').text)\n",
    "            try:\n",
    "                scores.append(movie.find_element_by_class_name('tMeterScore').text)\n",
    "            except:\n",
    "                scores.append(None)\n",
    "        #The 'main-column-item' element is saved as the CSV file name so that we know what data we're looking at\n",
    "        pd.DataFrame({'Title':titles, 'Dates': dates, 'Score': scores}).to_csv(driver.find_element_by_class_name('main-column-item').text + '.csv')\n",
    "    #If the \"clickMore\" object does not have a 'main-column-item', pass\n",
    "    except:\n",
    "        print(\"pass\")\n",
    "    driver.quit()\n",
    "    time.sleep(5)"
   ]
  },
  {
   "cell_type": "markdown",
   "metadata": {},
   "source": [
    "#### Congratulations! \n",
    "\n",
    "You've covered some important concepts for webscraping with **Selenium**, including:\n",
    "\n",
    "* How to install/run headless browsers to automate point-click tasks\n",
    "* Extracting web elements using Selenium\n",
    "* Scrolling and clicking through a webpage\n",
    "* Handling non-trivial websites and scrolling\n",
    "\n",
    "All of these concepts will be very useful. Our next lecture will tie these web-scraping building blocks together with a **faster, cleaner framework (Scrapy)** to run these processes in **parallel**, and provide us the autonomy to run scrapers using all of these tools (plus many more) at **break-neck speed**!"
   ]
  },
  {
   "cell_type": "code",
   "execution_count": null,
   "metadata": {
    "collapsed": true
   },
   "outputs": [],
   "source": []
  }
 ],
 "metadata": {
  "kernelspec": {
   "display_name": "Python 3",
   "language": "python",
   "name": "python3"
  },
  "language_info": {
   "codemirror_mode": {
    "name": "ipython",
    "version": 3
   },
   "file_extension": ".py",
   "mimetype": "text/x-python",
   "name": "python",
   "nbconvert_exporter": "python",
   "pygments_lexer": "ipython3",
   "version": "3.6.3"
  }
 },
 "nbformat": 4,
 "nbformat_minor": 2
}
