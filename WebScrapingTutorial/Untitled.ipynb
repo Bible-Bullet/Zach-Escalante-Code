{
 "cells": [
  {
   "cell_type": "code",
   "execution_count": 1,
   "metadata": {
    "collapsed": true
   },
   "outputs": [],
   "source": [
    "import re\n",
    "import pandas as pd\n",
    "import urllib.request\n",
    "from bs4 import BeautifulSoup"
   ]
  },
  {
   "cell_type": "code",
   "execution_count": 7,
   "metadata": {
    "collapsed": true
   },
   "outputs": [],
   "source": [
    "#Declare the website as a string. For this example, I've decided to grab the data from rottentomatoes website, parse\n",
    "#the html and save it in a pandas dataframe which we can export to a csv file.\n",
    "webpage = 'http://vip.stock.finance.sina.com.cn/corp/go.php/vCB_AllNewsStock/symbol/sh600297.phtml'\n",
    "\n",
    "#Use the 'with-as' method to open the webpage and create an object of the html source code\n",
    "with urllib.request.urlopen(webpage) as response:\n",
    "   html = response.read()"
   ]
  },
  {
   "cell_type": "code",
   "execution_count": 8,
   "metadata": {},
   "outputs": [
    {
     "name": "stderr",
     "output_type": "stream",
     "text": [
      "/Users/zacharyescalante/anaconda3/lib/python3.6/site-packages/bs4/__init__.py:181: UserWarning: No parser was explicitly specified, so I'm using the best available HTML parser for this system (\"lxml\"). This usually isn't a problem, but if you run this code on another system, or in a different virtual environment, it may use a different parser and behave differently.\n",
      "\n",
      "The code that caused this warning is on line 193 of the file /Users/zacharyescalante/anaconda3/lib/python3.6/runpy.py. To get rid of this warning, change code that looks like this:\n",
      "\n",
      " BeautifulSoup(YOUR_MARKUP})\n",
      "\n",
      "to this:\n",
      "\n",
      " BeautifulSoup(YOUR_MARKUP, \"lxml\")\n",
      "\n",
      "  markup_type=markup_type))\n"
     ]
    }
   ],
   "source": [
    "soup = BeautifulSoup(html)"
   ]
  },
  {
   "cell_type": "code",
   "execution_count": 9,
   "metadata": {
    "collapsed": true
   },
   "outputs": [],
   "source": [
    "categories = soup.find_all('div', {'id': 'con02-7'})"
   ]
  },
  {
   "cell_type": "code",
   "execution_count": 12,
   "metadata": {},
   "outputs": [
    {
     "name": "stdout",
     "output_type": "stream",
     "text": [
      "<div class=\"tagmain\" id=\"con02-7\" style=\"margin-top:20px;line-height: 23px;\">\n",
      "<table align=\"center\" border=\"0\" cellpadding=\"0\" cellspacing=\"1\" class=\"table2\" width=\"100%\">\n",
      "<tr>\n",
      "<td valign=\"top\" width=\"60\">  <font style=\" font-weight:bold\">个股相关资讯:</font></td></tr>\n",
      "<tr>\n",
      "<td>\n",
      "<div class=\"datelist\"><ul>\r\n",
      "\t\t\t    2018-09-26 04:41  <a href=\"http://finance.sina.com.cn/roll/2018-09-26/doc-ihkmwytp1392251.shtml\" target=\"_blank\">广汇引入恒大145亿投资： 资金压力促汽车流通行业转型</a> <br/>    2018-09-26 04:41  <a href=\"http://finance.sina.com.cn/roll/2018-09-26/doc-ifxeuwwr8211151.shtml\" target=\"_blank\">恒大280亿入局新能源汽车 地产资本深度整合汽车产业链</a> <br/>    2018-09-26 01:37  <a href=\"http://finance.sina.com.cn/chanjing/gsnews/2018-09-26/doc-ihkmwytp1299590.shtml\" target=\"_blank\">恒大280亿入新能源汽车 地产资本深度整合汽车产业链</a> <br/>    2018-09-26 01:37  <a href=\"http://finance.sina.com.cn/chanjing/gsnews/2018-09-26/doc-ihkmwytp1299571.shtml\" target=\"_blank\">广汇引入恒大145亿投资:资金压力促汽车流通行业转型</a> <br/>    2018-09-25 21:53  <a href=\"http://finance.sina.com.cn/stock/s/2018-09-25/doc-ihkmwytp1057262.shtml\" target=\"_blank\">三个月豪掷200亿 许家印的“造车梦”到底有多昂贵？</a> <br/>    2018-09-25 17:26  <a href=\"http://finance.sina.com.cn/stock/s/2018-09-25/doc-ifxeuwwr8068718.shtml\" target=\"_blank\">恒大广汇145亿联姻两只A股应声涨停 合作方向在哪里?</a> <br/>    2018-09-25 09:30  <a href=\"http://finance.sina.com.cn/stock/gujiayidong/2018-09-25/doc-ihkmwytn9481846.shtml\" target=\"_blank\">恒大145亿入股广汇 旗下三家A股子公司两家涨停</a> <br/>    2018-09-25 09:29  <a href=\"http://finance.sina.com.cn/roll/2018-09-25/doc-ihkmwytn9504173.shtml\" target=\"_blank\">广汇汽车、广汇物流开盘涨停 恒大入主广汇成为二股东</a> <br/>    2018-09-25 08:49  <a href=\"http://finance.sina.com.cn/stock/s/2018-09-25/doc-ihkmwytn9406077.shtml\" target=\"_blank\">恒大145亿入股广汇孙广信还是实控人 24万股东成赢家</a> <br/>    2018-09-25 06:34  <a href=\"http://finance.sina.com.cn/stock/s/2018-09-25/doc-ihkmwytn9276183.shtml\" target=\"_blank\">旗下三家A股公司公告确认 广汇集团引入恒大做二当家</a> <br/>    2018-09-25 01:42  <a href=\"http://finance.sina.com.cn/stock/hkstock/ggscyd/2018-09-25/doc-ifxeuwwr7817723.shtml\" target=\"_blank\">恒大145亿入股广汇 四大领域建立战略合作</a> <br/>    2018-09-25 01:00  <a href=\"http://finance.sina.com.cn/stock/s/2018-09-25/doc-ifxeuwwr7813672.shtml\" target=\"_blank\">恒大集团145亿元参股广汇集团 将成第二大股东</a> <br/>    2018-09-25 00:49  <a href=\"http://finance.sina.com.cn/chanjing/gsnews/2018-09-25/doc-ihkmwytn9121052.shtml\" target=\"_blank\">恒大构建汽车帝国：以购FF价格1倍多入股广汇</a> <br/>    2018-09-25 00:14  <a href=\"http://finance.sina.com.cn/stock/hkstock/ggscyd/2018-09-25/doc-ifxeuwwr7807531.shtml\" target=\"_blank\">巨资联姻广汇 恒大造车再下一城</a> <br/>    2018-09-24 22:22  <a href=\"http://finance.sina.com.cn/stock/y/2018-09-25/doc-ihkmwytn9001416.shtml\" target=\"_blank\">取消商品房预售制？港股地产股一天蒸发逾636亿港元</a> <br/>    2018-09-24 20:33  <a href=\"http://finance.sina.com.cn/stock/s/2018-09-24/doc-ifxeuwwr7769030.shtml\" target=\"_blank\">恒大145亿元入股广汇 A股这23.8万股东的好运来了</a> <br/>    2018-09-24 19:00  <a href=\"http://finance.sina.com.cn/roll/2018-09-24/doc-ihkmwytn8779192.shtml\" target=\"_blank\">145亿联姻广汇 恒大加码造车梦</a> <br/>    2018-09-24 19:00  <a href=\"http://finance.sina.com.cn/roll/2018-09-24/doc-ihkmwytn8779075.shtml\" target=\"_blank\">部分募集资金违规划转控股股东 广汇汽车全资子公司广汇有限遭警示</a> <br/>    2018-09-24 17:06  <a href=\"http://finance.sina.com.cn/roll/2018-09-24/doc-ifxeuwwr7729687.shtml\" target=\"_blank\">广汇汽车、广汇能源、广汇物流：恒大集团拟145亿元入股广汇集团 对公司2018年度财务指标不构成重大影响</a> <br/>    2018-09-24 13:44  <a href=\"http://finance.sina.com.cn/stock/hkstock/ggscyd/2018-09-24/doc-ifxeuwwr7682307.shtml\" target=\"_blank\">145亿元入股广汇集团 恒大下跌逾3%</a> <br/>    2018-09-24 12:47  <a href=\"http://finance.sina.com.cn/stock/hkstock/ggscyd/2018-09-24/doc-ihkmwytn8313742.shtml\" target=\"_blank\">许家印145亿豪气出手 广汇宝信应声狂飙42%</a> <br/>    2018-09-24 10:54  <a href=\"http://finance.sina.com.cn/roll/2018-09-24/doc-ihkmwytn8210962.shtml\" target=\"_blank\">开盘狂飙42%！中国首富一出手，新疆首富“赚大了”！</a> <br/>    2018-09-23 22:42  <a href=\"http://finance.sina.com.cn/chanjing/gsnews/2018-09-24/doc-ihkmwytn7525313.shtml\" target=\"_blank\">恒大豪掷145亿入股广汇 贾跃亭的FF91国内开售倒计时</a> <br/>    2018-09-23 21:38  <a href=\"http://finance.sina.com.cn/roll/2018-09-23/doc-ihkmwytn7455972.shtml\" target=\"_blank\">恒大集团144.9亿元入股新疆广汇集团，成第二大股东</a> <br/>    2018-09-04 17:08  <a href=\"http://finance.sina.com.cn/stock/hkstock/ggscyd/2018-09-04/doc-ihiixyeu3216876.shtml\" target=\"_blank\">广汇宝信(01293)获控股股东增持313.4万股</a> <br/>    2018-09-03 20:00  <a href=\"http://finance.sina.com.cn/roll/2018-09-03/doc-ihiqtcan6064805.shtml\" target=\"_blank\">广汇汽车耗资近1.5亿元回购公司2333万股</a> <br/>    2018-08-29 13:01  <a href=\"http://finance.sina.com.cn/roll/2018-08-29/doc-ihikcahf2791850.shtml\" target=\"_blank\">广汇汽车上半年营收同比增长11.19%</a> <br/>    2018-08-29 01:00  <a href=\"http://finance.sina.com.cn/stock/ggzz/2018-08-29/doc-ihiixyeu0765780.shtml\" target=\"_blank\">广汇汽车公布半年报 上半年净利增加5.22%</a> <br/>    2018-08-19 02:33  <a href=\"http://finance.sina.com.cn/roll/2018-08-19/doc-ihhxaafy3483864.shtml\" target=\"_blank\">庞庆华称\"资金较为紧张\" 庞大\"卖资产\"收入26亿元</a> <br/>    2018-08-18 03:16  <a href=\"http://finance.sina.com.cn/stock/s/2018-08-18/doc-ihhvciix0315034.shtml\" target=\"_blank\">庞庆华称资金紧张需瘦身 庞大三月卖资产收入26亿</a> <br/>    2018-08-02 06:55  <a href=\"http://finance.sina.com.cn/stock/s/2018-08-02/doc-ihhehtqf2607023.shtml\" target=\"_blank\">股海导航 8月2日沪深股市公告提示</a> <br/>    2018-07-27 10:04  <a href=\"http://finance.sina.com.cn/stock/s/2018-07-27/doc-ihfvkitx5262234.shtml\" target=\"_blank\">超千家上市公司认购理财产品 上半年投资近8000亿元</a> <br/>    2018-07-11 02:32  <a href=\"http://finance.sina.com.cn/chanjing/cyxw/2018-07-11/doc-ihfefkqp8844407.shtml\" target=\"_blank\">汽车经销商集团现两极分化 二手车业务成新战场</a> <br/>    2018-07-06 23:38  <a href=\"http://finance.sina.com.cn/stock/s/2018-07-07/doc-ihexfcvk8569203.shtml\" target=\"_blank\">庞庆华解读58同城等战略投资：庞大太陈旧了</a> <br/>    2018-07-06 06:34  <a href=\"http://finance.sina.com.cn/stock/s/2018-07-06/doc-ihexfcvk2502026.shtml\" target=\"_blank\">白马蓝筹纷纷筹划回购 250亿“真金白银”蓄势待发</a> <br/>    2018-07-06 04:40  <a href=\"http://finance.sina.com.cn/roll/2018-07-06/doc-ihexfcvk2357781.shtml\" target=\"_blank\">广汇汽车拟投不超过4亿元回购股份 连打“组合拳”</a> <br/>    2018-07-06 04:39  <a href=\"http://finance.sina.com.cn/roll/2018-07-06/doc-ihexfcvk2354732.shtml\" target=\"_blank\">4天12家上市公司抛回购预案 涉及金额76亿元</a> <br/>    2018-07-06 01:38  <a href=\"http://finance.sina.com.cn/stock/hyyj/2018-07-06/doc-ihexfcvk2034827.shtml\" target=\"_blank\">白马股企稳夯实A股底气 蓝筹成长各具机会</a> <br/>    2018-07-06 00:00  <a href=\"http://finance.sina.com.cn/stock/s/2018-07-06/doc-ihexfcvk1746518.shtml\" target=\"_blank\">遭证监会处罚 庞大信披违规事件落幕</a> <br/>    2018-07-05 06:57  <a href=\"http://finance.sina.com.cn/stock/s/2018-07-05/doc-ihevauxk6962951.shtml\" target=\"_blank\">股海导航 7月5日沪深股市公告提示</a> <br/> </ul>\n",
      "</div>\n",
      "<div style=\"clear: both;\"></div>\n",
      "<div style=\"margin-top:10px;float:right;margin-right:100px;\">        \r\n",
      "\t\t    第1页    <a href=\"http://vip.stock.finance.sina.com.cn/corp/view/vCB_AllNewsStock.php?symbol=sh600297&amp;Page=2\">下一页</a> </div>\n",
      "</td>\n",
      "</tr>\n",
      "</table>\n",
      "</div>\n"
     ]
    }
   ],
   "source": [
    "for article in categories:\n",
    "    print(article)"
   ]
  },
  {
   "cell_type": "code",
   "execution_count": null,
   "metadata": {
    "collapsed": true
   },
   "outputs": [],
   "source": []
  }
 ],
 "metadata": {
  "kernelspec": {
   "display_name": "Python 3",
   "language": "python",
   "name": "python3"
  },
  "language_info": {
   "codemirror_mode": {
    "name": "ipython",
    "version": 3
   },
   "file_extension": ".py",
   "mimetype": "text/x-python",
   "name": "python",
   "nbconvert_exporter": "python",
   "pygments_lexer": "ipython3",
   "version": "3.6.3"
  }
 },
 "nbformat": 4,
 "nbformat_minor": 2
}
