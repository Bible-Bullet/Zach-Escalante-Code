{
 "cells": [
  {
   "cell_type": "markdown",
   "metadata": {},
   "source": [
    "# Selenium Webscraping Tutorial\n",
    "\n",
    "#### Table of Contents\n",
    "\n",
    "1. <a href='##Introduction'>The Basics of Webscraping With Selenium</a> <br>\n",
    "> 1.a <a href='##package'>The Selenium package</a> <br>\n",
    "2. <a href='##example'>Webscraping Example</a> <br>\n",
    "> 2.a <a href='##browser'>Selenium headless browser</a> <br>\n",
    "> 2.b <a href='##find_elements'>Find elements using the Selenium Library</a> <br>\n",
    "> 2.c <a href='##click_scroll'>Clicking, scrolling, going back</a> <br>\n",
    "3. <a href='##scrolling_example'>Selenium scrolling example</a> <br>\n",
    "4. <a href='##links'>Iterating through all movie links</a> <br>"
   ]
  },
  {
   "cell_type": "markdown",
   "metadata": {},
   "source": [
    "<a id='#Introduction'></a>\n",
    "\n",
    "### The Basics of Webscraping with Selenium\n",
    "\n",
    "Selenium automates web browsering. Routine point-and-click tasks on websites can (and should) be handled programmatically, and Selenium provides us this capability. There are many use cases for Selenium that BeautifulSoup cannot handle. Programs that require scrolling to the bottom of a webpage, pointing and clicking on a button, or passing information into a search box are all perfect use cases for Selenium. Selenium has it's own HTML parsing functionality (which we'll examine), but it can also be used **in conjunction** with BeautifulSoup to load webpages, where BeautifulSoup can be called to parse the page. We will examine all of these use cases and more in the following demo.\n",
    "\n",
    "We'll be working in Python 3 for this tutorial, although Beautiful Soup runs for Python 2 with some simple adjustments to your code. Let's take a look at an example and see if we can get you up and running with parsing your own web pages!\n",
    "\n",
    "(1) https://www.seleniumhq.org/"
   ]
  },
  {
   "cell_type": "markdown",
   "metadata": {},
   "source": [
    "<a id='#package'></a>\n",
    "\n",
    "### The Selenium package\n",
    "\n",
    "The Selenium Webdriver allows us to fetch webpages which we can control through remote operations (via the Python code which we'll write). The first steps in running Selenium are to\n",
    "\n",
    "* **Install Selenium (in your envirnonment)**\n",
    "* **Install Selenium Web Driver**\n",
    "\n",
    "(http://selenium-python.readthedocs.io/installation.html)\n",
    "\n",
    "Try following the directions listed in the link above and make sure that you're webrowser corresponds to the supported version listed in the webdriver download links. The latest version should be clearly denoted:\n",
    "\n",
    "http://selenium-python.readthedocs.io/installation.html"
   ]
  },
  {
   "cell_type": "markdown",
   "metadata": {},
   "source": [
    "<a id='#example'></a>\n",
    "### Let's Start a Webscraping Example\n",
    "\n",
    "The first thing we need to do is import the relevant packages for our project. These packages are the following: \n",
    "\n",
    "* **re** - the regular expressions package for evaluating strings \n",
    "* **pandas** - this is a fundamental package for formatting and evaluating data \n",
    "* **webdriver** - this is the headless browser which will receive our commands and parse webpages"
   ]
  },
  {
   "cell_type": "code",
   "execution_count": 49,
   "metadata": {
    "collapsed": true
   },
   "outputs": [],
   "source": [
    "import re\n",
    "import time\n",
    "import pandas as pd\n",
    "from selenium import webdriver\n",
    "from selenium.webdriver.common.keys import Keys"
   ]
  },
  {
   "cell_type": "markdown",
   "metadata": {},
   "source": [
    "<a id='#browser'></a>\n",
    "First let's call the **webdriver** (Firefox in my case) and instantiate the web browser"
   ]
  },
  {
   "cell_type": "code",
   "execution_count": 50,
   "metadata": {
    "collapsed": true
   },
   "outputs": [],
   "source": [
    "website = 'https://www.rottentomatoes.com/'\n",
    "driver = webdriver.Firefox()\n",
    "driver.get(website)"
   ]
  },
  {
   "cell_type": "markdown",
   "metadata": {},
   "source": [
    "We can now tab to the browser we created and see that we are on the Rotten Tomatoe's website! The goal of this project is going to be to finish something we were unable to do with Beautiful Soup:\n",
    "\n",
    "1. Follow links for each sub-section and click on the **\"view all\"** button to load the remainder of the movies\n",
    "2. Scroll down the page to to allow the HTML to load so that we can grab all of the movies on the page"
   ]
  },
  {
   "cell_type": "markdown",
   "metadata": {
    "collapsed": true
   },
   "source": [
    "<a id='#find_elements'></a>\n",
    "\n",
    "So to start, let's grab each of the **\"view all\"** buttons on the webpage. Selenium has a number of options for us to locate elements. Just a few of these are:\n",
    "\n",
    "For grabbing individual items on a page (the first item in the HTML tree):\n",
    "\n",
    "* *find_element_by_id*\n",
    "* *find_element_by_name*\n",
    "* *find_element_by_xpath*\n",
    "* *find_element_by_link_text*\n",
    "* *find_element_by_partial_link_text*\n",
    "* *find_element_by_tag_name*\n",
    "* *find_element_by_class_name*\n",
    "* *find_element_by_css_selector*\n",
    "\n",
    "For grabbing multiple items on a page (returns a list of the items selected):\n",
    "\n",
    "* *find_elements_by_id*\n",
    "* *find_elements_by_name*\n",
    "* *find_elements_by_xpath*\n",
    "* *find_elements_by_link_text*\n",
    "* *find_elements_by_partial_link_text*\n",
    "* *find_elements_by_tag_name*\n",
    "* *find_elements_by_class_name*\n",
    "* *find_elements_by_css_selector*\n",
    "\n",
    "Ref: https://selenium-python.readthedocs.io/locating-elements.html "
   ]
  },
  {
   "cell_type": "code",
   "execution_count": 51,
   "metadata": {},
   "outputs": [
    {
     "name": "stdout",
     "output_type": "stream",
     "text": [
      "<selenium.webdriver.firefox.webelement.FirefoxWebElement (session=\"7d63b6d8-ba16-4047-b8c1-cb7490d6333a\", element=\"34837fc0-e487-3c45-b4cd-6b820558a85c\")>\n",
      "<selenium.webdriver.firefox.webelement.FirefoxWebElement (session=\"7d63b6d8-ba16-4047-b8c1-cb7490d6333a\", element=\"34837fc0-e487-3c45-b4cd-6b820558a85c\")>\n"
     ]
    }
   ],
   "source": [
    "#We can find the first \"view all\" button by searching for the driver id\n",
    "print(driver.find_element_by_id('Top-Box-Office-view-all'))\n",
    "#We can also find it by searching x-path\n",
    "print(driver.find_element_by_xpath(\"//a[@id='Top-Box-Office-view-all']\"))\n",
    "button = driver.find_element_by_id('Top-Box-Office-view-all')"
   ]
  },
  {
   "cell_type": "markdown",
   "metadata": {},
   "source": [
    "<a id='#click_scroll'></a>\n",
    "Now we can **click** our button to follow the link to the next page and examine all the data:"
   ]
  },
  {
   "cell_type": "code",
   "execution_count": 52,
   "metadata": {
    "collapsed": true
   },
   "outputs": [],
   "source": [
    "button.click()"
   ]
  },
  {
   "cell_type": "markdown",
   "metadata": {},
   "source": [
    "Now if we look at the webpage, we see that not all the movies are loaded yet. We need to scroll down for all the movies to load. Fortunately for us, Selenium has built-in functionality to handle this situation:\n",
    "\n",
    "Ref: https://stackoverflow.com/questions/42982950/how-to-scroll-down-the-page-till-bottomend-page-in-the-selenium-webdriver/42983332 <br>\n",
    "Ref: https://stackoverflow.com/questions/22702277/crawl-site-that-has-infinite-scrolling-using-python"
   ]
  },
  {
   "cell_type": "code",
   "execution_count": 53,
   "metadata": {
    "collapsed": true
   },
   "outputs": [],
   "source": [
    "driver.execute_script(\"window.scrollTo(0, document.body.scrollHeight);\")"
   ]
  },
  {
   "cell_type": "markdown",
   "metadata": {},
   "source": [
    "Now that we are on the webpage and have scrolled to the bottom of the page (to make sure all our data is loaded), we will grab the data for all the movies on the page and store it in a **CSV** file"
   ]
  },
  {
   "cell_type": "code",
   "execution_count": 54,
   "metadata": {
    "collapsed": true
   },
   "outputs": [],
   "source": [
    "movies = driver.find_elements_by_class_name('mb-movie')"
   ]
  },
  {
   "cell_type": "markdown",
   "metadata": {},
   "source": [
    "Now let's save our movie data to a CSV file so we can review it"
   ]
  },
  {
   "cell_type": "code",
   "execution_count": 55,
   "metadata": {},
   "outputs": [
    {
     "name": "stdout",
     "output_type": "stream",
     "text": [
      "Downton Abbey\n",
      "In Theaters Sep 20\n",
      "84%\n",
      "Ad Astra\n",
      "In Theaters Sep 20\n",
      "83%\n",
      "Rambo: Last Blood\n",
      "In Theaters Sep 20\n",
      "27%\n",
      "It Chapter Two\n",
      "In Theaters Sep 6\n",
      "63%\n",
      "Hustlers\n",
      "In Theaters Sep 13\n",
      "88%\n",
      "The Lion King\n",
      "In Theaters Jul 19\n",
      "53%\n",
      "Good Boys\n",
      "In Theaters Aug 16\n",
      "80%\n",
      "Angel Has Fallen\n",
      "In Theaters Aug 23\n",
      "39%\n",
      "Overcomer\n",
      "In Theaters Aug 23\n",
      "50%\n",
      "Fast & Furious Presents: Hobbs & Shaw\n",
      "In Theaters Aug 2\n",
      "67%\n",
      "Dora And The Lost City Of Gold\n",
      "In Theaters Aug 9\n",
      "84%\n",
      "The Peanut Butter Falcon\n",
      "In Theaters Aug 9\n",
      "95%\n",
      "Brittany Runs A Marathon\n",
      "In Theaters Sep 13\n",
      "88%\n",
      "Scary Stories To Tell In The Dark\n",
      "In Theaters Aug 9\n",
      "79%\n",
      "The Goldfinch\n",
      "In Theaters Sep 13\n",
      "25%\n",
      "The Angry Birds Movie 2\n",
      "In Theaters Aug 13\n",
      "73%\n",
      "Once Upon A Time In Hollywood\n",
      "In Theaters Jul 26\n",
      "85%\n",
      "Linda Ronstadt: The Sound Of My Voice\n",
      "In Theaters Sep 6\n",
      "87%\n",
      "Spider-Man: Far From Home\n",
      "In Theaters Jul 2\n",
      "90%\n",
      "Toy Story 4\n",
      "In Theaters Jun 21\n",
      "97%\n",
      "Official Secrets\n",
      "In Theaters Aug 30\n",
      "82%\n",
      "Ready Or Not\n",
      "In Theaters Aug 21\n",
      "88%\n",
      "Chhichhore\n",
      "In Theaters Sep 6\n",
      "55%\n",
      "47 Meters Down: Uncaged\n",
      "In Theaters Aug 16\n",
      "43%\n",
      "Aladdin\n",
      "In Theaters May 24\n",
      "57%\n",
      "Ne Zha\n",
      "In Theaters Aug 29\n",
      "83%\n",
      "The Art Of Racing In The Rain\n",
      "In Theaters Aug 9\n",
      "43%\n",
      "The Farewell\n",
      "In Theaters Aug 9\n",
      "99%\n",
      "The Zoya Factor\n",
      "In Theaters Sep 20\n",
      "44%\n",
      "Tod@s Caen\n",
      "In Theaters Aug 30\n",
      "60%\n",
      "Don't Let Go (Relive)\n",
      "In Theaters Aug 30\n",
      "37%\n",
      "Annabelle Comes Home\n",
      "In Theaters Jun 26\n",
      "65%\n"
     ]
    }
   ],
   "source": [
    "titles = []\n",
    "dates = []\n",
    "scores= []\n",
    "for movie in movies:\n",
    "    print(movie.find_element_by_class_name('movieTitle').text)\n",
    "    print(movie.find_element_by_class_name('release-date').text)\n",
    "    titles.append(movie.find_element_by_class_name('movieTitle').text)\n",
    "    dates.append(movie.find_element_by_class_name('release-date').text)\n",
    "    try:\n",
    "        print(movie.find_element_by_class_name('tMeterScore').text)\n",
    "        scores.append(movie.find_element_by_class_name('tMeterScore').text)\n",
    "    except:\n",
    "        scores.append(None)\n",
    "pd.DataFrame({'Title':titles, 'Dates': dates, 'Score': scores}).to_csv(driver.find_element_by_class_name('main-column-item').text + '.csv')"
   ]
  },
  {
   "cell_type": "markdown",
   "metadata": {},
   "source": [
    "Finally, let's go back to the previous webpage so that we can scrape the rest of the data from the Rotten Tomatoes website"
   ]
  },
  {
   "cell_type": "code",
   "execution_count": 56,
   "metadata": {
    "collapsed": true
   },
   "outputs": [],
   "source": [
    "driver.back()"
   ]
  },
  {
   "cell_type": "markdown",
   "metadata": {},
   "source": [
    "Let's close the web driver for now"
   ]
  },
  {
   "cell_type": "code",
   "execution_count": 57,
   "metadata": {
    "collapsed": true
   },
   "outputs": [],
   "source": [
    "driver.quit()"
   ]
  },
  {
   "cell_type": "markdown",
   "metadata": {},
   "source": [
    "<a id='#scrolling_example'></a>\n",
    "\n",
    "### Selenium Scrolling\n",
    "\n",
    "Most webpages that we need to gather data from are not created to assist us in our web crawling tasks. As such, properly scrolling a website is frequently used functionality Here we have **Example** code that demonstrates how one might scroll to the bottom of a webpage that loads dynamically.\n",
    "\n",
    "We'll demonstrate on a supermarket website with digital coupons. Take a look at the website in your browswe and inspect the elements. There are several aspects of the website that need to be accounted for:\n",
    "\n",
    "1. The \"Load More\" button\n",
    "2. Scrolling to the bottom of the page\n",
    "\n",
    "We'll handle each of these..."
   ]
  },
  {
   "cell_type": "code",
   "execution_count": 70,
   "metadata": {
    "collapsed": true
   },
   "outputs": [],
   "source": [
    "website_scroll = 'https://www.publix.com/savings/coupons/digital-coupons'\n",
    "driver_scroll = webdriver.Firefox()\n",
    "driver_scroll.get(website_scroll)"
   ]
  },
  {
   "cell_type": "markdown",
   "metadata": {},
   "source": [
    "Did the entire page load? If not, how many objects loaded?\n",
    "\n",
    "As we see here by looking at the length of all the objects collected, only a subset of all the coupons are currently loaded. In order to get all the coupon info, we'll need to scroll down and click the **\"Load More\"** button, and then continue to scroll until the entire page is loaded."
   ]
  },
  {
   "cell_type": "code",
   "execution_count": 71,
   "metadata": {},
   "outputs": [
    {
     "data": {
      "text/plain": [
       "30"
      ]
     },
     "execution_count": 71,
     "metadata": {},
     "output_type": "execute_result"
    }
   ],
   "source": [
    "len(driver_scroll.find_elements_by_xpath(\"//li[@class='card savings']\"))"
   ]
  },
  {
   "cell_type": "markdown",
   "metadata": {},
   "source": [
    "First let's define the **\"Load More\"** object. We declare it using x-path, and then we'll execute a Java command to scroll down the page until we find that element"
   ]
  },
  {
   "cell_type": "code",
   "execution_count": 72,
   "metadata": {},
   "outputs": [],
   "source": [
    "element = driver_scroll.find_element_by_xpath(\"//button[@class='loading-button button cta animate']\")\n",
    "driver_scroll.execute_script(\"arguments[0].scrollIntoView();\", element)"
   ]
  },
  {
   "cell_type": "markdown",
   "metadata": {},
   "source": [
    "Next click the **element** to load the rest of the objects on the page"
   ]
  },
  {
   "cell_type": "code",
   "execution_count": 74,
   "metadata": {
    "collapsed": true
   },
   "outputs": [],
   "source": [
    "element.click()"
   ]
  },
  {
   "cell_type": "markdown",
   "metadata": {},
   "source": [
    "Now that we've clicked **Load More**, let's see how many objects there are. Lot's more than 30! Now we'll scroll to the bottom of the page and collect the data for all of these coupons"
   ]
  },
  {
   "cell_type": "code",
   "execution_count": 75,
   "metadata": {},
   "outputs": [
    {
     "data": {
      "text/plain": [
       "60"
      ]
     },
     "execution_count": 75,
     "metadata": {},
     "output_type": "execute_result"
    }
   ],
   "source": [
    "len(driver_scroll.find_elements_by_xpath(\"//li[@class='card savings']\"))"
   ]
  },
  {
   "cell_type": "markdown",
   "metadata": {},
   "source": [
    "The **Keys** class in Selenium provide keys in the keyboard like RETURN, F1, ALT etc.\n",
    "\n",
    "With this code, I am setting the new object to the old object (coupon on the page). While there exists a new object to be set, I will leverage the **\"send_keys\"** function in the **Keys** class and pass an argument to **PAGE_DOWN**. \n",
    "\n",
    "The result will be that while I step through each coupon object on the page, I only scroll until there are no more objects, at which point I stop. \n",
    "\n",
    "Ref: https://selenium-python.readthedocs.io/getting-started.html "
   ]
  },
  {
   "cell_type": "code",
   "execution_count": 76,
   "metadata": {},
   "outputs": [
    {
     "name": "stdout",
     "output_type": "stream",
     "text": [
      "<selenium.webdriver.firefox.webelement.FirefoxWebElement (session=\"8d47a34d-bbd2-4d49-9731-cd1a4ab67760\", element=\"8a6d1a1b-2c10-b741-846f-83fab5db3792\")>\n",
      "<selenium.webdriver.firefox.webelement.FirefoxWebElement (session=\"8d47a34d-bbd2-4d49-9731-cd1a4ab67760\", element=\"a4f738d0-24f9-d44f-a60b-4d1431bd6056\")>\n",
      "<selenium.webdriver.firefox.webelement.FirefoxWebElement (session=\"8d47a34d-bbd2-4d49-9731-cd1a4ab67760\", element=\"ffe275b0-ebf7-334d-b962-a9ebf2a8a8d3\")>\n",
      "<selenium.webdriver.firefox.webelement.FirefoxWebElement (session=\"8d47a34d-bbd2-4d49-9731-cd1a4ab67760\", element=\"89f7fd0c-eb67-554f-86f1-6c7895762c5e\")>\n",
      "<selenium.webdriver.firefox.webelement.FirefoxWebElement (session=\"8d47a34d-bbd2-4d49-9731-cd1a4ab67760\", element=\"e30b5bb6-36f2-1248-ba9b-9f16b59061de\")>\n",
      "<selenium.webdriver.firefox.webelement.FirefoxWebElement (session=\"8d47a34d-bbd2-4d49-9731-cd1a4ab67760\", element=\"95a0a159-fc60-0b42-97fa-fe9cca6821c7\")>\n",
      "<selenium.webdriver.firefox.webelement.FirefoxWebElement (session=\"8d47a34d-bbd2-4d49-9731-cd1a4ab67760\", element=\"b6a9cb6c-25a0-3340-8e64-b1f7b44fa26e\")>\n",
      "<selenium.webdriver.firefox.webelement.FirefoxWebElement (session=\"8d47a34d-bbd2-4d49-9731-cd1a4ab67760\", element=\"54ce06a1-9490-4043-ae93-ed075973d3e8\")>\n",
      "<selenium.webdriver.firefox.webelement.FirefoxWebElement (session=\"8d47a34d-bbd2-4d49-9731-cd1a4ab67760\", element=\"ad7d0d45-1f16-334d-8f33-e7149a859ae1\")>\n",
      "<selenium.webdriver.firefox.webelement.FirefoxWebElement (session=\"8d47a34d-bbd2-4d49-9731-cd1a4ab67760\", element=\"66254917-fc01-7643-9820-d84dd6d0e887\")>\n",
      "<selenium.webdriver.firefox.webelement.FirefoxWebElement (session=\"8d47a34d-bbd2-4d49-9731-cd1a4ab67760\", element=\"3c0d1717-ea1d-3249-9983-a3f4dbbf05c9\")>\n",
      "<selenium.webdriver.firefox.webelement.FirefoxWebElement (session=\"8d47a34d-bbd2-4d49-9731-cd1a4ab67760\", element=\"e48ba505-6032-e74b-b927-c2c54380fc11\")>\n",
      "<selenium.webdriver.firefox.webelement.FirefoxWebElement (session=\"8d47a34d-bbd2-4d49-9731-cd1a4ab67760\", element=\"0354a38c-e108-a14f-9e6b-934ecf028bd1\")>\n",
      "<selenium.webdriver.firefox.webelement.FirefoxWebElement (session=\"8d47a34d-bbd2-4d49-9731-cd1a4ab67760\", element=\"16ef995c-ae46-4f4a-9f87-c84309ec57ae\")>\n",
      "<selenium.webdriver.firefox.webelement.FirefoxWebElement (session=\"8d47a34d-bbd2-4d49-9731-cd1a4ab67760\", element=\"1ee4df3a-17b3-5548-8c6a-29643ad7bcaf\")>\n",
      "<selenium.webdriver.firefox.webelement.FirefoxWebElement (session=\"8d47a34d-bbd2-4d49-9731-cd1a4ab67760\", element=\"44071746-9cee-a648-a5a9-d751a732c426\")>\n",
      "<selenium.webdriver.firefox.webelement.FirefoxWebElement (session=\"8d47a34d-bbd2-4d49-9731-cd1a4ab67760\", element=\"c60e8cb5-e93e-8f4a-a535-281c62c8371f\")>\n",
      "<selenium.webdriver.firefox.webelement.FirefoxWebElement (session=\"8d47a34d-bbd2-4d49-9731-cd1a4ab67760\", element=\"f8521eb2-1659-d946-93f0-f7008995048e\")>\n",
      "<selenium.webdriver.firefox.webelement.FirefoxWebElement (session=\"8d47a34d-bbd2-4d49-9731-cd1a4ab67760\", element=\"ae72045f-0d80-8e4a-a357-32481e6e4563\")>\n",
      "<selenium.webdriver.firefox.webelement.FirefoxWebElement (session=\"8d47a34d-bbd2-4d49-9731-cd1a4ab67760\", element=\"015d6c87-fb6a-c340-be95-66e872ba298e\")>\n",
      "<selenium.webdriver.firefox.webelement.FirefoxWebElement (session=\"8d47a34d-bbd2-4d49-9731-cd1a4ab67760\", element=\"eb5e4b9d-6034-a14e-92b4-f21caa474299\")>\n",
      "<selenium.webdriver.firefox.webelement.FirefoxWebElement (session=\"8d47a34d-bbd2-4d49-9731-cd1a4ab67760\", element=\"1a7044c0-654e-9640-9330-6aa2abe41ac4\")>\n",
      "<selenium.webdriver.firefox.webelement.FirefoxWebElement (session=\"8d47a34d-bbd2-4d49-9731-cd1a4ab67760\", element=\"58c31c88-9c2d-864c-934b-845ac6aa0665\")>\n",
      "<selenium.webdriver.firefox.webelement.FirefoxWebElement (session=\"8d47a34d-bbd2-4d49-9731-cd1a4ab67760\", element=\"e741948c-c750-124b-b41a-bd98e62c74f3\")>\n",
      "<selenium.webdriver.firefox.webelement.FirefoxWebElement (session=\"8d47a34d-bbd2-4d49-9731-cd1a4ab67760\", element=\"433f05c8-f557-894c-b01c-8ff710a1d66a\")>\n",
      "<selenium.webdriver.firefox.webelement.FirefoxWebElement (session=\"8d47a34d-bbd2-4d49-9731-cd1a4ab67760\", element=\"e00209e6-2999-db49-be80-adbdaaba683f\")>\n",
      "<selenium.webdriver.firefox.webelement.FirefoxWebElement (session=\"8d47a34d-bbd2-4d49-9731-cd1a4ab67760\", element=\"008e1b82-1257-8346-bd96-bd47ab9d2e43\")>\n",
      "<selenium.webdriver.firefox.webelement.FirefoxWebElement (session=\"8d47a34d-bbd2-4d49-9731-cd1a4ab67760\", element=\"78739ceb-5c84-eb4d-9280-aa28f7ec22c0\")>\n",
      "<selenium.webdriver.firefox.webelement.FirefoxWebElement (session=\"8d47a34d-bbd2-4d49-9731-cd1a4ab67760\", element=\"aa7ee17f-e7c1-2545-82f2-d5e3c85e0856\")>\n",
      "<selenium.webdriver.firefox.webelement.FirefoxWebElement (session=\"8d47a34d-bbd2-4d49-9731-cd1a4ab67760\", element=\"f2765462-5804-c546-abc5-9bc54d26c840\")>\n",
      "<selenium.webdriver.firefox.webelement.FirefoxWebElement (session=\"8d47a34d-bbd2-4d49-9731-cd1a4ab67760\", element=\"ff9b6922-dcf8-dd4a-9f04-e40d2bf1cfc7\")>\n",
      "<selenium.webdriver.firefox.webelement.FirefoxWebElement (session=\"8d47a34d-bbd2-4d49-9731-cd1a4ab67760\", element=\"a46162e7-bcd9-4943-861d-e13e489b24b4\")>\n",
      "<selenium.webdriver.firefox.webelement.FirefoxWebElement (session=\"8d47a34d-bbd2-4d49-9731-cd1a4ab67760\", element=\"4481d14c-b16d-4c47-90c8-c43a8e25a420\")>\n",
      "<selenium.webdriver.firefox.webelement.FirefoxWebElement (session=\"8d47a34d-bbd2-4d49-9731-cd1a4ab67760\", element=\"2c43b52e-581b-364c-be01-cdfa286923d1\")>\n",
      "<selenium.webdriver.firefox.webelement.FirefoxWebElement (session=\"8d47a34d-bbd2-4d49-9731-cd1a4ab67760\", element=\"1f93062b-6ac0-844a-b115-bec3ad16ec9a\")>\n",
      "<selenium.webdriver.firefox.webelement.FirefoxWebElement (session=\"8d47a34d-bbd2-4d49-9731-cd1a4ab67760\", element=\"1a72fc57-224d-fd43-89c8-10f23fbf6818\")>\n",
      "<selenium.webdriver.firefox.webelement.FirefoxWebElement (session=\"8d47a34d-bbd2-4d49-9731-cd1a4ab67760\", element=\"5484eaa2-c5fe-8041-bd28-d0f443b27d22\")>\n",
      "<selenium.webdriver.firefox.webelement.FirefoxWebElement (session=\"8d47a34d-bbd2-4d49-9731-cd1a4ab67760\", element=\"aecd17fc-d64f-0143-ba9c-959cdb8575da\")>\n",
      "<selenium.webdriver.firefox.webelement.FirefoxWebElement (session=\"8d47a34d-bbd2-4d49-9731-cd1a4ab67760\", element=\"f8d886d1-c039-cc44-85f0-458a468d25bb\")>\n",
      "<selenium.webdriver.firefox.webelement.FirefoxWebElement (session=\"8d47a34d-bbd2-4d49-9731-cd1a4ab67760\", element=\"cf9e01f0-a1c6-b54b-9032-39746a7c0512\")>\n",
      "<selenium.webdriver.firefox.webelement.FirefoxWebElement (session=\"8d47a34d-bbd2-4d49-9731-cd1a4ab67760\", element=\"2974e6a8-770e-e044-b44c-43696a5463e1\")>\n",
      "<selenium.webdriver.firefox.webelement.FirefoxWebElement (session=\"8d47a34d-bbd2-4d49-9731-cd1a4ab67760\", element=\"1664e2e2-f4d3-0644-8d5e-827d20df43dd\")>\n",
      "<selenium.webdriver.firefox.webelement.FirefoxWebElement (session=\"8d47a34d-bbd2-4d49-9731-cd1a4ab67760\", element=\"544c071b-6239-c342-8fc4-d36af6862ef3\")>\n",
      "<selenium.webdriver.firefox.webelement.FirefoxWebElement (session=\"8d47a34d-bbd2-4d49-9731-cd1a4ab67760\", element=\"8892ec12-ed02-3e4d-8df5-85ae916e4599\")>\n",
      "<selenium.webdriver.firefox.webelement.FirefoxWebElement (session=\"8d47a34d-bbd2-4d49-9731-cd1a4ab67760\", element=\"a86d7835-ebec-064c-ba75-19b8949617c7\")>\n",
      "<selenium.webdriver.firefox.webelement.FirefoxWebElement (session=\"8d47a34d-bbd2-4d49-9731-cd1a4ab67760\", element=\"44b85d64-dea9-8b4c-a8e4-5e1d337cea13\")>\n",
      "<selenium.webdriver.firefox.webelement.FirefoxWebElement (session=\"8d47a34d-bbd2-4d49-9731-cd1a4ab67760\", element=\"1652e80e-7c1b-cf43-b3dd-f4c4577fa635\")>\n",
      "<selenium.webdriver.firefox.webelement.FirefoxWebElement (session=\"8d47a34d-bbd2-4d49-9731-cd1a4ab67760\", element=\"53cc7593-7322-2c48-9c6d-166a302c0fac\")>\n",
      "<selenium.webdriver.firefox.webelement.FirefoxWebElement (session=\"8d47a34d-bbd2-4d49-9731-cd1a4ab67760\", element=\"8211d05c-b894-7245-8b5e-4e512f2e5173\")>\n",
      "<selenium.webdriver.firefox.webelement.FirefoxWebElement (session=\"8d47a34d-bbd2-4d49-9731-cd1a4ab67760\", element=\"c09598f2-e264-a54f-b7ca-8d5222553d96\")>\n",
      "<selenium.webdriver.firefox.webelement.FirefoxWebElement (session=\"8d47a34d-bbd2-4d49-9731-cd1a4ab67760\", element=\"f330980c-d6c9-0948-a26b-6a5a74276779\")>\n",
      "<selenium.webdriver.firefox.webelement.FirefoxWebElement (session=\"8d47a34d-bbd2-4d49-9731-cd1a4ab67760\", element=\"e12f0adb-1d35-6b4a-8928-72622f7a693f\")>\n",
      "<selenium.webdriver.firefox.webelement.FirefoxWebElement (session=\"8d47a34d-bbd2-4d49-9731-cd1a4ab67760\", element=\"d58ead4a-ae1d-4044-ac2f-aa08e6421954\")>\n"
     ]
    },
    {
     "name": "stdout",
     "output_type": "stream",
     "text": [
      "<selenium.webdriver.firefox.webelement.FirefoxWebElement (session=\"8d47a34d-bbd2-4d49-9731-cd1a4ab67760\", element=\"3b83d31f-2032-de42-a2e3-1012bd9eb939\")>\n",
      "<selenium.webdriver.firefox.webelement.FirefoxWebElement (session=\"8d47a34d-bbd2-4d49-9731-cd1a4ab67760\", element=\"7f82067d-7745-144e-a2c3-9daea317b618\")>\n",
      "<selenium.webdriver.firefox.webelement.FirefoxWebElement (session=\"8d47a34d-bbd2-4d49-9731-cd1a4ab67760\", element=\"b140d2e8-6568-5c4f-b4b8-c101f9d4bf07\")>\n",
      "<selenium.webdriver.firefox.webelement.FirefoxWebElement (session=\"8d47a34d-bbd2-4d49-9731-cd1a4ab67760\", element=\"d75d0827-b10c-e24e-b47c-465437147187\")>\n",
      "<selenium.webdriver.firefox.webelement.FirefoxWebElement (session=\"8d47a34d-bbd2-4d49-9731-cd1a4ab67760\", element=\"fa5189ba-e1fb-db4e-b8c4-66452ddbed9c\")>\n",
      "<selenium.webdriver.firefox.webelement.FirefoxWebElement (session=\"8d47a34d-bbd2-4d49-9731-cd1a4ab67760\", element=\"1cabfa5c-8088-bd44-adf7-490f5d7c8164\")>\n",
      "<selenium.webdriver.firefox.webelement.FirefoxWebElement (session=\"8d47a34d-bbd2-4d49-9731-cd1a4ab67760\", element=\"7cbe48a0-eb36-7747-825f-d0ef43137b2e\")>\n"
     ]
    }
   ],
   "source": [
    "dc_card = driver_scroll.find_element_by_xpath(\"//li[@class='card savings']\")\n",
    "\n",
    "while True:\n",
    "    try:\n",
    "        print(dc_card)\n",
    "        #Here I am setting the new dc_card to the sibling of the previous dc-card\n",
    "        #I have to specify exactly which tag I want to use next as the sibling\n",
    "        dc_card = dc_card.find_element_by_xpath(\".//following-sibling::li[@class='card savings']\")\n",
    "        dc_card.send_keys(Keys.PAGE_DOWN)\n",
    "        time.sleep(3)\n",
    "    except:\n",
    "        break"
   ]
  },
  {
   "cell_type": "markdown",
   "metadata": {},
   "source": [
    "<a id='#links'></a>\n",
    "\n",
    "### Iterate Through All Links\n",
    "\n",
    "Now that we've demonstrated how to **point**, **click** and **scroll** down a webpage, we will now put all these pieces together to iterate through each subsection of the Rotten Tomatoes website, point, click, scroll and collect the data on each of these pages.\n",
    "\n",
    "Let's take it from the top!"
   ]
  },
  {
   "cell_type": "markdown",
   "metadata": {},
   "source": [
    "#### Call the website and create a driver instance like we did previously..."
   ]
  },
  {
   "cell_type": "code",
   "execution_count": 77,
   "metadata": {
    "collapsed": true
   },
   "outputs": [],
   "source": [
    "website = 'https://www.rottentomatoes.com/'\n",
    "driver = webdriver.Firefox()\n",
    "driver.get(website)"
   ]
  },
  {
   "cell_type": "markdown",
   "metadata": {
    "collapsed": true
   },
   "source": [
    "#### Now let's scroll down the page to make sure all our links are loaded"
   ]
  },
  {
   "cell_type": "code",
   "execution_count": 78,
   "metadata": {
    "collapsed": true
   },
   "outputs": [],
   "source": [
    "driver.execute_script(\"window.scrollTo(0, document.body.scrollHeight);\")"
   ]
  },
  {
   "cell_type": "markdown",
   "metadata": {},
   "source": [
    "#### Grab all the \"View All\" objects"
   ]
  },
  {
   "cell_type": "code",
   "execution_count": 79,
   "metadata": {
    "collapsed": true
   },
   "outputs": [],
   "source": [
    "buttons = driver.find_elements_by_class_name('clickForMore')"
   ]
  },
  {
   "cell_type": "markdown",
   "metadata": {},
   "source": [
    "Each of the **\"View All\"** objects have different **id** tag names (1). However if we look at the **div class** parent node (2), we see that all the **class names are \"clickMore\"**. So what we'll do is create a list of all the **\"clickMore\"** objects, and then select the first child node.\n",
    "\n",
    "![title](ViewAll.png)\n",
    "\n",
    "* Once we've selected the correct child nodes, we'll extract the **href** tag, which we can follow to parse the relevant links for our data analysis.\n",
    "\n",
    "* Using a **try-except** statement, we'll search for the the **\"clickMore\"** objects which our scraper can parse, and then export that data to CSV files with the page name"
   ]
  },
  {
   "cell_type": "code",
   "execution_count": 81,
   "metadata": {},
   "outputs": [
    {
     "data": {
      "text/plain": [
       "'/Users/zacharyescalante/Desktop/Github/Zach-Escalante-Code/WebScrapingTutorial'"
      ]
     },
     "execution_count": 81,
     "metadata": {},
     "output_type": "execute_result"
    }
   ],
   "source": [
    "import os\n",
    "os.getcwd()"
   ]
  },
  {
   "cell_type": "code",
   "execution_count": 82,
   "metadata": {
    "scrolled": true
   },
   "outputs": [
    {
     "name": "stdout",
     "output_type": "stream",
     "text": [
      "https://editorial.rottentomatoes.com/total-recall/\n",
      "pass\n",
      "https://editorial.rottentomatoes.com/rt-hubs/\n",
      "pass\n",
      "https://editorial.rottentomatoes.com/news/\n",
      "pass\n",
      "https://www.rottentomatoes.com/browse/opening/\n",
      "OPENING THIS WEEK\n",
      "https://www.rottentomatoes.com/browse/in-theaters/\n",
      "TOP BOX OFFICE\n",
      "WEEKEND BOX OFFICE EARNINGS\n",
      "https://www.rottentomatoes.com/browse/upcoming/\n",
      "COMING SOON\n",
      "https://www.rottentomatoes.com/browse/tv-list-1\n",
      "NEW TV TONIGHT\n",
      "pass\n",
      "https://www.rottentomatoes.com/browse/tv-list-2\n",
      "MOST POPULAR TV ON RT\n",
      "pass\n",
      "https://www.rottentomatoes.com/browse/top-dvd-streaming/\n",
      "TOP DVD & STREAMING\n",
      "https://www.rottentomatoes.com/browse/cf-in-theaters/\n",
      "CERTIFIED FRESH MOVIES\n",
      "WEEKEND BOX OFFICE EARNINGS\n",
      "https://editorial.rottentomatoes.com/video-interviews/\n",
      "pass\n",
      "https://editorial.rottentomatoes.com/publications/\n",
      "pass\n"
     ]
    }
   ],
   "source": [
    "#![title](ViewAll.png)\n",
    "for button in buttons:\n",
    "    #Extract the \"href\" element\n",
    "    website = button.find_element_by_xpath(\".//*\").get_attribute(\"href\")\n",
    "    print(website)\n",
    "    driver = webdriver.Firefox()\n",
    "    driver.get(website)\n",
    "    time.sleep(5)\n",
    "    #If the \"clickMore\" object has a 'main-column-item', parse the page\n",
    "    try:\n",
    "        print(driver.find_element_by_class_name('main-column-item').text)\n",
    "        time.sleep(5)\n",
    "        titles = []\n",
    "        dates = []\n",
    "        scores= []\n",
    "        movies = driver.find_elements_by_class_name('mb-movie')\n",
    "        for movie in movies:\n",
    "            titles.append(movie.find_element_by_class_name('movieTitle').text)\n",
    "            dates.append(movie.find_element_by_class_name('release-date').text)\n",
    "            try:\n",
    "                scores.append(movie.find_element_by_class_name('tMeterScore').text)\n",
    "            except:\n",
    "                scores.append(None)\n",
    "        #The 'main-column-item' element is saved as the CSV file name so that we know what data we're looking at\n",
    "        pd.DataFrame({'Title':titles, 'Dates': dates, 'Score': scores}).to_csv(driver.find_element_by_class_name('main-column-item').text + '.csv')\n",
    "    #If the \"clickMore\" object does not have a 'main-column-item', pass\n",
    "    except:\n",
    "        print(\"pass\")\n",
    "    driver.quit()\n",
    "    time.sleep(5)"
   ]
  },
  {
   "cell_type": "markdown",
   "metadata": {},
   "source": [
    "#### Congratulations! \n",
    "\n",
    "You've covered some important concepts for webscraping with **Selenium**, including:\n",
    "\n",
    "* How to install/run headless browsers to automate point-click tasks\n",
    "* Extracting web elements using Selenium\n",
    "* Scrolling and clicking through a webpage\n",
    "* Handling non-trivial websites and scrolling\n",
    "\n",
    "All of these concepts will be very useful. Our next lecture will tie these web-scraping building blocks together with a **faster, cleaner framework (Scrapy)** to run these processes in **parallel**, and provide us the autonomy to run scrapers using all of these tools (plus many more) at **break-neck speed**!"
   ]
  },
  {
   "cell_type": "code",
   "execution_count": null,
   "metadata": {
    "collapsed": true
   },
   "outputs": [],
   "source": []
  }
 ],
 "metadata": {
  "kernelspec": {
   "display_name": "Python 3",
   "language": "python",
   "name": "python3"
  },
  "language_info": {
   "codemirror_mode": {
    "name": "ipython",
    "version": 3
   },
   "file_extension": ".py",
   "mimetype": "text/x-python",
   "name": "python",
   "nbconvert_exporter": "python",
   "pygments_lexer": "ipython3",
   "version": "3.6.7"
  }
 },
 "nbformat": 4,
 "nbformat_minor": 2
}
