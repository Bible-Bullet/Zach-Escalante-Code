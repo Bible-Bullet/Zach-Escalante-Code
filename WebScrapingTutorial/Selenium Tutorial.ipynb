{
 "cells": [
  {
   "cell_type": "markdown",
   "metadata": {},
   "source": [
    "# Selenium Webscraping Tutorial\n",
    "\n",
    "#### Table of Contents\n",
    "\n",
    "1. <a href='##Introduction'>The Basics of Webscraping With Selenium</a> <br>\n",
    "> 1.a <a href='##package'>The Selenium package</a> <br>\n",
    "2. <a href='##example'>Webscraping Example</a> <br>\n",
    "> 2.a <a href='##browser'>Selenium headless browser</a> <br>\n",
    "> 2.b <a href='##find_elements'>Find elements using the Selenium Library</a> <br>\n",
    "> 2.c <a href='##click_scroll'>Clicking, scrolling, going back</a> <br>\n",
    "3. <a href='##scrolling_example'>Selenium scrolling example</a> <br>\n",
    "4. <a href='##links'>Iterating through all movie links</a> <br>\n",
    "> 3.a <a href='##bs4_html'>Creating the right HTML objects to parse</a> <br>\n",
    "> 3.b <a href='##bs4_find_html'>Creating nested HTML objects using **find( ) and **find_all( ) methodology</a> <br>\n",
    "> 3.c <a href='##pulling_tags'>Parsing the individual movies and pulling the data</a> <br>\n",
    "> 3.d <a href='##storing_data'>Storing the data and exporting to CSV</a> <br>"
   ]
  },
  {
   "cell_type": "markdown",
   "metadata": {},
   "source": [
    "<a id='#Introduction'></a>\n",
    "\n",
    "### The Basics of Webscraping with Selenium\n",
    "\n",
    "Selenium automates web browsering. Routine point-and-click tasks on websites can (and should) be handled programmatically, and Selenium provides us this capability. There are many use cases for Selenium that BeautifulSoup cannot handle. Programs that require scrolling to the bottom of a webpage, pointing and clicking on a button, or passing information into a search box are all perfect use cases for Selenium. Selenium has it's own HTML parsing functionality (which we'll examine), but it can also be used **in conjunction** with BeautifulSoup to load webpages, where BeautifulSoup can be called to parse the page. We will examine all of these use cases and more in the following demo.\n",
    "\n",
    "We'll be working in Python 3 for this tutorial, although Beautiful Soup runs for Python 2 with some simple adjustments to your code. Let's take a look at an example and see if we can get you up and running with parsing your own web pages!\n",
    "\n",
    "(1) https://www.seleniumhq.org/"
   ]
  },
  {
   "cell_type": "markdown",
   "metadata": {},
   "source": [
    "<a id='#package'></a>\n",
    "\n",
    "### The Selenium package\n",
    "\n",
    "The Selenium Webdriver allows us to fetch webpages which we can control through remote operations (via the Python code which we'll write). The first steps in running Selenium are to\n",
    "\n",
    "* **Install Selenium (in your envirnonment)**\n",
    "* **Install Selenium Web Driver**\n",
    "\n",
    "(http://selenium-python.readthedocs.io/installation.html)\n",
    "\n",
    "Try following the directions listed in the link above and make sure that you're webrowser corresponds to the supported version listed in the webdriver download links. The latest version should be clearly denoted:\n",
    "\n",
    "http://selenium-python.readthedocs.io/installation.html"
   ]
  },
  {
   "cell_type": "markdown",
   "metadata": {},
   "source": [
    "<a id='#example'></a>\n",
    "### Let's Start a Webscraping Example\n",
    "\n",
    "The first thing we need to do is import the relevant packages for our project. These packages are the following: \n",
    "\n",
    "* **re** - the regular expressions package for evaluating strings \n",
    "* **pandas** - this is a fundamental package for formatting and evaluating data \n",
    "* **webdriver** - this is the headless browser which will receive our commands and parse webpages"
   ]
  },
  {
   "cell_type": "code",
   "execution_count": 257,
   "metadata": {
    "collapsed": true
   },
   "outputs": [],
   "source": [
    "import re\n",
    "import pandas as pd\n",
    "from selenium import webdriver"
   ]
  },
  {
   "cell_type": "markdown",
   "metadata": {},
   "source": [
    "<a id='#browser'></a>\n",
    "First let's call the **webdriver** (Firefox in my case) and instantiate the web browser"
   ]
  },
  {
   "cell_type": "code",
   "execution_count": 264,
   "metadata": {
    "collapsed": true
   },
   "outputs": [],
   "source": [
    "website = 'https://www.rottentomatoes.com/'\n",
    "driver = webdriver.Firefox()\n",
    "driver.get(website)"
   ]
  },
  {
   "cell_type": "markdown",
   "metadata": {},
   "source": [
    "We can now tab to the browser we created and see that we are on the Rotten Tomatoe's website! The goal of this project is going to be to finish something we were unable to do with Beautiful Soup:\n",
    "\n",
    "1. Follow links for each sub-section and click on the **\"view all\"** button to load the remainder of the movies\n",
    "2. Scroll down the page to to allow the HTML to load so that we can grab all of the movies on the page"
   ]
  },
  {
   "cell_type": "markdown",
   "metadata": {
    "collapsed": true
   },
   "source": [
    "<a id='#find_elements'></a>\n",
    "\n",
    "So to start, let's grab each of the **\"view all\"** buttons on the webpage. Selenium has a number of options for us to locate elements. Just a few of these are:\n",
    "\n",
    "For grabbing individual items on a page (the first item in the HTML tree):\n",
    "\n",
    "* *find_element_by_id*\n",
    "* *find_element_by_name*\n",
    "* *find_element_by_xpath*\n",
    "* *find_element_by_link_text*\n",
    "* *find_element_by_partial_link_text*\n",
    "* *find_element_by_tag_name*\n",
    "* *find_element_by_class_name*\n",
    "* *find_element_by_css_selector*\n",
    "\n",
    "For grabbing multiple items on a page (returns a list of the items selected):\n",
    "\n",
    "* *find_elements_by_id*\n",
    "* *find_elements_by_name*\n",
    "* *find_elements_by_xpath*\n",
    "* *find_elements_by_link_text*\n",
    "* *find_elements_by_partial_link_text*\n",
    "* *find_elements_by_tag_name*\n",
    "* *find_elements_by_class_name*\n",
    "* *find_elements_by_css_selector*\n",
    "\n",
    "Ref: https://selenium-python.readthedocs.io/locating-elements.html "
   ]
  },
  {
   "cell_type": "code",
   "execution_count": 265,
   "metadata": {},
   "outputs": [
    {
     "name": "stdout",
     "output_type": "stream",
     "text": [
      "<selenium.webdriver.firefox.webelement.FirefoxWebElement (session=\"07c16727-9eba-dc47-8357-dbf79053282c\", element=\"01e53c78-0453-084b-808a-b601f41a9d16\")>\n",
      "<selenium.webdriver.firefox.webelement.FirefoxWebElement (session=\"07c16727-9eba-dc47-8357-dbf79053282c\", element=\"09d12382-a635-1741-99c4-6247a665156e\")>\n"
     ]
    }
   ],
   "source": [
    "#We can find the first \"view all\" button by searching for the driver id\n",
    "print(driver.find_element_by_id('Top-Box-Office-view-all'))\n",
    "#We can also find it by searching x-path\n",
    "print(driver.find_element_by_xpath(\"//a[@id='Top-Box-Office-view-all']\"))\n",
    "button = driver.find_element_by_id('Top-Box-Office-view-all')"
   ]
  },
  {
   "cell_type": "markdown",
   "metadata": {},
   "source": [
    "<a id='#click_scroll'></a>\n",
    "Now we can **click** our button to follow the link to the next page and examine all the data:"
   ]
  },
  {
   "cell_type": "code",
   "execution_count": 266,
   "metadata": {
    "collapsed": true
   },
   "outputs": [],
   "source": [
    "button.click()"
   ]
  },
  {
   "cell_type": "markdown",
   "metadata": {},
   "source": [
    "Now if we look at the webpage, we see that not all the movies are loaded yet. We need to scroll down for all the movies to load. Fortunately for us, Selenium has built-in functionality to handle this situation:\n",
    "\n",
    "Ref: https://stackoverflow.com/questions/42982950/how-to-scroll-down-the-page-till-bottomend-page-in-the-selenium-webdriver/42983332 <br>\n",
    "Ref: https://stackoverflow.com/questions/22702277/crawl-site-that-has-infinite-scrolling-using-python"
   ]
  },
  {
   "cell_type": "code",
   "execution_count": 267,
   "metadata": {
    "collapsed": true
   },
   "outputs": [],
   "source": [
    "driver.execute_script(\"window.scrollTo(0, document.body.scrollHeight);\")"
   ]
  },
  {
   "cell_type": "markdown",
   "metadata": {},
   "source": [
    "Now that we are on the webpage and have scrolled to the bottom of the page (to make sure all our data is loaded), we will grab the data for all the movies on the page and store it in a **CSV** file"
   ]
  },
  {
   "cell_type": "code",
   "execution_count": 268,
   "metadata": {
    "collapsed": true
   },
   "outputs": [],
   "source": [
    "movies = driver.find_elements_by_class_name('mb-movie')"
   ]
  },
  {
   "cell_type": "markdown",
   "metadata": {},
   "source": [
    "Now let's save our movie data to a CSV file so we can review it"
   ]
  },
  {
   "cell_type": "code",
   "execution_count": 269,
   "metadata": {},
   "outputs": [
    {
     "name": "stdout",
     "output_type": "stream",
     "text": [
      "Crazy Rich Asians\n",
      "In Theaters Aug 15\n",
      "93%\n",
      "The Meg\n",
      "In Theaters Aug 10\n",
      "47%\n",
      "Mile 22\n",
      "In Theaters Aug 17\n",
      "21%\n",
      "Mission: Impossible - Fallout\n",
      "In Theaters Jul 27\n",
      "97%\n",
      "Alpha\n",
      "In Theaters Aug 17\n",
      "82%\n",
      "Christopher Robin\n",
      "In Theaters Aug 3\n",
      "70%\n",
      "BlacKkKlansman\n",
      "In Theaters Aug 10\n",
      "96%\n",
      "Slender Man\n",
      "In Theaters Aug 10\n",
      "8%\n",
      "Hotel Transylvania 3: Summer Vacation\n",
      "In Theaters Jul 13\n",
      "60%\n",
      "Mamma Mia! Here We Go Again\n",
      "In Theaters Jul 20\n",
      "80%\n",
      "Equalizer 2\n",
      "In Theaters Jul 20\n",
      "50%\n",
      "Ant-Man And The Wasp\n",
      "In Theaters Jul 6\n",
      "87%\n",
      "The Spy Who Dumped Me\n",
      "In Theaters Aug 3\n",
      "50%\n",
      "Incredibles 2\n",
      "In Theaters Jun 15\n",
      "93%\n",
      "Jurassic World: Fallen Kingdom\n",
      "In Theaters Jun 22\n",
      "50%\n",
      "Dog Days\n",
      "In Theaters Aug 8\n",
      "60%\n",
      "Teen Titans Go! To The Movies\n",
      "In Theaters Jul 27\n",
      "91%\n",
      "Eighth Grade\n",
      "In Theaters Aug 3\n",
      "98%\n",
      "Three Identical Strangers\n",
      "In Theaters Jun 29\n",
      "96%\n",
      "Skyscraper\n",
      "In Theaters Jul 13\n",
      "47%\n",
      "Death Of A Nation\n",
      "In Theaters Aug 3\n",
      "0%\n",
      "The Darkest Minds\n",
      "In Theaters Aug 3\n",
      "18%\n",
      "Sorry To Bother You\n",
      "In Theaters Jul 13\n",
      "94%\n",
      "Won't You Be My Neighbor?\n",
      "In Theaters Jun 8\n",
      "99%\n",
      "Puzzle\n",
      "In Theaters Jul 27\n",
      "82%\n",
      "Ocean's 8\n",
      "In Theaters Jun 8\n",
      "67%\n",
      "The First Purge\n",
      "In Theaters Jul 4\n",
      "53%\n",
      "The Miseducation Of Cameron Post\n",
      "In Theaters Aug 3\n",
      "83%\n",
      "The Spy Gone North\n",
      "In Theaters\n",
      "100%\n",
      "The Island\n",
      "In Theaters Aug 10\n",
      "100%\n",
      "Tag\n",
      "In Theaters Jun 15\n",
      "55%\n",
      "McQueen\n",
      "In Theaters Jul 20\n",
      "100%\n"
     ]
    }
   ],
   "source": [
    "titles = []\n",
    "dates = []\n",
    "scores= []\n",
    "for movie in movies:\n",
    "    print(movie.find_element_by_class_name('movieTitle').text)\n",
    "    print(movie.find_element_by_class_name('release-date').text)\n",
    "    titles.append(movie.find_element_by_class_name('movieTitle').text)\n",
    "    dates.append(movie.find_element_by_class_name('release-date').text)\n",
    "    try:\n",
    "        print(movie.find_element_by_class_name('tMeterScore').text)\n",
    "        scores.append(movie.find_element_by_class_name('tMeterScore').text)\n",
    "    except:\n",
    "        scores.append(None)\n",
    "pd.DataFrame({'Title':titles, 'Dates': dates, 'Score': scores}).to_csv(driver.find_element_by_class_name('main-column-item').text + '.csv')"
   ]
  },
  {
   "cell_type": "markdown",
   "metadata": {},
   "source": [
    "Finally, let's go back to the previous webpage so that we can scrape the rest of the data from the Rotten Tomatoes website"
   ]
  },
  {
   "cell_type": "code",
   "execution_count": null,
   "metadata": {
    "collapsed": true
   },
   "outputs": [],
   "source": [
    "driver.back()"
   ]
  },
  {
   "cell_type": "markdown",
   "metadata": {},
   "source": [
    "<a id='#scrolling_example'></a>\n",
    "\n",
    "### Selenium Scrolling\n",
    "\n",
    "Most webpages that we need to gather data from are not created to assist us in our web crawling tasks. As such, properly scrolling a website is frequently used functionality Here we have **Example** code that demonstrates how one might scroll to the bottom of a webpage that loads dynamically.\n",
    "\n",
    "We'll demonstrate on a supermarket website with digital coupons. Take a look at the website in your browswe and inspect the elements. There are several aspects of the website that need to be accounted for:\n",
    "\n",
    "1. The \"Load More\" button\n",
    "2. Scrolling to the bottom of the page\n",
    "\n",
    "We'll handle each of these..."
   ]
  },
  {
   "cell_type": "code",
   "execution_count": 91,
   "metadata": {
    "collapsed": true
   },
   "outputs": [],
   "source": [
    "website_scroll = 'https://www.publix.com/savings/coupons/digital-coupons'\n",
    "driver_scroll = webdriver.Firefox()\n",
    "driver_scroll.get(website_scroll)"
   ]
  },
  {
   "cell_type": "markdown",
   "metadata": {},
   "source": [
    "Did the entire page load? If not, how many objects loaded?\n",
    "\n",
    "As we see here by looking at the length of all the objects collected, only a subset of all the coupons are currently loaded. In order to get all the coupon info, we'll need to scroll down and click the **\"Load More\"** button, and then continue to scroll until the entire page is loaded."
   ]
  },
  {
   "cell_type": "code",
   "execution_count": 93,
   "metadata": {},
   "outputs": [
    {
     "data": {
      "text/plain": [
       "30"
      ]
     },
     "execution_count": 93,
     "metadata": {},
     "output_type": "execute_result"
    }
   ],
   "source": [
    "len(driver_scroll.find_elements_by_xpath(\"//div[@class='dc-card']\"))"
   ]
  },
  {
   "cell_type": "markdown",
   "metadata": {},
   "source": [
    "First let's define the **\"Load More\"** object. We declare it using x-path, and then we'll execute a Java command to scroll down the page until we find that element"
   ]
  },
  {
   "cell_type": "code",
   "execution_count": 94,
   "metadata": {
    "collapsed": true
   },
   "outputs": [],
   "source": [
    "element = driver_scroll.find_element_by_xpath(\"//button[@class='btn btn-large js-btnLoadCoupons']\")\n",
    "driver_scroll.execute_script(\"arguments[0].scrollIntoView();\", element)"
   ]
  },
  {
   "cell_type": "markdown",
   "metadata": {},
   "source": [
    "Next click the **element** to load the rest of the objects on the page"
   ]
  },
  {
   "cell_type": "code",
   "execution_count": 95,
   "metadata": {
    "collapsed": true
   },
   "outputs": [],
   "source": [
    "element.click()"
   ]
  },
  {
   "cell_type": "markdown",
   "metadata": {},
   "source": [
    "Now that we've clicked **Load More**, let's see how many objects there are. Lot's more than 30! Now we'll scroll to the bottom of the page and collect the data for all of these coupons"
   ]
  },
  {
   "cell_type": "code",
   "execution_count": null,
   "metadata": {
    "collapsed": true
   },
   "outputs": [],
   "source": [
    "len(driver_scroll.find_elements_by_xpath(\"//div[@class='dc-card']\"))"
   ]
  },
  {
   "cell_type": "markdown",
   "metadata": {},
   "source": [
    "The **Keys** class in Selenium provide keys in the keyboard like RETURN, F1, ALT etc.\n",
    "\n",
    "With this code, I am setting the new object to the old object (coupon on the page). While there exists a new object to be set, I will leverage the **\"send_keys\"** function in the **Keys** class and pass an argument to **PAGE_DOWN**. \n",
    "\n",
    "The result will be that while I step through each coupon object on the page, I only scroll until there are no more objects, at which point I stop. \n",
    "\n",
    "Ref: https://selenium-python.readthedocs.io/getting-started.html "
   ]
  },
  {
   "cell_type": "code",
   "execution_count": 83,
   "metadata": {},
   "outputs": [
    {
     "name": "stdout",
     "output_type": "stream",
     "text": [
      "<selenium.webdriver.firefox.webelement.FirefoxWebElement (session=\"a0e2aa76-f4a3-0b4c-9edc-40fa62d3b55c\", element=\"21350090-0d02-464c-a7be-e327517f3961\")>\n",
      "<selenium.webdriver.firefox.webelement.FirefoxWebElement (session=\"a0e2aa76-f4a3-0b4c-9edc-40fa62d3b55c\", element=\"ddc50f7e-5158-3a43-bd38-83c4c42acb85\")>\n",
      "<selenium.webdriver.firefox.webelement.FirefoxWebElement (session=\"a0e2aa76-f4a3-0b4c-9edc-40fa62d3b55c\", element=\"5ff6c546-78cc-a74a-9bd8-5e3c5eb8c7cc\")>\n",
      "<selenium.webdriver.firefox.webelement.FirefoxWebElement (session=\"a0e2aa76-f4a3-0b4c-9edc-40fa62d3b55c\", element=\"b392a82f-e2a1-9f42-95ff-6f4bd1d4b8dd\")>\n",
      "<selenium.webdriver.firefox.webelement.FirefoxWebElement (session=\"a0e2aa76-f4a3-0b4c-9edc-40fa62d3b55c\", element=\"d8a39bce-1ed2-bd41-b756-e9b8c70df001\")>\n",
      "<selenium.webdriver.firefox.webelement.FirefoxWebElement (session=\"a0e2aa76-f4a3-0b4c-9edc-40fa62d3b55c\", element=\"73394f28-b6c1-094b-a1f4-f2715c86a6cb\")>\n",
      "<selenium.webdriver.firefox.webelement.FirefoxWebElement (session=\"a0e2aa76-f4a3-0b4c-9edc-40fa62d3b55c\", element=\"07520647-f363-1340-9c4e-4ee7597426e0\")>\n",
      "<selenium.webdriver.firefox.webelement.FirefoxWebElement (session=\"a0e2aa76-f4a3-0b4c-9edc-40fa62d3b55c\", element=\"26fece50-0583-fb42-9077-9382ec80d539\")>\n",
      "<selenium.webdriver.firefox.webelement.FirefoxWebElement (session=\"a0e2aa76-f4a3-0b4c-9edc-40fa62d3b55c\", element=\"e4e6272d-f6a0-dd45-b18e-fe12c2f98c89\")>\n",
      "<selenium.webdriver.firefox.webelement.FirefoxWebElement (session=\"a0e2aa76-f4a3-0b4c-9edc-40fa62d3b55c\", element=\"fdb09d33-c3f1-5f48-8a2b-842e8234d9aa\")>\n",
      "<selenium.webdriver.firefox.webelement.FirefoxWebElement (session=\"a0e2aa76-f4a3-0b4c-9edc-40fa62d3b55c\", element=\"de389130-d5d6-6a4e-94c9-66f682a92e00\")>\n",
      "<selenium.webdriver.firefox.webelement.FirefoxWebElement (session=\"a0e2aa76-f4a3-0b4c-9edc-40fa62d3b55c\", element=\"53c48a57-8b70-8d48-8e78-8964f1b30811\")>\n",
      "<selenium.webdriver.firefox.webelement.FirefoxWebElement (session=\"a0e2aa76-f4a3-0b4c-9edc-40fa62d3b55c\", element=\"6426869d-1f42-714e-83ca-3cdf726eff81\")>\n",
      "<selenium.webdriver.firefox.webelement.FirefoxWebElement (session=\"a0e2aa76-f4a3-0b4c-9edc-40fa62d3b55c\", element=\"11fb61cc-e3fa-4942-b0fd-e17e48cc0d2e\")>\n",
      "<selenium.webdriver.firefox.webelement.FirefoxWebElement (session=\"a0e2aa76-f4a3-0b4c-9edc-40fa62d3b55c\", element=\"bd2140fe-43e0-b044-aea1-5be6545a7106\")>\n",
      "<selenium.webdriver.firefox.webelement.FirefoxWebElement (session=\"a0e2aa76-f4a3-0b4c-9edc-40fa62d3b55c\", element=\"3469ba9a-e9ab-404f-a89e-19af3fcc9a28\")>\n",
      "<selenium.webdriver.firefox.webelement.FirefoxWebElement (session=\"a0e2aa76-f4a3-0b4c-9edc-40fa62d3b55c\", element=\"37f5621c-17f6-c54b-a747-3cc61e471b7e\")>\n",
      "<selenium.webdriver.firefox.webelement.FirefoxWebElement (session=\"a0e2aa76-f4a3-0b4c-9edc-40fa62d3b55c\", element=\"31b4d2f7-fc44-9f44-9157-e01cde11c35d\")>\n",
      "<selenium.webdriver.firefox.webelement.FirefoxWebElement (session=\"a0e2aa76-f4a3-0b4c-9edc-40fa62d3b55c\", element=\"9a221378-7ae9-6f41-9be1-b663a1af5516\")>\n",
      "<selenium.webdriver.firefox.webelement.FirefoxWebElement (session=\"a0e2aa76-f4a3-0b4c-9edc-40fa62d3b55c\", element=\"71392689-26bf-414b-b0c8-1f15f02a3102\")>\n",
      "<selenium.webdriver.firefox.webelement.FirefoxWebElement (session=\"a0e2aa76-f4a3-0b4c-9edc-40fa62d3b55c\", element=\"36c54f86-e436-eb44-a4e3-babf4f8d7656\")>\n",
      "<selenium.webdriver.firefox.webelement.FirefoxWebElement (session=\"a0e2aa76-f4a3-0b4c-9edc-40fa62d3b55c\", element=\"2bc71e39-bc4a-0a4f-8e22-a3d5fc9e2806\")>\n",
      "<selenium.webdriver.firefox.webelement.FirefoxWebElement (session=\"a0e2aa76-f4a3-0b4c-9edc-40fa62d3b55c\", element=\"c9f5058b-7265-3146-a043-496a0b1ecd44\")>\n",
      "<selenium.webdriver.firefox.webelement.FirefoxWebElement (session=\"a0e2aa76-f4a3-0b4c-9edc-40fa62d3b55c\", element=\"20061196-b5fa-5e40-8b80-42563ca14840\")>\n",
      "<selenium.webdriver.firefox.webelement.FirefoxWebElement (session=\"a0e2aa76-f4a3-0b4c-9edc-40fa62d3b55c\", element=\"491cc460-bf4a-ed4b-9700-5f652b3dbcca\")>\n",
      "<selenium.webdriver.firefox.webelement.FirefoxWebElement (session=\"a0e2aa76-f4a3-0b4c-9edc-40fa62d3b55c\", element=\"258ee79b-31e5-f140-9cdd-79d5ecd67ad6\")>\n",
      "<selenium.webdriver.firefox.webelement.FirefoxWebElement (session=\"a0e2aa76-f4a3-0b4c-9edc-40fa62d3b55c\", element=\"686433a6-1f6c-ac49-afd1-88faccb59f1c\")>\n",
      "<selenium.webdriver.firefox.webelement.FirefoxWebElement (session=\"a0e2aa76-f4a3-0b4c-9edc-40fa62d3b55c\", element=\"ff10bbdd-19dc-ea4d-ab31-696d995be9be\")>\n",
      "<selenium.webdriver.firefox.webelement.FirefoxWebElement (session=\"a0e2aa76-f4a3-0b4c-9edc-40fa62d3b55c\", element=\"760d7d63-9dab-a04a-86c4-0a7dea14a1b0\")>\n",
      "<selenium.webdriver.firefox.webelement.FirefoxWebElement (session=\"a0e2aa76-f4a3-0b4c-9edc-40fa62d3b55c\", element=\"faf2a167-9eea-1544-bb6a-f78f9c5a75a8\")>\n",
      "<selenium.webdriver.firefox.webelement.FirefoxWebElement (session=\"a0e2aa76-f4a3-0b4c-9edc-40fa62d3b55c\", element=\"01b448c8-d217-274e-9d69-7b75b4a2a34c\")>\n",
      "<selenium.webdriver.firefox.webelement.FirefoxWebElement (session=\"a0e2aa76-f4a3-0b4c-9edc-40fa62d3b55c\", element=\"32812125-349e-0545-b633-b46f72eb1ee3\")>\n",
      "<selenium.webdriver.firefox.webelement.FirefoxWebElement (session=\"a0e2aa76-f4a3-0b4c-9edc-40fa62d3b55c\", element=\"2671f911-781d-a148-a82f-487551ec273f\")>\n",
      "<selenium.webdriver.firefox.webelement.FirefoxWebElement (session=\"a0e2aa76-f4a3-0b4c-9edc-40fa62d3b55c\", element=\"fcb6bf93-9e9b-044d-9a08-37f6f2ddead4\")>\n",
      "<selenium.webdriver.firefox.webelement.FirefoxWebElement (session=\"a0e2aa76-f4a3-0b4c-9edc-40fa62d3b55c\", element=\"54c029b5-6c01-3646-919a-fd2ac2186230\")>\n",
      "<selenium.webdriver.firefox.webelement.FirefoxWebElement (session=\"a0e2aa76-f4a3-0b4c-9edc-40fa62d3b55c\", element=\"510fa4a1-f0a3-ac4f-8e66-96d8b0c00f55\")>\n",
      "<selenium.webdriver.firefox.webelement.FirefoxWebElement (session=\"a0e2aa76-f4a3-0b4c-9edc-40fa62d3b55c\", element=\"f3462b1e-8bc6-514a-82a6-327e44fa2bea\")>\n",
      "<selenium.webdriver.firefox.webelement.FirefoxWebElement (session=\"a0e2aa76-f4a3-0b4c-9edc-40fa62d3b55c\", element=\"32377414-9d9a-1b44-bd5c-28c468629b2b\")>\n",
      "<selenium.webdriver.firefox.webelement.FirefoxWebElement (session=\"a0e2aa76-f4a3-0b4c-9edc-40fa62d3b55c\", element=\"8b2dcaac-fb07-164f-8991-1a2e2cc42360\")>\n",
      "<selenium.webdriver.firefox.webelement.FirefoxWebElement (session=\"a0e2aa76-f4a3-0b4c-9edc-40fa62d3b55c\", element=\"bb886889-5b0e-f348-b70f-ac16d239b66d\")>\n",
      "<selenium.webdriver.firefox.webelement.FirefoxWebElement (session=\"a0e2aa76-f4a3-0b4c-9edc-40fa62d3b55c\", element=\"dca12fa2-2675-4c41-9baa-4c6113dfe334\")>\n",
      "<selenium.webdriver.firefox.webelement.FirefoxWebElement (session=\"a0e2aa76-f4a3-0b4c-9edc-40fa62d3b55c\", element=\"2b0fa91d-3a56-064b-bd6d-c9becaeae26d\")>\n",
      "<selenium.webdriver.firefox.webelement.FirefoxWebElement (session=\"a0e2aa76-f4a3-0b4c-9edc-40fa62d3b55c\", element=\"9db640f8-87e9-2e4a-8354-5b990a76808d\")>\n",
      "<selenium.webdriver.firefox.webelement.FirefoxWebElement (session=\"a0e2aa76-f4a3-0b4c-9edc-40fa62d3b55c\", element=\"9acfa0ab-0b93-924c-ae59-918b0176aa70\")>\n",
      "<selenium.webdriver.firefox.webelement.FirefoxWebElement (session=\"a0e2aa76-f4a3-0b4c-9edc-40fa62d3b55c\", element=\"5975d966-a03f-1c4f-9d77-4f70b3941af5\")>\n",
      "<selenium.webdriver.firefox.webelement.FirefoxWebElement (session=\"a0e2aa76-f4a3-0b4c-9edc-40fa62d3b55c\", element=\"3f374164-d59d-3442-bb3f-9560c12dcffa\")>\n",
      "<selenium.webdriver.firefox.webelement.FirefoxWebElement (session=\"a0e2aa76-f4a3-0b4c-9edc-40fa62d3b55c\", element=\"97f71b85-eed1-bd4e-8026-4693503f158e\")>\n",
      "<selenium.webdriver.firefox.webelement.FirefoxWebElement (session=\"a0e2aa76-f4a3-0b4c-9edc-40fa62d3b55c\", element=\"c18a486c-429c-d244-9b34-6b41e6c6db85\")>\n",
      "<selenium.webdriver.firefox.webelement.FirefoxWebElement (session=\"a0e2aa76-f4a3-0b4c-9edc-40fa62d3b55c\", element=\"1cbd9233-9809-d442-abe2-ed8ef2d4bfc7\")>\n",
      "<selenium.webdriver.firefox.webelement.FirefoxWebElement (session=\"a0e2aa76-f4a3-0b4c-9edc-40fa62d3b55c\", element=\"33ff5cb4-6a92-b543-b3a5-0a9a7e5d90c0\")>\n",
      "<selenium.webdriver.firefox.webelement.FirefoxWebElement (session=\"a0e2aa76-f4a3-0b4c-9edc-40fa62d3b55c\", element=\"84ba4644-1930-8045-b5e4-ce359eda8b3e\")>\n",
      "<selenium.webdriver.firefox.webelement.FirefoxWebElement (session=\"a0e2aa76-f4a3-0b4c-9edc-40fa62d3b55c\", element=\"caa67226-9a5e-1f48-85d4-dadb3f65cc74\")>\n",
      "<selenium.webdriver.firefox.webelement.FirefoxWebElement (session=\"a0e2aa76-f4a3-0b4c-9edc-40fa62d3b55c\", element=\"3d50d604-7edb-8549-bad8-85e1dcbe4814\")>\n"
     ]
    },
    {
     "name": "stdout",
     "output_type": "stream",
     "text": [
      "<selenium.webdriver.firefox.webelement.FirefoxWebElement (session=\"a0e2aa76-f4a3-0b4c-9edc-40fa62d3b55c\", element=\"788a9fc2-d135-854e-8731-436df18e9e58\")>\n",
      "<selenium.webdriver.firefox.webelement.FirefoxWebElement (session=\"a0e2aa76-f4a3-0b4c-9edc-40fa62d3b55c\", element=\"eee8ca92-7f52-4645-b029-d17cc56d9d86\")>\n",
      "<selenium.webdriver.firefox.webelement.FirefoxWebElement (session=\"a0e2aa76-f4a3-0b4c-9edc-40fa62d3b55c\", element=\"d0506278-5ec2-e14d-bd12-3d68ae1e359e\")>\n",
      "<selenium.webdriver.firefox.webelement.FirefoxWebElement (session=\"a0e2aa76-f4a3-0b4c-9edc-40fa62d3b55c\", element=\"421a9edb-3fba-f449-a813-585c7d3a0b70\")>\n",
      "<selenium.webdriver.firefox.webelement.FirefoxWebElement (session=\"a0e2aa76-f4a3-0b4c-9edc-40fa62d3b55c\", element=\"adf25d94-7731-ea46-b794-2c615ef4dca0\")>\n",
      "<selenium.webdriver.firefox.webelement.FirefoxWebElement (session=\"a0e2aa76-f4a3-0b4c-9edc-40fa62d3b55c\", element=\"dcbc1744-1cd8-f340-abe3-3a33a51569f1\")>\n",
      "<selenium.webdriver.firefox.webelement.FirefoxWebElement (session=\"a0e2aa76-f4a3-0b4c-9edc-40fa62d3b55c\", element=\"1d80b10d-4013-e14e-af16-f5ea3d602f7d\")>\n",
      "<selenium.webdriver.firefox.webelement.FirefoxWebElement (session=\"a0e2aa76-f4a3-0b4c-9edc-40fa62d3b55c\", element=\"665dde64-9e47-dd47-9d2b-a7683afdd26f\")>\n",
      "<selenium.webdriver.firefox.webelement.FirefoxWebElement (session=\"a0e2aa76-f4a3-0b4c-9edc-40fa62d3b55c\", element=\"d6118274-aac3-b643-a345-a89f52bb8eac\")>\n",
      "<selenium.webdriver.firefox.webelement.FirefoxWebElement (session=\"a0e2aa76-f4a3-0b4c-9edc-40fa62d3b55c\", element=\"893a9cb9-9f77-fa40-a13b-6380ff0f58be\")>\n",
      "<selenium.webdriver.firefox.webelement.FirefoxWebElement (session=\"a0e2aa76-f4a3-0b4c-9edc-40fa62d3b55c\", element=\"0622d7a2-1320-0044-96ba-c2bd2922fa1b\")>\n",
      "<selenium.webdriver.firefox.webelement.FirefoxWebElement (session=\"a0e2aa76-f4a3-0b4c-9edc-40fa62d3b55c\", element=\"b47cd274-f8b5-7241-a612-c1f633881ac4\")>\n",
      "<selenium.webdriver.firefox.webelement.FirefoxWebElement (session=\"a0e2aa76-f4a3-0b4c-9edc-40fa62d3b55c\", element=\"f8244f4c-0233-914d-9204-4398a64856f6\")>\n",
      "<selenium.webdriver.firefox.webelement.FirefoxWebElement (session=\"a0e2aa76-f4a3-0b4c-9edc-40fa62d3b55c\", element=\"2a59d243-ac78-1941-a857-0a2e29077133\")>\n",
      "<selenium.webdriver.firefox.webelement.FirefoxWebElement (session=\"a0e2aa76-f4a3-0b4c-9edc-40fa62d3b55c\", element=\"10c94e16-0e0a-d74d-9e52-2ceaebe6c8f6\")>\n",
      "<selenium.webdriver.firefox.webelement.FirefoxWebElement (session=\"a0e2aa76-f4a3-0b4c-9edc-40fa62d3b55c\", element=\"afb7a731-c457-a742-a80f-ead77a8966b3\")>\n",
      "<selenium.webdriver.firefox.webelement.FirefoxWebElement (session=\"a0e2aa76-f4a3-0b4c-9edc-40fa62d3b55c\", element=\"ee8516e1-fa2e-774c-a47a-14cc3ae17c9a\")>\n",
      "<selenium.webdriver.firefox.webelement.FirefoxWebElement (session=\"a0e2aa76-f4a3-0b4c-9edc-40fa62d3b55c\", element=\"5187c780-09bd-714f-b3b7-e5b8b1ab8ba9\")>\n",
      "<selenium.webdriver.firefox.webelement.FirefoxWebElement (session=\"a0e2aa76-f4a3-0b4c-9edc-40fa62d3b55c\", element=\"21c0af3b-f24a-b34c-9bfe-4a7472e698b6\")>\n",
      "<selenium.webdriver.firefox.webelement.FirefoxWebElement (session=\"a0e2aa76-f4a3-0b4c-9edc-40fa62d3b55c\", element=\"64e86352-a424-654f-9a11-d28230cd017e\")>\n",
      "<selenium.webdriver.firefox.webelement.FirefoxWebElement (session=\"a0e2aa76-f4a3-0b4c-9edc-40fa62d3b55c\", element=\"80bd7878-ec18-5e44-99e6-693695586aef\")>\n",
      "<selenium.webdriver.firefox.webelement.FirefoxWebElement (session=\"a0e2aa76-f4a3-0b4c-9edc-40fa62d3b55c\", element=\"30fd3c13-b362-1e47-a1d6-3b7664336181\")>\n",
      "<selenium.webdriver.firefox.webelement.FirefoxWebElement (session=\"a0e2aa76-f4a3-0b4c-9edc-40fa62d3b55c\", element=\"719ce899-e06f-ee45-86c9-cb624c556afa\")>\n",
      "<selenium.webdriver.firefox.webelement.FirefoxWebElement (session=\"a0e2aa76-f4a3-0b4c-9edc-40fa62d3b55c\", element=\"be1e8d96-990a-de4b-a1b6-b2dc564f147c\")>\n",
      "<selenium.webdriver.firefox.webelement.FirefoxWebElement (session=\"a0e2aa76-f4a3-0b4c-9edc-40fa62d3b55c\", element=\"041b556b-20b9-d243-928e-8beaa55e852e\")>\n",
      "<selenium.webdriver.firefox.webelement.FirefoxWebElement (session=\"a0e2aa76-f4a3-0b4c-9edc-40fa62d3b55c\", element=\"aaa38388-6192-634b-b4c2-d3ffcb4be36b\")>\n",
      "<selenium.webdriver.firefox.webelement.FirefoxWebElement (session=\"a0e2aa76-f4a3-0b4c-9edc-40fa62d3b55c\", element=\"6cf774d6-e04d-5a47-aa3a-ef1003ee4bc5\")>\n",
      "<selenium.webdriver.firefox.webelement.FirefoxWebElement (session=\"a0e2aa76-f4a3-0b4c-9edc-40fa62d3b55c\", element=\"507c22dc-732a-b446-8941-d0211ed2ace3\")>\n",
      "<selenium.webdriver.firefox.webelement.FirefoxWebElement (session=\"a0e2aa76-f4a3-0b4c-9edc-40fa62d3b55c\", element=\"7806b6c2-b844-1a4b-9456-ecb338b8c6fd\")>\n",
      "<selenium.webdriver.firefox.webelement.FirefoxWebElement (session=\"a0e2aa76-f4a3-0b4c-9edc-40fa62d3b55c\", element=\"19b47a8d-859b-1642-a3fb-5476b3c5d5da\")>\n",
      "<selenium.webdriver.firefox.webelement.FirefoxWebElement (session=\"a0e2aa76-f4a3-0b4c-9edc-40fa62d3b55c\", element=\"9190d153-1a09-504b-b729-774234acca99\")>\n",
      "<selenium.webdriver.firefox.webelement.FirefoxWebElement (session=\"a0e2aa76-f4a3-0b4c-9edc-40fa62d3b55c\", element=\"48bf22a3-da19-6e48-a045-cc60d712aba8\")>\n",
      "<selenium.webdriver.firefox.webelement.FirefoxWebElement (session=\"a0e2aa76-f4a3-0b4c-9edc-40fa62d3b55c\", element=\"ec31855a-30b2-2d49-84a2-6f42c8668149\")>\n",
      "<selenium.webdriver.firefox.webelement.FirefoxWebElement (session=\"a0e2aa76-f4a3-0b4c-9edc-40fa62d3b55c\", element=\"dcc31786-3258-ab49-8895-ca52c0eae027\")>\n",
      "<selenium.webdriver.firefox.webelement.FirefoxWebElement (session=\"a0e2aa76-f4a3-0b4c-9edc-40fa62d3b55c\", element=\"a0901b56-22c5-2f47-80c9-f0a0d5abdaac\")>\n",
      "<selenium.webdriver.firefox.webelement.FirefoxWebElement (session=\"a0e2aa76-f4a3-0b4c-9edc-40fa62d3b55c\", element=\"015b8d1e-2a57-794c-a306-3876aa6dbca4\")>\n",
      "<selenium.webdriver.firefox.webelement.FirefoxWebElement (session=\"a0e2aa76-f4a3-0b4c-9edc-40fa62d3b55c\", element=\"e3d57346-12eb-a248-a54b-5f6a39d415ce\")>\n",
      "<selenium.webdriver.firefox.webelement.FirefoxWebElement (session=\"a0e2aa76-f4a3-0b4c-9edc-40fa62d3b55c\", element=\"f988f630-f888-1e43-abf1-6c2edc855cae\")>\n",
      "<selenium.webdriver.firefox.webelement.FirefoxWebElement (session=\"a0e2aa76-f4a3-0b4c-9edc-40fa62d3b55c\", element=\"bd6ead7d-915b-164f-9c9f-e5fb2adc5731\")>\n",
      "<selenium.webdriver.firefox.webelement.FirefoxWebElement (session=\"a0e2aa76-f4a3-0b4c-9edc-40fa62d3b55c\", element=\"9da17ef5-1519-054f-a94c-72da2f1bfb87\")>\n",
      "<selenium.webdriver.firefox.webelement.FirefoxWebElement (session=\"a0e2aa76-f4a3-0b4c-9edc-40fa62d3b55c\", element=\"43f18f47-fbfc-c249-8078-36b24c633b84\")>\n",
      "<selenium.webdriver.firefox.webelement.FirefoxWebElement (session=\"a0e2aa76-f4a3-0b4c-9edc-40fa62d3b55c\", element=\"43d3ac42-3085-b542-a295-2baad6902584\")>\n",
      "<selenium.webdriver.firefox.webelement.FirefoxWebElement (session=\"a0e2aa76-f4a3-0b4c-9edc-40fa62d3b55c\", element=\"efe02485-3cb9-5d4b-b945-48f5ae689afc\")>\n",
      "<selenium.webdriver.firefox.webelement.FirefoxWebElement (session=\"a0e2aa76-f4a3-0b4c-9edc-40fa62d3b55c\", element=\"4e9b6f38-cf82-6c49-a253-4090ce6bdf0d\")>\n",
      "<selenium.webdriver.firefox.webelement.FirefoxWebElement (session=\"a0e2aa76-f4a3-0b4c-9edc-40fa62d3b55c\", element=\"5ee4ec1f-72fb-4548-92d2-f973e5da4392\")>\n",
      "<selenium.webdriver.firefox.webelement.FirefoxWebElement (session=\"a0e2aa76-f4a3-0b4c-9edc-40fa62d3b55c\", element=\"28adf21f-6226-1140-98ed-f314e802f351\")>\n",
      "<selenium.webdriver.firefox.webelement.FirefoxWebElement (session=\"a0e2aa76-f4a3-0b4c-9edc-40fa62d3b55c\", element=\"eb19a8c7-4ad3-6d45-ab8d-e8b4022652b3\")>\n",
      "<selenium.webdriver.firefox.webelement.FirefoxWebElement (session=\"a0e2aa76-f4a3-0b4c-9edc-40fa62d3b55c\", element=\"18ba751d-904e-f243-8ee0-a6edb41a68ba\")>\n",
      "<selenium.webdriver.firefox.webelement.FirefoxWebElement (session=\"a0e2aa76-f4a3-0b4c-9edc-40fa62d3b55c\", element=\"eed7dad4-84f2-1a44-b567-ab33895f68ca\")>\n",
      "<selenium.webdriver.firefox.webelement.FirefoxWebElement (session=\"a0e2aa76-f4a3-0b4c-9edc-40fa62d3b55c\", element=\"a968f485-fd0c-134d-b472-9151976979f3\")>\n",
      "<selenium.webdriver.firefox.webelement.FirefoxWebElement (session=\"a0e2aa76-f4a3-0b4c-9edc-40fa62d3b55c\", element=\"45755a88-298c-cf4b-a1cb-c85410df1072\")>\n",
      "<selenium.webdriver.firefox.webelement.FirefoxWebElement (session=\"a0e2aa76-f4a3-0b4c-9edc-40fa62d3b55c\", element=\"a21a7d5d-7a64-5f4c-86ff-72843c896a7e\")>\n",
      "<selenium.webdriver.firefox.webelement.FirefoxWebElement (session=\"a0e2aa76-f4a3-0b4c-9edc-40fa62d3b55c\", element=\"0f426219-e245-5341-8445-2a3532277a43\")>\n"
     ]
    },
    {
     "name": "stdout",
     "output_type": "stream",
     "text": [
      "<selenium.webdriver.firefox.webelement.FirefoxWebElement (session=\"a0e2aa76-f4a3-0b4c-9edc-40fa62d3b55c\", element=\"17cfb784-0564-ce45-bcd8-418feee2d195\")>\n",
      "<selenium.webdriver.firefox.webelement.FirefoxWebElement (session=\"a0e2aa76-f4a3-0b4c-9edc-40fa62d3b55c\", element=\"a8aba360-6588-7044-89e5-d915613f5de9\")>\n",
      "<selenium.webdriver.firefox.webelement.FirefoxWebElement (session=\"a0e2aa76-f4a3-0b4c-9edc-40fa62d3b55c\", element=\"83253214-3701-3041-bc5d-72d002d2adac\")>\n",
      "<selenium.webdriver.firefox.webelement.FirefoxWebElement (session=\"a0e2aa76-f4a3-0b4c-9edc-40fa62d3b55c\", element=\"22c02551-892c-394a-b0ef-f199dc92a38a\")>\n",
      "<selenium.webdriver.firefox.webelement.FirefoxWebElement (session=\"a0e2aa76-f4a3-0b4c-9edc-40fa62d3b55c\", element=\"47b98cf0-bdec-ef46-a033-afe27a7e3e2b\")>\n",
      "<selenium.webdriver.firefox.webelement.FirefoxWebElement (session=\"a0e2aa76-f4a3-0b4c-9edc-40fa62d3b55c\", element=\"26f400ac-1172-aa4d-83af-525b59f191f5\")>\n",
      "<selenium.webdriver.firefox.webelement.FirefoxWebElement (session=\"a0e2aa76-f4a3-0b4c-9edc-40fa62d3b55c\", element=\"34235e1f-9b96-5040-ae53-9621c7642a2c\")>\n",
      "<selenium.webdriver.firefox.webelement.FirefoxWebElement (session=\"a0e2aa76-f4a3-0b4c-9edc-40fa62d3b55c\", element=\"e351e9e3-f877-c848-9b82-b7bdd79f5abe\")>\n",
      "<selenium.webdriver.firefox.webelement.FirefoxWebElement (session=\"a0e2aa76-f4a3-0b4c-9edc-40fa62d3b55c\", element=\"fbd1f9ff-7826-534a-905f-dbe8a1f290d9\")>\n",
      "<selenium.webdriver.firefox.webelement.FirefoxWebElement (session=\"a0e2aa76-f4a3-0b4c-9edc-40fa62d3b55c\", element=\"b8974fc0-3372-324b-bc8c-8decd20910c0\")>\n",
      "<selenium.webdriver.firefox.webelement.FirefoxWebElement (session=\"a0e2aa76-f4a3-0b4c-9edc-40fa62d3b55c\", element=\"ef0d6872-c6a8-1a44-947c-322ddeeb2200\")>\n",
      "<selenium.webdriver.firefox.webelement.FirefoxWebElement (session=\"a0e2aa76-f4a3-0b4c-9edc-40fa62d3b55c\", element=\"aa31893d-ea7d-1849-a0b4-11d9d8f6687d\")>\n",
      "<selenium.webdriver.firefox.webelement.FirefoxWebElement (session=\"a0e2aa76-f4a3-0b4c-9edc-40fa62d3b55c\", element=\"a34350dc-13a6-c849-ad31-b88712dba4f1\")>\n",
      "<selenium.webdriver.firefox.webelement.FirefoxWebElement (session=\"a0e2aa76-f4a3-0b4c-9edc-40fa62d3b55c\", element=\"c3c5d86b-6a62-1a40-bdae-157ecaf158e6\")>\n",
      "<selenium.webdriver.firefox.webelement.FirefoxWebElement (session=\"a0e2aa76-f4a3-0b4c-9edc-40fa62d3b55c\", element=\"7a4c91b5-2c69-0743-8fd2-e076e265c25c\")>\n",
      "<selenium.webdriver.firefox.webelement.FirefoxWebElement (session=\"a0e2aa76-f4a3-0b4c-9edc-40fa62d3b55c\", element=\"e23f0e1c-d3b6-e945-aac0-9a80c2bf4e5c\")>\n",
      "<selenium.webdriver.firefox.webelement.FirefoxWebElement (session=\"a0e2aa76-f4a3-0b4c-9edc-40fa62d3b55c\", element=\"fa16b8ca-8dc8-e049-a430-c2211f3eee53\")>\n",
      "<selenium.webdriver.firefox.webelement.FirefoxWebElement (session=\"a0e2aa76-f4a3-0b4c-9edc-40fa62d3b55c\", element=\"a18ab134-bef9-6f42-8ff3-8371090a159a\")>\n",
      "<selenium.webdriver.firefox.webelement.FirefoxWebElement (session=\"a0e2aa76-f4a3-0b4c-9edc-40fa62d3b55c\", element=\"7787a6a6-544a-6347-9c89-72aa8acdceab\")>\n",
      "<selenium.webdriver.firefox.webelement.FirefoxWebElement (session=\"a0e2aa76-f4a3-0b4c-9edc-40fa62d3b55c\", element=\"99fe0408-372e-0b42-89ee-63ae8c1034f7\")>\n",
      "<selenium.webdriver.firefox.webelement.FirefoxWebElement (session=\"a0e2aa76-f4a3-0b4c-9edc-40fa62d3b55c\", element=\"6e9558bd-538c-ee4d-83de-dcb8fc6ca16d\")>\n",
      "<selenium.webdriver.firefox.webelement.FirefoxWebElement (session=\"a0e2aa76-f4a3-0b4c-9edc-40fa62d3b55c\", element=\"f342b884-3479-054a-bdac-1ab1be3a4d12\")>\n",
      "<selenium.webdriver.firefox.webelement.FirefoxWebElement (session=\"a0e2aa76-f4a3-0b4c-9edc-40fa62d3b55c\", element=\"fed48af2-4351-d94e-8c1b-732bf69f416a\")>\n",
      "<selenium.webdriver.firefox.webelement.FirefoxWebElement (session=\"a0e2aa76-f4a3-0b4c-9edc-40fa62d3b55c\", element=\"d56c86b7-43da-6843-8309-912102567206\")>\n",
      "<selenium.webdriver.firefox.webelement.FirefoxWebElement (session=\"a0e2aa76-f4a3-0b4c-9edc-40fa62d3b55c\", element=\"04ac1a22-e03d-b440-9ab2-949fe3237c09\")>\n",
      "<selenium.webdriver.firefox.webelement.FirefoxWebElement (session=\"a0e2aa76-f4a3-0b4c-9edc-40fa62d3b55c\", element=\"a824e8c8-34be-7942-b82b-6fc4a0820745\")>\n",
      "<selenium.webdriver.firefox.webelement.FirefoxWebElement (session=\"a0e2aa76-f4a3-0b4c-9edc-40fa62d3b55c\", element=\"a04e8a04-06b9-0f41-9411-2938645feb80\")>\n",
      "<selenium.webdriver.firefox.webelement.FirefoxWebElement (session=\"a0e2aa76-f4a3-0b4c-9edc-40fa62d3b55c\", element=\"7452c527-dfb9-6248-81c5-d3ec2f946a23\")>\n",
      "<selenium.webdriver.firefox.webelement.FirefoxWebElement (session=\"a0e2aa76-f4a3-0b4c-9edc-40fa62d3b55c\", element=\"3b4570f4-d896-334e-a00d-7fcbda1347b0\")>\n",
      "<selenium.webdriver.firefox.webelement.FirefoxWebElement (session=\"a0e2aa76-f4a3-0b4c-9edc-40fa62d3b55c\", element=\"ba7ab84f-0ce3-4f43-9da6-c75fa678bac8\")>\n",
      "<selenium.webdriver.firefox.webelement.FirefoxWebElement (session=\"a0e2aa76-f4a3-0b4c-9edc-40fa62d3b55c\", element=\"fc866d69-ed8e-cb47-afd8-d129049c4e00\")>\n",
      "<selenium.webdriver.firefox.webelement.FirefoxWebElement (session=\"a0e2aa76-f4a3-0b4c-9edc-40fa62d3b55c\", element=\"b6ad9016-6d3e-7d42-b3c4-f858889d04ee\")>\n",
      "<selenium.webdriver.firefox.webelement.FirefoxWebElement (session=\"a0e2aa76-f4a3-0b4c-9edc-40fa62d3b55c\", element=\"0d86645c-e622-1348-adaf-6d9b3d18b590\")>\n",
      "<selenium.webdriver.firefox.webelement.FirefoxWebElement (session=\"a0e2aa76-f4a3-0b4c-9edc-40fa62d3b55c\", element=\"deb29f64-5b11-7242-9bf1-31ac6b065a01\")>\n",
      "<selenium.webdriver.firefox.webelement.FirefoxWebElement (session=\"a0e2aa76-f4a3-0b4c-9edc-40fa62d3b55c\", element=\"e35e11bb-07f2-3343-a0db-3a8dd48748d6\")>\n",
      "<selenium.webdriver.firefox.webelement.FirefoxWebElement (session=\"a0e2aa76-f4a3-0b4c-9edc-40fa62d3b55c\", element=\"fcb89a8e-3252-9f42-8e25-d1fc93a6549f\")>\n",
      "<selenium.webdriver.firefox.webelement.FirefoxWebElement (session=\"a0e2aa76-f4a3-0b4c-9edc-40fa62d3b55c\", element=\"068c4b93-9669-f846-ab52-3a9b4ccdb52d\")>\n",
      "<selenium.webdriver.firefox.webelement.FirefoxWebElement (session=\"a0e2aa76-f4a3-0b4c-9edc-40fa62d3b55c\", element=\"7b34ecb1-b872-3b4c-a5a9-eef2417bd6f6\")>\n",
      "<selenium.webdriver.firefox.webelement.FirefoxWebElement (session=\"a0e2aa76-f4a3-0b4c-9edc-40fa62d3b55c\", element=\"cb20bb7b-9144-3444-9d31-b8932043250f\")>\n",
      "<selenium.webdriver.firefox.webelement.FirefoxWebElement (session=\"a0e2aa76-f4a3-0b4c-9edc-40fa62d3b55c\", element=\"e37ed565-dcd9-9d4e-8855-f6fdea3836dc\")>\n",
      "<selenium.webdriver.firefox.webelement.FirefoxWebElement (session=\"a0e2aa76-f4a3-0b4c-9edc-40fa62d3b55c\", element=\"d5cec381-bf78-8445-8ab1-0d4ef9057929\")>\n",
      "<selenium.webdriver.firefox.webelement.FirefoxWebElement (session=\"a0e2aa76-f4a3-0b4c-9edc-40fa62d3b55c\", element=\"362fe3e1-ff62-8d4a-8445-3a3b65c66462\")>\n",
      "<selenium.webdriver.firefox.webelement.FirefoxWebElement (session=\"a0e2aa76-f4a3-0b4c-9edc-40fa62d3b55c\", element=\"6f5486bd-9f4f-a642-bbc9-dfab7c7f7f2a\")>\n",
      "<selenium.webdriver.firefox.webelement.FirefoxWebElement (session=\"a0e2aa76-f4a3-0b4c-9edc-40fa62d3b55c\", element=\"f773a67f-f9b8-764c-a7e4-ca4ccd04063e\")>\n",
      "<selenium.webdriver.firefox.webelement.FirefoxWebElement (session=\"a0e2aa76-f4a3-0b4c-9edc-40fa62d3b55c\", element=\"e578588c-423d-0a4e-9b5b-4a3cd4ed4513\")>\n",
      "<selenium.webdriver.firefox.webelement.FirefoxWebElement (session=\"a0e2aa76-f4a3-0b4c-9edc-40fa62d3b55c\", element=\"514d3b41-fb56-a248-90e3-5e8d312e283c\")>\n",
      "<selenium.webdriver.firefox.webelement.FirefoxWebElement (session=\"a0e2aa76-f4a3-0b4c-9edc-40fa62d3b55c\", element=\"b7c3557b-3d02-cb47-9285-62a2dcc419e5\")>\n",
      "<selenium.webdriver.firefox.webelement.FirefoxWebElement (session=\"a0e2aa76-f4a3-0b4c-9edc-40fa62d3b55c\", element=\"a645e491-8aa4-ee41-afae-c50974f36bce\")>\n",
      "<selenium.webdriver.firefox.webelement.FirefoxWebElement (session=\"a0e2aa76-f4a3-0b4c-9edc-40fa62d3b55c\", element=\"8e69a764-79fb-724c-a13f-a19008d46aa6\")>\n",
      "<selenium.webdriver.firefox.webelement.FirefoxWebElement (session=\"a0e2aa76-f4a3-0b4c-9edc-40fa62d3b55c\", element=\"24547e60-e7c7-8346-bfe4-66596d93b5e3\")>\n",
      "<selenium.webdriver.firefox.webelement.FirefoxWebElement (session=\"a0e2aa76-f4a3-0b4c-9edc-40fa62d3b55c\", element=\"89557f6b-0fd6-8345-91cf-7c076f69406d\")>\n",
      "<selenium.webdriver.firefox.webelement.FirefoxWebElement (session=\"a0e2aa76-f4a3-0b4c-9edc-40fa62d3b55c\", element=\"8476adb1-a38e-9d4b-ab1e-0637d9d085be\")>\n",
      "<selenium.webdriver.firefox.webelement.FirefoxWebElement (session=\"a0e2aa76-f4a3-0b4c-9edc-40fa62d3b55c\", element=\"6213cd07-8105-6944-babe-b562d2e83610\")>\n"
     ]
    },
    {
     "name": "stdout",
     "output_type": "stream",
     "text": [
      "<selenium.webdriver.firefox.webelement.FirefoxWebElement (session=\"a0e2aa76-f4a3-0b4c-9edc-40fa62d3b55c\", element=\"490fac95-68e1-7c47-ab36-5f36f3277900\")>\n",
      "<selenium.webdriver.firefox.webelement.FirefoxWebElement (session=\"a0e2aa76-f4a3-0b4c-9edc-40fa62d3b55c\", element=\"f80488a7-9ade-d945-acc3-95a95ba25e3e\")>\n",
      "<selenium.webdriver.firefox.webelement.FirefoxWebElement (session=\"a0e2aa76-f4a3-0b4c-9edc-40fa62d3b55c\", element=\"dd7cb23d-6137-244c-89a3-0ec8fd05ea10\")>\n",
      "<selenium.webdriver.firefox.webelement.FirefoxWebElement (session=\"a0e2aa76-f4a3-0b4c-9edc-40fa62d3b55c\", element=\"89e95813-5682-2f40-b238-34d802c49c6b\")>\n",
      "<selenium.webdriver.firefox.webelement.FirefoxWebElement (session=\"a0e2aa76-f4a3-0b4c-9edc-40fa62d3b55c\", element=\"093f9cff-a9e6-cf48-9cd1-b9ef5b80f80e\")>\n",
      "<selenium.webdriver.firefox.webelement.FirefoxWebElement (session=\"a0e2aa76-f4a3-0b4c-9edc-40fa62d3b55c\", element=\"e0dc748d-02bc-a548-a69e-06d15afe637a\")>\n",
      "<selenium.webdriver.firefox.webelement.FirefoxWebElement (session=\"a0e2aa76-f4a3-0b4c-9edc-40fa62d3b55c\", element=\"b83be681-5d9e-2a43-8d6e-19907df20842\")>\n",
      "<selenium.webdriver.firefox.webelement.FirefoxWebElement (session=\"a0e2aa76-f4a3-0b4c-9edc-40fa62d3b55c\", element=\"475f85ce-a6a8-694d-b76b-6b35ee069d6e\")>\n",
      "<selenium.webdriver.firefox.webelement.FirefoxWebElement (session=\"a0e2aa76-f4a3-0b4c-9edc-40fa62d3b55c\", element=\"313be026-781e-7543-891b-dea3caddc9dc\")>\n",
      "<selenium.webdriver.firefox.webelement.FirefoxWebElement (session=\"a0e2aa76-f4a3-0b4c-9edc-40fa62d3b55c\", element=\"a46b5e92-29db-a24c-a083-dcb2073b42d8\")>\n",
      "<selenium.webdriver.firefox.webelement.FirefoxWebElement (session=\"a0e2aa76-f4a3-0b4c-9edc-40fa62d3b55c\", element=\"02141803-6ed8-b84d-bda2-f5579cb74459\")>\n",
      "<selenium.webdriver.firefox.webelement.FirefoxWebElement (session=\"a0e2aa76-f4a3-0b4c-9edc-40fa62d3b55c\", element=\"e2bab4c5-199d-fa4d-bea8-b76e8b2b97b0\")>\n",
      "<selenium.webdriver.firefox.webelement.FirefoxWebElement (session=\"a0e2aa76-f4a3-0b4c-9edc-40fa62d3b55c\", element=\"11e69b72-9bc8-8641-9a07-958400467f01\")>\n",
      "<selenium.webdriver.firefox.webelement.FirefoxWebElement (session=\"a0e2aa76-f4a3-0b4c-9edc-40fa62d3b55c\", element=\"5756c6e9-4021-4346-a207-a1b5303aee06\")>\n",
      "<selenium.webdriver.firefox.webelement.FirefoxWebElement (session=\"a0e2aa76-f4a3-0b4c-9edc-40fa62d3b55c\", element=\"ea76fdde-a7d1-8b4c-afba-81264567ca78\")>\n",
      "<selenium.webdriver.firefox.webelement.FirefoxWebElement (session=\"a0e2aa76-f4a3-0b4c-9edc-40fa62d3b55c\", element=\"7e2577c5-208d-8344-981f-2409911d5f47\")>\n",
      "<selenium.webdriver.firefox.webelement.FirefoxWebElement (session=\"a0e2aa76-f4a3-0b4c-9edc-40fa62d3b55c\", element=\"fb98f0b0-3f46-3141-a75d-82a32b5915b6\")>\n"
     ]
    }
   ],
   "source": [
    "dc_card = driver_scroll.find_element_by_xpath(\"//div[@class='dc-card']\")\n",
    "\n",
    "while True:\n",
    "    try:\n",
    "        print(dc_card)\n",
    "        #Here I am setting the new dc_card to the sibling of the previous dc-card\n",
    "        #I have to specify exactly which tag I want to use next as the sibling\n",
    "        dc_card = dc_card = dc_card.find_element_by_xpath(\".//following-sibling::div[@class='dc-card']\")\n",
    "        dc_card.send_keys(Keys.PAGE_DOWN)\n",
    "        time.sleep(3)\n",
    "    except:\n",
    "        break"
   ]
  },
  {
   "cell_type": "markdown",
   "metadata": {},
   "source": [
    "<a id='#links'></a>\n",
    "\n",
    "### Iterate Through All Links\n",
    "\n",
    "Now that we've demonstrated how to **point**, **click** and **scroll** down a webpage, we will now put all these pieces together to iterate through each subsection of the Rotten Tomatoes website, point, click, scroll and collect the data on each of these pages.\n",
    "\n",
    "Let's take it from the top!"
   ]
  },
  {
   "cell_type": "markdown",
   "metadata": {},
   "source": [
    "#### Call the website and create a driver instance like we did previously..."
   ]
  },
  {
   "cell_type": "code",
   "execution_count": 297,
   "metadata": {
    "collapsed": true
   },
   "outputs": [],
   "source": [
    "website = 'https://www.rottentomatoes.com/'\n",
    "driver = webdriver.Firefox()\n",
    "driver.get(website)"
   ]
  },
  {
   "cell_type": "markdown",
   "metadata": {
    "collapsed": true
   },
   "source": [
    "#### Now let's scroll down the page to make sure all our links are loaded"
   ]
  },
  {
   "cell_type": "code",
   "execution_count": 298,
   "metadata": {
    "collapsed": true
   },
   "outputs": [],
   "source": [
    "driver.execute_script(\"window.scrollTo(0, document.body.scrollHeight);\")"
   ]
  },
  {
   "cell_type": "markdown",
   "metadata": {},
   "source": [
    "#### Grab all the \"View All\" objects"
   ]
  },
  {
   "cell_type": "code",
   "execution_count": 299,
   "metadata": {
    "collapsed": true
   },
   "outputs": [],
   "source": [
    "buttons = driver.find_elements_by_class_name('clickForMore')"
   ]
  },
  {
   "cell_type": "markdown",
   "metadata": {},
   "source": [
    "Each of the \"View All\" objects have different **id** tag names. However if we look at the **div class** parent node, we see that all the **class names are \"clickMore\"**. So what we'll do is create a list of all the **\"clickMore\"** objects, and then select the first child node. "
   ]
  },
  {
   "cell_type": "code",
   "execution_count": 301,
   "metadata": {
    "scrolled": true
   },
   "outputs": [
    {
     "name": "stdout",
     "output_type": "stream",
     "text": [
      "https://www.rottentomatoes.com/about\n",
      "pass\n",
      "https://editorial.rottentomatoes.com/total-recall/\n",
      "pass\n",
      "https://editorial.rottentomatoes.com/rt-hubs/\n",
      "pass\n",
      "https://editorial.rottentomatoes.com/news/\n",
      "pass\n",
      "https://www.rottentomatoes.com/browse/opening/\n",
      "OPENING THIS WEEK\n",
      "https://www.rottentomatoes.com/browse/in-theaters/\n",
      "TOP BOX OFFICE\n",
      "WEEKEND BOX OFFICE EARNINGS\n",
      "https://www.rottentomatoes.com/browse/upcoming/\n",
      "COMING SOON\n",
      "https://www.rottentomatoes.com/browse/tv-list-1\n",
      "CERTIFIED FRESH TV\n",
      "pass\n",
      "https://www.rottentomatoes.com/browse/tv-list-2\n",
      "MOST POPULAR TV ON RT\n",
      "pass\n",
      "https://www.rottentomatoes.com/browse/top-dvd-streaming/\n",
      "TOP DVD & STREAMING\n",
      "https://www.rottentomatoes.com/browse/cf-in-theaters/\n",
      "CERTIFIED FRESH MOVIES\n",
      "WEEKEND BOX OFFICE EARNINGS\n",
      "https://editorial.rottentomatoes.com/video-interviews/\n",
      "pass\n",
      "https://editorial.rottentomatoes.com/news/\n",
      "pass\n",
      "https://editorial.rottentomatoes.com/publications/\n",
      "pass\n"
     ]
    }
   ],
   "source": [
    "for button in buttons:\n",
    "    website = button.find_element_by_xpath(\".//*\").get_attribute(\"href\")\n",
    "    print(website)\n",
    "    driver = webdriver.Firefox()\n",
    "    driver.get(website)\n",
    "    time.sleep(5)\n",
    "    try:\n",
    "        print(driver.find_element_by_class_name('main-column-item').text)\n",
    "        time.sleep(5)\n",
    "        titles = []\n",
    "        dates = []\n",
    "        scores= []\n",
    "        movies = driver.find_elements_by_class_name('mb-movie')\n",
    "        for movie in movies:\n",
    "            titles.append(movie.find_element_by_class_name('movieTitle').text)\n",
    "            dates.append(movie.find_element_by_class_name('release-date').text)\n",
    "            try:\n",
    "                scores.append(movie.find_element_by_class_name('tMeterScore').text)\n",
    "            except:\n",
    "                scores.append(None)\n",
    "        pd.DataFrame({'Title':titles, 'Dates': dates, 'Score': scores}).to_csv(driver.find_element_by_class_name('main-column-item').text + '.csv')\n",
    "    except:\n",
    "        print(\"pass\")\n",
    "    driver.quit()\n",
    "    time.sleep(5)"
   ]
  }
 ],
 "metadata": {
  "kernelspec": {
   "display_name": "Python 3",
   "language": "python",
   "name": "python3"
  },
  "language_info": {
   "codemirror_mode": {
    "name": "ipython",
    "version": 3
   },
   "file_extension": ".py",
   "mimetype": "text/x-python",
   "name": "python",
   "nbconvert_exporter": "python",
   "pygments_lexer": "ipython3",
   "version": "3.6.3"
  }
 },
 "nbformat": 4,
 "nbformat_minor": 2
}
