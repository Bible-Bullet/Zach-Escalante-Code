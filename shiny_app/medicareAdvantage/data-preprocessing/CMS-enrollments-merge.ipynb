{
 "cells": [
  {
   "cell_type": "markdown",
   "metadata": {},
   "source": [
    "#### Import necessary packages"
   ]
  },
  {
   "cell_type": "code",
   "execution_count": 1,
   "metadata": {},
   "outputs": [],
   "source": [
    "import boto3\n",
    "import pandas as pd\n",
    "#import mysql.connector\n",
    "from collections import OrderedDict\n",
    "from datetime import datetime, timedelta"
   ]
  },
  {
   "cell_type": "markdown",
   "metadata": {},
   "source": [
    "#### Connect to S3 and download CSV files as Pandas Dataframe"
   ]
  },
  {
   "cell_type": "code",
   "execution_count": 2,
   "metadata": {},
   "outputs": [],
   "source": [
    "def get_s3_keys(bucket):\n",
    "    \"\"\"Get a list of keys in an S3 bucket.\"\"\"\n",
    "    keys = []\n",
    "    resp = s3.list_objects_v2(Bucket=bucket)\n",
    "    for obj in resp['Contents']:\n",
    "        keys.append(obj['Key'])\n",
    "    return keys"
   ]
  },
  {
   "cell_type": "code",
   "execution_count": 3,
   "metadata": {},
   "outputs": [],
   "source": [
    "s3 = boto3.client('s3')"
   ]
  },
  {
   "cell_type": "code",
   "execution_count": 4,
   "metadata": {},
   "outputs": [],
   "source": [
    "bucket = 'cms-data-enrollment'"
   ]
  },
  {
   "cell_type": "code",
   "execution_count": 5,
   "metadata": {},
   "outputs": [],
   "source": [
    "files = get_s3_keys(bucket)"
   ]
  },
  {
   "cell_type": "code",
   "execution_count": 6,
   "metadata": {},
   "outputs": [
    {
     "data": {
      "text/plain": [
       "'CPSC_Enrollment_Info_2020_01.csv'"
      ]
     },
     "execution_count": 6,
     "metadata": {},
     "output_type": "execute_result"
    }
   ],
   "source": [
    "idx = -1\n",
    "files[idx]"
   ]
  },
  {
   "cell_type": "code",
   "execution_count": 7,
   "metadata": {},
   "outputs": [],
   "source": [
    "obj = s3.get_object(Bucket= bucket, Key= files[idx])"
   ]
  },
  {
   "cell_type": "code",
   "execution_count": 8,
   "metadata": {},
   "outputs": [],
   "source": [
    "latest_df = pd.read_csv(obj['Body']) # 'Body' is a key word"
   ]
  },
  {
   "cell_type": "markdown",
   "metadata": {},
   "source": [
    "####  Create initial dataframe to which we will merge all other enrollment data"
   ]
  },
  {
   "cell_type": "markdown",
   "metadata": {},
   "source": [
    "Create a list of dates to be used as column values in our dataframes"
   ]
  },
  {
   "cell_type": "code",
   "execution_count": 9,
   "metadata": {},
   "outputs": [],
   "source": [
    "dates = [\"2016-01-01\", \"2020-01-02\"]\n",
    "start, end = [datetime.strptime(_, \"%Y-%m-%d\") for _ in dates]\n",
    "file_months = list(OrderedDict(((start + timedelta(_)).strftime(r\"%b-%y\"), None) for _ in range((end - start).days)).keys())"
   ]
  },
  {
   "cell_type": "markdown",
   "metadata": {},
   "source": [
    "1.A Create \"Unique_ID\" column by combining \"Contract Number\" and \"Plan ID\" which will be used to join the master contract data in order to match the parent organization to each plan/enrollment data"
   ]
  },
  {
   "cell_type": "code",
   "execution_count": 10,
   "metadata": {},
   "outputs": [],
   "source": [
    "unique_id = latest_df[\"Contract Number\"].map(str) + '-' + latest_df[\"Plan ID\"].map(str)\n",
    "latest_df.insert(loc=0, column='Unique_ID', value=unique_id)"
   ]
  },
  {
   "cell_type": "markdown",
   "metadata": {},
   "source": [
    "1.B. Create another \"Unique_ID_SSA\" column which will be used for joining other enrollment data"
   ]
  },
  {
   "cell_type": "code",
   "execution_count": 11,
   "metadata": {},
   "outputs": [
    {
     "data": {
      "text/html": [
       "<div>\n",
       "<style scoped>\n",
       "    .dataframe tbody tr th:only-of-type {\n",
       "        vertical-align: middle;\n",
       "    }\n",
       "\n",
       "    .dataframe tbody tr th {\n",
       "        vertical-align: top;\n",
       "    }\n",
       "\n",
       "    .dataframe thead th {\n",
       "        text-align: right;\n",
       "    }\n",
       "</style>\n",
       "<table border=\"1\" class=\"dataframe\">\n",
       "  <thead>\n",
       "    <tr style=\"text-align: right;\">\n",
       "      <th></th>\n",
       "      <th>Unique_ID_SSA</th>\n",
       "      <th>Unique_ID</th>\n",
       "      <th>Contract Number</th>\n",
       "      <th>Plan ID</th>\n",
       "      <th>SSA State County Code</th>\n",
       "      <th>FIPS State County Code</th>\n",
       "      <th>State</th>\n",
       "      <th>County</th>\n",
       "      <th>Enrollment</th>\n",
       "    </tr>\n",
       "  </thead>\n",
       "  <tbody>\n",
       "    <tr>\n",
       "      <th>0</th>\n",
       "      <td>E0654-801-2275</td>\n",
       "      <td>E0654-801</td>\n",
       "      <td>E0654</td>\n",
       "      <td>801</td>\n",
       "      <td>2275</td>\n",
       "      <td>NaN</td>\n",
       "      <td>NaN</td>\n",
       "      <td>NaN</td>\n",
       "      <td>*</td>\n",
       "    </tr>\n",
       "    <tr>\n",
       "      <th>1</th>\n",
       "      <td>E0654-801-2198</td>\n",
       "      <td>E0654-801</td>\n",
       "      <td>E0654</td>\n",
       "      <td>801</td>\n",
       "      <td>2198</td>\n",
       "      <td>NaN</td>\n",
       "      <td>NaN</td>\n",
       "      <td>NaN</td>\n",
       "      <td>*</td>\n",
       "    </tr>\n",
       "    <tr>\n",
       "      <th>2</th>\n",
       "      <td>E0654-801-2195</td>\n",
       "      <td>E0654-801</td>\n",
       "      <td>E0654</td>\n",
       "      <td>801</td>\n",
       "      <td>2195</td>\n",
       "      <td>NaN</td>\n",
       "      <td>NaN</td>\n",
       "      <td>NaN</td>\n",
       "      <td>*</td>\n",
       "    </tr>\n",
       "    <tr>\n",
       "      <th>3</th>\n",
       "      <td>E0654-801-1000</td>\n",
       "      <td>E0654-801</td>\n",
       "      <td>E0654</td>\n",
       "      <td>801</td>\n",
       "      <td>1000</td>\n",
       "      <td>1001.0</td>\n",
       "      <td>AL</td>\n",
       "      <td>Autauga</td>\n",
       "      <td>*</td>\n",
       "    </tr>\n",
       "    <tr>\n",
       "      <th>4</th>\n",
       "      <td>E0654-801-1010</td>\n",
       "      <td>E0654-801</td>\n",
       "      <td>E0654</td>\n",
       "      <td>801</td>\n",
       "      <td>1010</td>\n",
       "      <td>1003.0</td>\n",
       "      <td>AL</td>\n",
       "      <td>Baldwin</td>\n",
       "      <td>12</td>\n",
       "    </tr>\n",
       "  </tbody>\n",
       "</table>\n",
       "</div>"
      ],
      "text/plain": [
       "    Unique_ID_SSA  Unique_ID Contract Number  Plan ID  SSA State County Code  \\\n",
       "0  E0654-801-2275  E0654-801           E0654      801                   2275   \n",
       "1  E0654-801-2198  E0654-801           E0654      801                   2198   \n",
       "2  E0654-801-2195  E0654-801           E0654      801                   2195   \n",
       "3  E0654-801-1000  E0654-801           E0654      801                   1000   \n",
       "4  E0654-801-1010  E0654-801           E0654      801                   1010   \n",
       "\n",
       "   FIPS State County Code State   County Enrollment  \n",
       "0                     NaN   NaN      NaN          *  \n",
       "1                     NaN   NaN      NaN          *  \n",
       "2                     NaN   NaN      NaN          *  \n",
       "3                  1001.0    AL  Autauga          *  \n",
       "4                  1003.0    AL  Baldwin         12  "
      ]
     },
     "execution_count": 11,
     "metadata": {},
     "output_type": "execute_result"
    }
   ],
   "source": [
    "unique_id_v1 = latest_df[\"Unique_ID\"].map(str) + '-' + latest_df[\"SSA State County Code\"].map(str)\n",
    "latest_df.insert(loc=0, column='Unique_ID_SSA', value=unique_id_v1)\n",
    "latest_df.head()"
   ]
  },
  {
   "cell_type": "markdown",
   "metadata": {},
   "source": [
    "2. Replace all \"*\" values with the integer 5"
   ]
  },
  {
   "cell_type": "code",
   "execution_count": 12,
   "metadata": {},
   "outputs": [],
   "source": [
    "latest_df['Enrollment'] = latest_df['Enrollment'].str.replace('*','5').apply(pd.to_numeric)"
   ]
  },
  {
   "cell_type": "markdown",
   "metadata": {},
   "source": [
    "3. Drop all the rows that have NaN values (only a couple rows do not have State/County codes"
   ]
  },
  {
   "cell_type": "code",
   "execution_count": 13,
   "metadata": {},
   "outputs": [],
   "source": [
    "latest_df.dropna(inplace=True)"
   ]
  },
  {
   "cell_type": "markdown",
   "metadata": {},
   "source": [
    "4. Change the 'Enrollment' column header to the month/date"
   ]
  },
  {
   "cell_type": "code",
   "execution_count": 14,
   "metadata": {},
   "outputs": [],
   "source": [
    "# latest_df['Date'] = datetime.strptime(file_months[idx], \"%b-%y\")\n",
    "latest_df.rename(columns={'Enrollment': file_months[idx]}, inplace=True)"
   ]
  },
  {
   "cell_type": "markdown",
   "metadata": {},
   "source": [
    "#### Join the Provider/Plan from the Contract_info file"
   ]
  },
  {
   "cell_type": "markdown",
   "metadata": {},
   "source": [
    "##### Import the master plan/state data file"
   ]
  },
  {
   "cell_type": "code",
   "execution_count": 15,
   "metadata": {},
   "outputs": [],
   "source": [
    "contract_df = pd.read_csv('clean_cms_contract_data.csv')"
   ]
  },
  {
   "cell_type": "code",
   "execution_count": 16,
   "metadata": {},
   "outputs": [],
   "source": [
    "contract_df = contract_df[['Unique_ID', 'Parent Organization']]"
   ]
  },
  {
   "cell_type": "markdown",
   "metadata": {},
   "source": [
    "##### Merge the last month's enrollment data file with the master contract file on the 'Unique_ID\""
   ]
  },
  {
   "cell_type": "code",
   "execution_count": 17,
   "metadata": {},
   "outputs": [],
   "source": [
    "master_data = pd.merge(latest_df, contract_df, left_on = 'Unique_ID', right_on = 'Unique_ID', how='right')"
   ]
  },
  {
   "cell_type": "code",
   "execution_count": 18,
   "metadata": {},
   "outputs": [],
   "source": [
    "master_data.drop(['Contract Number', 'Plan ID', 'SSA State County Code', 'Unique_ID'], axis=1, inplace=True)"
   ]
  },
  {
   "cell_type": "code",
   "execution_count": 19,
   "metadata": {},
   "outputs": [],
   "source": [
    "master_data.dropna(inplace = True)"
   ]
  },
  {
   "cell_type": "code",
   "execution_count": 20,
   "metadata": {},
   "outputs": [
    {
     "data": {
      "text/html": [
       "<div>\n",
       "<style scoped>\n",
       "    .dataframe tbody tr th:only-of-type {\n",
       "        vertical-align: middle;\n",
       "    }\n",
       "\n",
       "    .dataframe tbody tr th {\n",
       "        vertical-align: top;\n",
       "    }\n",
       "\n",
       "    .dataframe thead th {\n",
       "        text-align: right;\n",
       "    }\n",
       "</style>\n",
       "<table border=\"1\" class=\"dataframe\">\n",
       "  <thead>\n",
       "    <tr style=\"text-align: right;\">\n",
       "      <th></th>\n",
       "      <th>Unique_ID_SSA</th>\n",
       "      <th>FIPS State County Code</th>\n",
       "      <th>State</th>\n",
       "      <th>County</th>\n",
       "      <th>Jan-20</th>\n",
       "      <th>Parent Organization</th>\n",
       "    </tr>\n",
       "  </thead>\n",
       "  <tbody>\n",
       "    <tr>\n",
       "      <th>0</th>\n",
       "      <td>E0654-801-1000</td>\n",
       "      <td>1001.0</td>\n",
       "      <td>AL</td>\n",
       "      <td>Autauga</td>\n",
       "      <td>5.0</td>\n",
       "      <td>IBT Voluntary Employee Benefits Trust</td>\n",
       "    </tr>\n",
       "    <tr>\n",
       "      <th>1</th>\n",
       "      <td>E0654-801-1010</td>\n",
       "      <td>1003.0</td>\n",
       "      <td>AL</td>\n",
       "      <td>Baldwin</td>\n",
       "      <td>12.0</td>\n",
       "      <td>IBT Voluntary Employee Benefits Trust</td>\n",
       "    </tr>\n",
       "    <tr>\n",
       "      <th>2</th>\n",
       "      <td>E0654-801-1020</td>\n",
       "      <td>1005.0</td>\n",
       "      <td>AL</td>\n",
       "      <td>Barbour</td>\n",
       "      <td>5.0</td>\n",
       "      <td>IBT Voluntary Employee Benefits Trust</td>\n",
       "    </tr>\n",
       "    <tr>\n",
       "      <th>3</th>\n",
       "      <td>E0654-801-1030</td>\n",
       "      <td>1007.0</td>\n",
       "      <td>AL</td>\n",
       "      <td>Bibb</td>\n",
       "      <td>5.0</td>\n",
       "      <td>IBT Voluntary Employee Benefits Trust</td>\n",
       "    </tr>\n",
       "    <tr>\n",
       "      <th>4</th>\n",
       "      <td>E0654-801-1040</td>\n",
       "      <td>1009.0</td>\n",
       "      <td>AL</td>\n",
       "      <td>Blount</td>\n",
       "      <td>5.0</td>\n",
       "      <td>IBT Voluntary Employee Benefits Trust</td>\n",
       "    </tr>\n",
       "  </tbody>\n",
       "</table>\n",
       "</div>"
      ],
      "text/plain": [
       "    Unique_ID_SSA  FIPS State County Code State   County  Jan-20  \\\n",
       "0  E0654-801-1000                  1001.0    AL  Autauga     5.0   \n",
       "1  E0654-801-1010                  1003.0    AL  Baldwin    12.0   \n",
       "2  E0654-801-1020                  1005.0    AL  Barbour     5.0   \n",
       "3  E0654-801-1030                  1007.0    AL     Bibb     5.0   \n",
       "4  E0654-801-1040                  1009.0    AL   Blount     5.0   \n",
       "\n",
       "                     Parent Organization  \n",
       "0  IBT Voluntary Employee Benefits Trust  \n",
       "1  IBT Voluntary Employee Benefits Trust  \n",
       "2  IBT Voluntary Employee Benefits Trust  \n",
       "3  IBT Voluntary Employee Benefits Trust  \n",
       "4  IBT Voluntary Employee Benefits Trust  "
      ]
     },
     "execution_count": 20,
     "metadata": {},
     "output_type": "execute_result"
    }
   ],
   "source": [
    "master_data.head()"
   ]
  },
  {
   "cell_type": "markdown",
   "metadata": {},
   "source": [
    "#### Now add each additional month to the master data by using 'left' joins to master_data"
   ]
  },
  {
   "cell_type": "markdown",
   "metadata": {},
   "source": [
    "1. Import data object and read the csv file"
   ]
  },
  {
   "cell_type": "code",
   "execution_count": 22,
   "metadata": {},
   "outputs": [],
   "source": [
    "n = 1\n",
    "obj = s3.get_object(Bucket= bucket, Key= files[idx-n])"
   ]
  },
  {
   "cell_type": "code",
   "execution_count": 23,
   "metadata": {},
   "outputs": [],
   "source": [
    "new_enrollments = pd.read_csv(obj['Body']) # 'Body' is a key word"
   ]
  },
  {
   "cell_type": "markdown",
   "metadata": {},
   "source": [
    "2. Add 'unique_id_ssa' which will be the column that we join on"
   ]
  },
  {
   "cell_type": "code",
   "execution_count": 24,
   "metadata": {},
   "outputs": [],
   "source": [
    "unique_id_ssa = new_enrollments[\"Contract Number\"].map(str) + '-' + new_enrollments[\"Plan ID\"].map(str) + '-' + new_enrollments[\"SSA State County Code\"].map(str)\n",
    "new_enrollments.insert(loc=0, column='Unique_ID_SSA', value=unique_id_ssa)"
   ]
  },
  {
   "cell_type": "code",
   "execution_count": 25,
   "metadata": {},
   "outputs": [],
   "source": [
    "new_enrollments['Enrollment'] = new_enrollments['Enrollment'].str.replace('*','5').apply(pd.to_numeric)"
   ]
  },
  {
   "cell_type": "markdown",
   "metadata": {},
   "source": [
    "3. Change the 'Enrollment' column header to the year/month for the enrollment file"
   ]
  },
  {
   "cell_type": "code",
   "execution_count": 26,
   "metadata": {},
   "outputs": [],
   "source": [
    "new_enrollments.rename(columns={'Enrollment': file_months[idx-n]}, inplace=True)"
   ]
  },
  {
   "cell_type": "code",
   "execution_count": 27,
   "metadata": {},
   "outputs": [],
   "source": [
    "new_enrollments.dropna(inplace=True)"
   ]
  },
  {
   "cell_type": "markdown",
   "metadata": {},
   "source": [
    "4. Drop unneccessary columns which will clog up memory"
   ]
  },
  {
   "cell_type": "code",
   "execution_count": 28,
   "metadata": {},
   "outputs": [],
   "source": [
    "new_enrollments.drop(['Contract Number', 'Plan ID', 'SSA State County Code',\n",
    "       'FIPS State County Code', 'State', 'County'], axis=1, inplace=True)"
   ]
  },
  {
   "cell_type": "code",
   "execution_count": 29,
   "metadata": {},
   "outputs": [
    {
     "name": "stdout",
     "output_type": "stream",
     "text": [
      "Dec-19\n"
     ]
    },
    {
     "data": {
      "text/html": [
       "<div>\n",
       "<style scoped>\n",
       "    .dataframe tbody tr th:only-of-type {\n",
       "        vertical-align: middle;\n",
       "    }\n",
       "\n",
       "    .dataframe tbody tr th {\n",
       "        vertical-align: top;\n",
       "    }\n",
       "\n",
       "    .dataframe thead th {\n",
       "        text-align: right;\n",
       "    }\n",
       "</style>\n",
       "<table border=\"1\" class=\"dataframe\">\n",
       "  <thead>\n",
       "    <tr style=\"text-align: right;\">\n",
       "      <th></th>\n",
       "      <th>Unique_ID_SSA</th>\n",
       "      <th>Dec-19</th>\n",
       "    </tr>\n",
       "  </thead>\n",
       "  <tbody>\n",
       "    <tr>\n",
       "      <th>3</th>\n",
       "      <td>E0654-801-1000</td>\n",
       "      <td>5</td>\n",
       "    </tr>\n",
       "    <tr>\n",
       "      <th>4</th>\n",
       "      <td>E0654-801-1010</td>\n",
       "      <td>5</td>\n",
       "    </tr>\n",
       "    <tr>\n",
       "      <th>5</th>\n",
       "      <td>E0654-801-1020</td>\n",
       "      <td>5</td>\n",
       "    </tr>\n",
       "    <tr>\n",
       "      <th>6</th>\n",
       "      <td>E0654-801-1030</td>\n",
       "      <td>5</td>\n",
       "    </tr>\n",
       "    <tr>\n",
       "      <th>7</th>\n",
       "      <td>E0654-801-1040</td>\n",
       "      <td>5</td>\n",
       "    </tr>\n",
       "  </tbody>\n",
       "</table>\n",
       "</div>"
      ],
      "text/plain": [
       "    Unique_ID_SSA  Dec-19\n",
       "3  E0654-801-1000       5\n",
       "4  E0654-801-1010       5\n",
       "5  E0654-801-1020       5\n",
       "6  E0654-801-1030       5\n",
       "7  E0654-801-1040       5"
      ]
     },
     "execution_count": 29,
     "metadata": {},
     "output_type": "execute_result"
    }
   ],
   "source": [
    "print(file_months[idx-n])\n",
    "new_enrollments.head()"
   ]
  },
  {
   "cell_type": "markdown",
   "metadata": {},
   "source": [
    "##### Merge the enrollment data and new enrollments "
   ]
  },
  {
   "cell_type": "code",
   "execution_count": 30,
   "metadata": {},
   "outputs": [],
   "source": [
    "# If this is the first 'merge' of the master df with enrollments, then we run this code below\n",
    "updated_df = pd.merge(master_data, new_enrollments, left_on = 'Unique_ID_SSA', right_on = 'Unique_ID_SSA', how='left')\n",
    "\n",
    "# If we are updating the dataframe with additional enrollment, then we merge 'updated_df' with new 'enrollments' files\n",
    "# updated_df = pd.merge(updated_df, new_enrollments, left_on = 'Unique_ID_SSA', right_on = 'Unique_ID_SSA', how='left')"
   ]
  },
  {
   "cell_type": "code",
   "execution_count": 31,
   "metadata": {},
   "outputs": [
    {
     "data": {
      "text/html": [
       "<div>\n",
       "<style scoped>\n",
       "    .dataframe tbody tr th:only-of-type {\n",
       "        vertical-align: middle;\n",
       "    }\n",
       "\n",
       "    .dataframe tbody tr th {\n",
       "        vertical-align: top;\n",
       "    }\n",
       "\n",
       "    .dataframe thead th {\n",
       "        text-align: right;\n",
       "    }\n",
       "</style>\n",
       "<table border=\"1\" class=\"dataframe\">\n",
       "  <thead>\n",
       "    <tr style=\"text-align: right;\">\n",
       "      <th></th>\n",
       "      <th>Unique_ID_SSA</th>\n",
       "      <th>FIPS State County Code</th>\n",
       "      <th>State</th>\n",
       "      <th>County</th>\n",
       "      <th>Jan-20</th>\n",
       "      <th>Parent Organization</th>\n",
       "      <th>Dec-19</th>\n",
       "    </tr>\n",
       "  </thead>\n",
       "  <tbody>\n",
       "    <tr>\n",
       "      <th>0</th>\n",
       "      <td>E0654-801-1000</td>\n",
       "      <td>1001.0</td>\n",
       "      <td>AL</td>\n",
       "      <td>Autauga</td>\n",
       "      <td>5.0</td>\n",
       "      <td>IBT Voluntary Employee Benefits Trust</td>\n",
       "      <td>5.0</td>\n",
       "    </tr>\n",
       "    <tr>\n",
       "      <th>1</th>\n",
       "      <td>E0654-801-1010</td>\n",
       "      <td>1003.0</td>\n",
       "      <td>AL</td>\n",
       "      <td>Baldwin</td>\n",
       "      <td>12.0</td>\n",
       "      <td>IBT Voluntary Employee Benefits Trust</td>\n",
       "      <td>5.0</td>\n",
       "    </tr>\n",
       "    <tr>\n",
       "      <th>2</th>\n",
       "      <td>E0654-801-1020</td>\n",
       "      <td>1005.0</td>\n",
       "      <td>AL</td>\n",
       "      <td>Barbour</td>\n",
       "      <td>5.0</td>\n",
       "      <td>IBT Voluntary Employee Benefits Trust</td>\n",
       "      <td>5.0</td>\n",
       "    </tr>\n",
       "    <tr>\n",
       "      <th>3</th>\n",
       "      <td>E0654-801-1030</td>\n",
       "      <td>1007.0</td>\n",
       "      <td>AL</td>\n",
       "      <td>Bibb</td>\n",
       "      <td>5.0</td>\n",
       "      <td>IBT Voluntary Employee Benefits Trust</td>\n",
       "      <td>5.0</td>\n",
       "    </tr>\n",
       "    <tr>\n",
       "      <th>4</th>\n",
       "      <td>E0654-801-1040</td>\n",
       "      <td>1009.0</td>\n",
       "      <td>AL</td>\n",
       "      <td>Blount</td>\n",
       "      <td>5.0</td>\n",
       "      <td>IBT Voluntary Employee Benefits Trust</td>\n",
       "      <td>5.0</td>\n",
       "    </tr>\n",
       "  </tbody>\n",
       "</table>\n",
       "</div>"
      ],
      "text/plain": [
       "    Unique_ID_SSA  FIPS State County Code State   County  Jan-20  \\\n",
       "0  E0654-801-1000                  1001.0    AL  Autauga     5.0   \n",
       "1  E0654-801-1010                  1003.0    AL  Baldwin    12.0   \n",
       "2  E0654-801-1020                  1005.0    AL  Barbour     5.0   \n",
       "3  E0654-801-1030                  1007.0    AL     Bibb     5.0   \n",
       "4  E0654-801-1040                  1009.0    AL   Blount     5.0   \n",
       "\n",
       "                     Parent Organization  Dec-19  \n",
       "0  IBT Voluntary Employee Benefits Trust     5.0  \n",
       "1  IBT Voluntary Employee Benefits Trust     5.0  \n",
       "2  IBT Voluntary Employee Benefits Trust     5.0  \n",
       "3  IBT Voluntary Employee Benefits Trust     5.0  \n",
       "4  IBT Voluntary Employee Benefits Trust     5.0  "
      ]
     },
     "execution_count": 31,
     "metadata": {},
     "output_type": "execute_result"
    }
   ],
   "source": [
    "updated_df.head()"
   ]
  },
  {
   "cell_type": "code",
   "execution_count": 33,
   "metadata": {},
   "outputs": [],
   "source": [
    "updated_df.fillna(0 ,inplace=True)"
   ]
  },
  {
   "cell_type": "markdown",
   "metadata": {},
   "source": [
    "##### Group the plans to the Parent Organization"
   ]
  },
  {
   "cell_type": "code",
   "execution_count": null,
   "metadata": {},
   "outputs": [],
   "source": [
    "# This is a test run\n",
    "updated_df.groupby(['State', 'FIPS State County Code', 'Parent Organization'], as_index=False).sum()"
   ]
  },
  {
   "cell_type": "markdown",
   "metadata": {},
   "source": [
    "##### Enrollment data both grouped and summarized at the county level"
   ]
  },
  {
   "cell_type": "code",
   "execution_count": 34,
   "metadata": {},
   "outputs": [],
   "source": [
    "county_data = updated_df.groupby(['State', 'FIPS State County Code', 'Parent Organization'], as_index=False).sum()"
   ]
  },
  {
   "cell_type": "code",
   "execution_count": 35,
   "metadata": {},
   "outputs": [],
   "source": [
    "county_data.to_csv('county_payer_stats.csv')"
   ]
  },
  {
   "cell_type": "markdown",
   "metadata": {},
   "source": [
    "#### Connect to MySql and create database"
   ]
  },
  {
   "cell_type": "code",
   "execution_count": null,
   "metadata": {},
   "outputs": [],
   "source": [
    "con = mysql.connector.connect(user='admin', \n",
    "                              password='padatascience',\n",
    "                              host='cms-data.clojwkv1g9c0.us-east-2.rds.amazonaws.com')"
   ]
  },
  {
   "cell_type": "code",
   "execution_count": null,
   "metadata": {},
   "outputs": [],
   "source": [
    "cursor = con.cursor()"
   ]
  },
  {
   "cell_type": "code",
   "execution_count": null,
   "metadata": {},
   "outputs": [],
   "source": [
    "cursor.execute(\"CREATE DATABASE IF NOT EXISTS CMS_Table\")"
   ]
  },
  {
   "cell_type": "markdown",
   "metadata": {},
   "source": [
    "#### Use sqlalchemy to insert Pandas dataframe as table to database"
   ]
  },
  {
   "cell_type": "code",
   "execution_count": null,
   "metadata": {},
   "outputs": [],
   "source": [
    "database_username = 'admin'\n",
    "database_password = 'padatascience'\n",
    "database_ip       = 'cms-data.clojwkv1g9c0.us-east-2.rds.amazonaws.com'\n",
    "database_name     = 'CMS_Table'"
   ]
  },
  {
   "cell_type": "code",
   "execution_count": null,
   "metadata": {},
   "outputs": [],
   "source": [
    "database_connection = sqlalchemy.create_engine('mysql+mysqlconnector://{0}:{1}@{2}/{3}'.\n",
    "                                               format(database_username, database_password, \n",
    "                                                      database_ip, database_name))"
   ]
  },
  {
   "cell_type": "code",
   "execution_count": null,
   "metadata": {},
   "outputs": [],
   "source": [
    "enrollment_data.to_sql(con=database_connection, name='CMS-Data', if_exists='append', chunksize=10000)"
   ]
  },
  {
   "cell_type": "code",
   "execution_count": null,
   "metadata": {},
   "outputs": [],
   "source": [
    "cursor.close() "
   ]
  },
  {
   "cell_type": "markdown",
   "metadata": {},
   "source": [
    "#### Put it all together and export to MySQL database"
   ]
  },
  {
   "cell_type": "code",
   "execution_count": null,
   "metadata": {},
   "outputs": [],
   "source": [
    "i = 0\n",
    "rows = 0\n",
    "for file in files:\n",
    "    print(file)\n",
    "    obj = s3.get_object(Bucket= bucket, Key= file)\n",
    "    raw_df = pd.read_csv(obj['Body'])\n",
    "    # ETL Step 1\n",
    "    unique_id = raw_df[\"Contract Number\"].map(str) + '-' + raw_df[\"Plan ID\"].map(str)\n",
    "    raw_df.insert(loc=0, column='Unique_ID', value=unique_id)\n",
    "    # ETL Step 2\n",
    "    print('Applying numerics')\n",
    "    raw_df['Enrollment'] = raw_df['Enrollment'].str.replace('*','5').apply(pd.to_numeric)\n",
    "    # ETL Step 3\n",
    "    raw_df.dropna(inplace=True)\n",
    "    # ETL Step 4\n",
    "    raw_df['Date'] = datetime.strptime(file_months[i], \"%b-%y\")\n",
    "    i += 1\n",
    "    # ETL Step 5\n",
    "    enrollment_data = pd.merge(raw_df, contract_df[['Unique_ID', 'Plan Name']], left_on = 'Unique_ID', right_on = 'Unique_ID', how='left')\n",
    "    # Count the number of rows in dataframe\n",
    "    print('Number of rows: ', enrollment_data.shape[0], ' i = ', i)\n",
    "    rows += enrollment_data.shape[0]\n",
    "    # SQL Load\n",
    "    enrollment_data.to_sql(con=database_connection, name='CMS-Data', if_exists='append', chunksize=10000)\n",
    "    print('total number of rows uploaded: ', rows)\n",
    "print('Now we are all finished!')\n",
    "print('The number of rows: ', rows)"
   ]
  },
  {
   "cell_type": "code",
   "execution_count": null,
   "metadata": {},
   "outputs": [],
   "source": [
    "len(file_months)"
   ]
  },
  {
   "cell_type": "code",
   "execution_count": null,
   "metadata": {},
   "outputs": [],
   "source": [
    "i"
   ]
  },
  {
   "cell_type": "code",
   "execution_count": null,
   "metadata": {},
   "outputs": [],
   "source": []
  }
 ],
 "metadata": {
  "kernelspec": {
   "display_name": "conda_python3",
   "language": "python",
   "name": "conda_python3"
  },
  "language_info": {
   "codemirror_mode": {
    "name": "ipython",
    "version": 3
   },
   "file_extension": ".py",
   "mimetype": "text/x-python",
   "name": "python",
   "nbconvert_exporter": "python",
   "pygments_lexer": "ipython3",
   "version": "3.6.5"
  }
 },
 "nbformat": 4,
 "nbformat_minor": 2
}
