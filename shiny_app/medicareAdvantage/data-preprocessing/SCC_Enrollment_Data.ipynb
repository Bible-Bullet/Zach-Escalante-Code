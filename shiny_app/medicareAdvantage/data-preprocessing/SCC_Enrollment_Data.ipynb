{
 "cells": [
  {
   "cell_type": "code",
   "execution_count": 1,
   "metadata": {},
   "outputs": [],
   "source": [
    "import re\n",
    "import json\n",
    "import boto3\n",
    "import pandas as pd\n",
    "#import mysql.connector\n",
    "from collections import OrderedDict\n",
    "from datetime import datetime, timedelta"
   ]
  },
  {
   "cell_type": "markdown",
   "metadata": {},
   "source": [
    "##### Connect to S3 buckets"
   ]
  },
  {
   "cell_type": "code",
   "execution_count": 2,
   "metadata": {},
   "outputs": [],
   "source": [
    "def get_s3_keys(bucket):\n",
    "    \"\"\"Get a list of keys in an S3 bucket.\"\"\"\n",
    "    keys = []\n",
    "    resp = s3.list_objects_v2(Bucket=bucket)\n",
    "    for obj in resp['Contents']:\n",
    "        keys.append(obj['Key'])\n",
    "    return keys"
   ]
  },
  {
   "cell_type": "code",
   "execution_count": 3,
   "metadata": {},
   "outputs": [],
   "source": [
    "s3 = boto3.client('s3')"
   ]
  },
  {
   "cell_type": "code",
   "execution_count": 4,
   "metadata": {},
   "outputs": [],
   "source": [
    "bucket = 'scc-enrollment-data'"
   ]
  },
  {
   "cell_type": "code",
   "execution_count": 5,
   "metadata": {},
   "outputs": [],
   "source": [
    "files = get_s3_keys(bucket)"
   ]
  },
  {
   "cell_type": "markdown",
   "metadata": {},
   "source": [
    "##### Import JSON file with unique contract_id/SSA Codes"
   ]
  },
  {
   "cell_type": "code",
   "execution_count": 45,
   "metadata": {},
   "outputs": [],
   "source": [
    "with open('contract_id.json', 'r') as file:\n",
    "    data = json.loads(file.read())"
   ]
  },
  {
   "cell_type": "code",
   "execution_count": 46,
   "metadata": {},
   "outputs": [],
   "source": [
    "df = pd.DataFrame.from_dict(data, orient='index')\n",
    "df.reset_index(level=0, inplace=True)\n",
    "df.rename(columns={'index':'unique_id'}, inplace=True)\n",
    "df['FIPS Code'] = df['FIPS Code'].fillna(99999).astype(int).round(0).astype(str)\n",
    "df['FIPS Code'] = df['FIPS Code'].apply(lambda x: x.zfill(5))"
   ]
  },
  {
   "cell_type": "code",
   "execution_count": 47,
   "metadata": {},
   "outputs": [
    {
     "data": {
      "text/html": [
       "<div>\n",
       "<style scoped>\n",
       "    .dataframe tbody tr th:only-of-type {\n",
       "        vertical-align: middle;\n",
       "    }\n",
       "\n",
       "    .dataframe tbody tr th {\n",
       "        vertical-align: top;\n",
       "    }\n",
       "\n",
       "    .dataframe thead th {\n",
       "        text-align: right;\n",
       "    }\n",
       "</style>\n",
       "<table border=\"1\" class=\"dataframe\">\n",
       "  <thead>\n",
       "    <tr style=\"text-align: right;\">\n",
       "      <th></th>\n",
       "      <th>unique_id</th>\n",
       "      <th>County</th>\n",
       "      <th>State</th>\n",
       "      <th>Contract ID</th>\n",
       "      <th>Organization</th>\n",
       "      <th>Type</th>\n",
       "      <th>Plan Type</th>\n",
       "      <th>SSA Code</th>\n",
       "      <th>FIPS Code</th>\n",
       "    </tr>\n",
       "  </thead>\n",
       "  <tbody>\n",
       "    <tr>\n",
       "      <th>0</th>\n",
       "      <td>900911000</td>\n",
       "      <td>Autauga</td>\n",
       "      <td>AL</td>\n",
       "      <td>90091</td>\n",
       "      <td>UNITED MINE WORKERS OF AMERICA HLTH &amp; RETIREMENT</td>\n",
       "      <td>HCPP - 1833 Cost</td>\n",
       "      <td>HCPP - 1833 Cost</td>\n",
       "      <td>1000</td>\n",
       "      <td>01001</td>\n",
       "    </tr>\n",
       "    <tr>\n",
       "      <th>1</th>\n",
       "      <td>9009110000</td>\n",
       "      <td>Alachua</td>\n",
       "      <td>FL</td>\n",
       "      <td>90091</td>\n",
       "      <td>UNITED MINE WORKERS OF AMERICA HLTH &amp; RETIREMENT</td>\n",
       "      <td>HCPP - 1833 Cost</td>\n",
       "      <td>HCPP - 1833 Cost</td>\n",
       "      <td>10000</td>\n",
       "      <td>12001</td>\n",
       "    </tr>\n",
       "    <tr>\n",
       "      <th>2</th>\n",
       "      <td>9009110020</td>\n",
       "      <td>Bay</td>\n",
       "      <td>FL</td>\n",
       "      <td>90091</td>\n",
       "      <td>UNITED MINE WORKERS OF AMERICA HLTH &amp; RETIREMENT</td>\n",
       "      <td>HCPP - 1833 Cost</td>\n",
       "      <td>HCPP - 1833 Cost</td>\n",
       "      <td>10020</td>\n",
       "      <td>12005</td>\n",
       "    </tr>\n",
       "    <tr>\n",
       "      <th>3</th>\n",
       "      <td>9009110040</td>\n",
       "      <td>Brevard</td>\n",
       "      <td>FL</td>\n",
       "      <td>90091</td>\n",
       "      <td>UNITED MINE WORKERS OF AMERICA HLTH &amp; RETIREMENT</td>\n",
       "      <td>HCPP - 1833 Cost</td>\n",
       "      <td>HCPP - 1833 Cost</td>\n",
       "      <td>10040</td>\n",
       "      <td>12009</td>\n",
       "    </tr>\n",
       "    <tr>\n",
       "      <th>4</th>\n",
       "      <td>9009110050</td>\n",
       "      <td>Broward</td>\n",
       "      <td>FL</td>\n",
       "      <td>90091</td>\n",
       "      <td>UNITED MINE WORKERS OF AMERICA HLTH &amp; RETIREMENT</td>\n",
       "      <td>HCPP - 1833 Cost</td>\n",
       "      <td>HCPP - 1833 Cost</td>\n",
       "      <td>10050</td>\n",
       "      <td>12011</td>\n",
       "    </tr>\n",
       "  </tbody>\n",
       "</table>\n",
       "</div>"
      ],
      "text/plain": [
       "    unique_id   County State Contract ID  \\\n",
       "0   900911000  Autauga    AL       90091   \n",
       "1  9009110000  Alachua    FL       90091   \n",
       "2  9009110020      Bay    FL       90091   \n",
       "3  9009110040  Brevard    FL       90091   \n",
       "4  9009110050  Broward    FL       90091   \n",
       "\n",
       "                                       Organization              Type  \\\n",
       "0  UNITED MINE WORKERS OF AMERICA HLTH & RETIREMENT  HCPP - 1833 Cost   \n",
       "1  UNITED MINE WORKERS OF AMERICA HLTH & RETIREMENT  HCPP - 1833 Cost   \n",
       "2  UNITED MINE WORKERS OF AMERICA HLTH & RETIREMENT  HCPP - 1833 Cost   \n",
       "3  UNITED MINE WORKERS OF AMERICA HLTH & RETIREMENT  HCPP - 1833 Cost   \n",
       "4  UNITED MINE WORKERS OF AMERICA HLTH & RETIREMENT  HCPP - 1833 Cost   \n",
       "\n",
       "          Plan Type SSA Code FIPS Code  \n",
       "0  HCPP - 1833 Cost     1000     01001  \n",
       "1  HCPP - 1833 Cost    10000     12001  \n",
       "2  HCPP - 1833 Cost    10020     12005  \n",
       "3  HCPP - 1833 Cost    10040     12009  \n",
       "4  HCPP - 1833 Cost    10050     12011  "
      ]
     },
     "execution_count": 47,
     "metadata": {},
     "output_type": "execute_result"
    }
   ],
   "source": [
    "master_df = df\n",
    "master_df.head()"
   ]
  },
  {
   "cell_type": "code",
   "execution_count": 48,
   "metadata": {},
   "outputs": [
    {
     "name": "stdout",
     "output_type": "stream",
     "text": [
      "SCC_Enrollment_MA_2020_02.csv\n",
      "SCC_Enrollment_MA_2020_01.csv\n",
      "SCC_Enrollment_MA_2019_12.csv\n",
      "SCC_Enrollment_MA_2019_11.csv\n",
      "SCC_Enrollment_MA_2019_10.csv\n",
      "SCC_Enrollment_MA_2019_09.csv\n",
      "SCC_Enrollment_MA_2019_08.csv\n",
      "SCC_Enrollment_MA_2019_07.csv\n",
      "SCC_Enrollment_MA_2019_06.csv\n",
      "SCC_Enrollment_MA_2019_05.csv\n",
      "SCC_Enrollment_MA_2019_04.csv\n",
      "SCC_Enrollment_MA_2019_03.csv\n",
      "SCC_Enrollment_MA_2019_02.csv\n",
      "SCC_Enrollment_MA_2019_01.csv\n",
      "SCC_Enrollment_MA_2018_12.csv\n",
      "SCC_Enrollment_MA_2018_11.csv\n",
      "SCC_Enrollment_MA_2018_10.csv\n",
      "SCC_Enrollment_MA_2018_09.csv\n",
      "SCC_Enrollment_MA_2018_08.csv\n",
      "SCC_Enrollment_MA_2018_07.csv\n",
      "SCC_Enrollment_MA_2018_06.csv\n",
      "SCC_Enrollment_MA_2018_05.csv\n",
      "SCC_Enrollment_MA_2018_04.csv\n",
      "SCC_Enrollment_MA_2018_03.csv\n",
      "SCC_Enrollment_MA_2018_02.csv\n",
      "SCC_Enrollment_MA_2018_01.csv\n",
      "SCC_Enrollment_MA_2017_12.csv\n",
      "SCC_Enrollment_MA_2017_11.csv\n"
     ]
    }
   ],
   "source": [
    "for file in reversed(files):\n",
    "    print(file)\n",
    "    # Grab the date from the filename and format it correctly\n",
    "    date_string = re.findall(\"SCC_Enrollment_MA_(.*?).csv\", file)[0]\n",
    "    date_formatted = date_string.split(\"_\")[1] + \"-01-\" + date_string.split(\"_\")[0]\n",
    "    \n",
    "    # Import the enrollment files\n",
    "    obj = s3.get_object(Bucket= bucket, Key= file)\n",
    "    df_enrollments = pd.read_csv(obj['Body'])\n",
    "    \n",
    "    # Perform Feature Engineering\n",
    "    df_enrollments['Contract ID'] = df_enrollments['Contract ID'].astype(str)\n",
    "    df_enrollments['SSA Code'] = df_enrollments['SSA Code'].astype(str)\n",
    "    #df_enrollments['FIPS Code'] = df_enrollments['FIPS Code'].fillna(99999).astype(int).round(0).astype(str)\n",
    "    #df_enrollments['FIPS Code'] = df_enrollments['FIPS Code'].apply(lambda x: x.zfill(5))\n",
    "    df_enrollments['unique_id'] = df_enrollments['Contract ID'] + df_enrollments['SSA Code']\n",
    "    df_enrollments.drop(['County', 'State', 'Contract ID', 'Organization Name', 'Organization Type', 'Plan Type', 'SSA Code', 'FIPS Code'], axis=1, inplace=True)\n",
    "    \n",
    "    # Replace '.', which signifies < 10 with 3 and convert the 'Enrolled' column to numeric\n",
    "    if df_enrollments['Enrolled'].dtype == object:\n",
    "        df_enrollments['Enrolled'] = df_enrollments['Enrolled'].str.replace('.','3').apply(pd.to_numeric)\n",
    "    \n",
    "    # Rename the 'Enrollment' column with the correct date for the file\n",
    "    df_enrollments.rename(columns={'Enrolled': date_formatted}, inplace=True)\n",
    "    \n",
    "    # Merge the enrollment data with the master dataframe\n",
    "    master_df = pd.merge(master_df, df_enrollments, left_on = 'unique_id', right_on = 'unique_id', how='left')\n",
    "master_df.fillna(0, inplace=True)\n",
    "master_df['FIPS Code'] = master_df['FIPS Code'].apply('=\"{}\"'.format)"
   ]
  },
  {
   "cell_type": "code",
   "execution_count": 49,
   "metadata": {},
   "outputs": [],
   "source": [
    "master_df.drop(['unique_id', 'County', 'Contract ID', 'Type', 'SSA Code', 'Plan Type'], axis=1, inplace=True)\n",
    "master_df.rename(columns={'Organization': 'Parent_Organization', 'FIPS Code': 'FIPS'}, inplace=True)\n",
    "#master_df['Parent_Organization'] = master_df['Parent_Organization'].apply(lambda x: ' '.join(str(x).split(\" \")[:2]))\n",
    "master_df['Parent_Organization'] = master_df['Parent_Organization'].apply(lambda x: PayerNames(str(x)))"
   ]
  },
  {
   "cell_type": "code",
   "execution_count": 50,
   "metadata": {},
   "outputs": [],
   "source": [
    "cols = list(master_df)\n",
    "cols.insert(1, cols.pop(cols.index('FIPS')))"
   ]
  },
  {
   "cell_type": "code",
   "execution_count": 51,
   "metadata": {},
   "outputs": [],
   "source": [
    "master_df = master_df[cols]"
   ]
  },
  {
   "cell_type": "code",
   "execution_count": 52,
   "metadata": {},
   "outputs": [
    {
     "data": {
      "text/html": [
       "<div>\n",
       "<style scoped>\n",
       "    .dataframe tbody tr th:only-of-type {\n",
       "        vertical-align: middle;\n",
       "    }\n",
       "\n",
       "    .dataframe tbody tr th {\n",
       "        vertical-align: top;\n",
       "    }\n",
       "\n",
       "    .dataframe thead th {\n",
       "        text-align: right;\n",
       "    }\n",
       "</style>\n",
       "<table border=\"1\" class=\"dataframe\">\n",
       "  <thead>\n",
       "    <tr style=\"text-align: right;\">\n",
       "      <th></th>\n",
       "      <th>State</th>\n",
       "      <th>FIPS</th>\n",
       "      <th>Parent_Organization</th>\n",
       "      <th>02-01-2020</th>\n",
       "      <th>01-01-2020</th>\n",
       "      <th>12-01-2019</th>\n",
       "      <th>11-01-2019</th>\n",
       "      <th>10-01-2019</th>\n",
       "      <th>09-01-2019</th>\n",
       "      <th>08-01-2019</th>\n",
       "      <th>...</th>\n",
       "      <th>08-01-2018</th>\n",
       "      <th>07-01-2018</th>\n",
       "      <th>06-01-2018</th>\n",
       "      <th>05-01-2018</th>\n",
       "      <th>04-01-2018</th>\n",
       "      <th>03-01-2018</th>\n",
       "      <th>02-01-2018</th>\n",
       "      <th>01-01-2018</th>\n",
       "      <th>12-01-2017</th>\n",
       "      <th>11-01-2017</th>\n",
       "    </tr>\n",
       "  </thead>\n",
       "  <tbody>\n",
       "    <tr>\n",
       "      <th>0</th>\n",
       "      <td>AL</td>\n",
       "      <td>=\"01001\"</td>\n",
       "      <td>UNITEDHEALTHCARE</td>\n",
       "      <td>3.0</td>\n",
       "      <td>3.0</td>\n",
       "      <td>3.0</td>\n",
       "      <td>3.0</td>\n",
       "      <td>3.0</td>\n",
       "      <td>3.0</td>\n",
       "      <td>3.0</td>\n",
       "      <td>...</td>\n",
       "      <td>0.0</td>\n",
       "      <td>0.0</td>\n",
       "      <td>0.0</td>\n",
       "      <td>0.0</td>\n",
       "      <td>0.0</td>\n",
       "      <td>0.0</td>\n",
       "      <td>0.0</td>\n",
       "      <td>0.0</td>\n",
       "      <td>0.0</td>\n",
       "      <td>0.0</td>\n",
       "    </tr>\n",
       "    <tr>\n",
       "      <th>1</th>\n",
       "      <td>FL</td>\n",
       "      <td>=\"12001\"</td>\n",
       "      <td>UNITEDHEALTHCARE</td>\n",
       "      <td>3.0</td>\n",
       "      <td>3.0</td>\n",
       "      <td>3.0</td>\n",
       "      <td>3.0</td>\n",
       "      <td>3.0</td>\n",
       "      <td>3.0</td>\n",
       "      <td>3.0</td>\n",
       "      <td>...</td>\n",
       "      <td>0.0</td>\n",
       "      <td>0.0</td>\n",
       "      <td>0.0</td>\n",
       "      <td>0.0</td>\n",
       "      <td>0.0</td>\n",
       "      <td>0.0</td>\n",
       "      <td>0.0</td>\n",
       "      <td>0.0</td>\n",
       "      <td>0.0</td>\n",
       "      <td>0.0</td>\n",
       "    </tr>\n",
       "    <tr>\n",
       "      <th>2</th>\n",
       "      <td>FL</td>\n",
       "      <td>=\"12005\"</td>\n",
       "      <td>UNITEDHEALTHCARE</td>\n",
       "      <td>13.0</td>\n",
       "      <td>12.0</td>\n",
       "      <td>12.0</td>\n",
       "      <td>12.0</td>\n",
       "      <td>13.0</td>\n",
       "      <td>13.0</td>\n",
       "      <td>13.0</td>\n",
       "      <td>...</td>\n",
       "      <td>13.0</td>\n",
       "      <td>13.0</td>\n",
       "      <td>13.0</td>\n",
       "      <td>15.0</td>\n",
       "      <td>15.0</td>\n",
       "      <td>15.0</td>\n",
       "      <td>14.0</td>\n",
       "      <td>14.0</td>\n",
       "      <td>14.0</td>\n",
       "      <td>13.0</td>\n",
       "    </tr>\n",
       "    <tr>\n",
       "      <th>3</th>\n",
       "      <td>FL</td>\n",
       "      <td>=\"12009\"</td>\n",
       "      <td>UNITEDHEALTHCARE</td>\n",
       "      <td>31.0</td>\n",
       "      <td>32.0</td>\n",
       "      <td>31.0</td>\n",
       "      <td>30.0</td>\n",
       "      <td>30.0</td>\n",
       "      <td>30.0</td>\n",
       "      <td>30.0</td>\n",
       "      <td>...</td>\n",
       "      <td>30.0</td>\n",
       "      <td>31.0</td>\n",
       "      <td>30.0</td>\n",
       "      <td>29.0</td>\n",
       "      <td>30.0</td>\n",
       "      <td>29.0</td>\n",
       "      <td>29.0</td>\n",
       "      <td>29.0</td>\n",
       "      <td>29.0</td>\n",
       "      <td>28.0</td>\n",
       "    </tr>\n",
       "    <tr>\n",
       "      <th>4</th>\n",
       "      <td>FL</td>\n",
       "      <td>=\"12011\"</td>\n",
       "      <td>UNITEDHEALTHCARE</td>\n",
       "      <td>0.0</td>\n",
       "      <td>0.0</td>\n",
       "      <td>0.0</td>\n",
       "      <td>0.0</td>\n",
       "      <td>0.0</td>\n",
       "      <td>0.0</td>\n",
       "      <td>0.0</td>\n",
       "      <td>...</td>\n",
       "      <td>0.0</td>\n",
       "      <td>0.0</td>\n",
       "      <td>0.0</td>\n",
       "      <td>0.0</td>\n",
       "      <td>0.0</td>\n",
       "      <td>0.0</td>\n",
       "      <td>0.0</td>\n",
       "      <td>0.0</td>\n",
       "      <td>0.0</td>\n",
       "      <td>0.0</td>\n",
       "    </tr>\n",
       "  </tbody>\n",
       "</table>\n",
       "<p>5 rows × 31 columns</p>\n",
       "</div>"
      ],
      "text/plain": [
       "  State      FIPS Parent_Organization  02-01-2020  01-01-2020  12-01-2019  \\\n",
       "0    AL  =\"01001\"    UNITEDHEALTHCARE         3.0         3.0         3.0   \n",
       "1    FL  =\"12001\"    UNITEDHEALTHCARE         3.0         3.0         3.0   \n",
       "2    FL  =\"12005\"    UNITEDHEALTHCARE        13.0        12.0        12.0   \n",
       "3    FL  =\"12009\"    UNITEDHEALTHCARE        31.0        32.0        31.0   \n",
       "4    FL  =\"12011\"    UNITEDHEALTHCARE         0.0         0.0         0.0   \n",
       "\n",
       "   11-01-2019  10-01-2019  09-01-2019  08-01-2019  ...  08-01-2018  \\\n",
       "0         3.0         3.0         3.0         3.0  ...         0.0   \n",
       "1         3.0         3.0         3.0         3.0  ...         0.0   \n",
       "2        12.0        13.0        13.0        13.0  ...        13.0   \n",
       "3        30.0        30.0        30.0        30.0  ...        30.0   \n",
       "4         0.0         0.0         0.0         0.0  ...         0.0   \n",
       "\n",
       "   07-01-2018  06-01-2018  05-01-2018  04-01-2018  03-01-2018  02-01-2018  \\\n",
       "0         0.0         0.0         0.0         0.0         0.0         0.0   \n",
       "1         0.0         0.0         0.0         0.0         0.0         0.0   \n",
       "2        13.0        13.0        15.0        15.0        15.0        14.0   \n",
       "3        31.0        30.0        29.0        30.0        29.0        29.0   \n",
       "4         0.0         0.0         0.0         0.0         0.0         0.0   \n",
       "\n",
       "   01-01-2018  12-01-2017  11-01-2017  \n",
       "0         0.0         0.0         0.0  \n",
       "1         0.0         0.0         0.0  \n",
       "2        14.0        14.0        13.0  \n",
       "3        29.0        29.0        28.0  \n",
       "4         0.0         0.0         0.0  \n",
       "\n",
       "[5 rows x 31 columns]"
      ]
     },
     "execution_count": 52,
     "metadata": {},
     "output_type": "execute_result"
    }
   ],
   "source": [
    "master_df.head()"
   ]
  },
  {
   "cell_type": "code",
   "execution_count": 53,
   "metadata": {},
   "outputs": [],
   "source": [
    "master_df.to_csv(\"SCC_Enrollments_022020.csv\", index = False)"
   ]
  },
  {
   "cell_type": "markdown",
   "metadata": {},
   "source": [
    "##### Test Code"
   ]
  },
  {
   "cell_type": "code",
   "execution_count": 125,
   "metadata": {},
   "outputs": [],
   "source": [
    "obj = s3.get_object(Bucket= bucket, Key= 'SCC_Enrollment_MA_2019_03.csv')"
   ]
  },
  {
   "cell_type": "code",
   "execution_count": 126,
   "metadata": {},
   "outputs": [],
   "source": [
    "dataframe = pd.read_csv(obj['Body'])"
   ]
  },
  {
   "cell_type": "code",
   "execution_count": 127,
   "metadata": {},
   "outputs": [],
   "source": [
    "dataframe['Contract ID'] = dataframe['Contract ID'].astype(str)\n",
    "dataframe['SSA Code'] = dataframe['SSA Code'].astype(str)\n",
    "dataframe['FIPS Code'] = dataframe['FIPS Code'].fillna(99999).astype(int).round(0).astype(str)\n",
    "dataframe['FIPS Code'] = dataframe['FIPS Code'].apply(lambda x: x.zfill(5))\n",
    "dataframe['unique_id'] = dataframe['Contract ID'] + dataframe['SSA Code']\n",
    "dataframe.drop(['County', 'State', 'Contract ID', 'Organization Name', 'Organization Type', 'Plan Type', 'SSA Code', 'FIPS Code'], axis=1, inplace=True)"
   ]
  },
  {
   "cell_type": "code",
   "execution_count": 57,
   "metadata": {},
   "outputs": [],
   "source": [
    "updated_df = pd.merge(df, dataframe, left_on = 'unique_id', right_on = 'unique_id', how='left')"
   ]
  },
  {
   "cell_type": "code",
   "execution_count": 128,
   "metadata": {},
   "outputs": [],
   "source": [
    "if dataframe['Enrolled'].dtype == object:\n",
    "    dataframe['Enrolled'].str.replace('.','3').apply(pd.to_numeric)\n",
    "else:\n",
    "    print('Pass')"
   ]
  },
  {
   "cell_type": "code",
   "execution_count": 120,
   "metadata": {},
   "outputs": [
    {
     "data": {
      "text/plain": [
       "County                object\n",
       "State                 object\n",
       "Contract ID           object\n",
       "Organization Name     object\n",
       "Organization Type     object\n",
       "Plan Type             object\n",
       "SSA Code               int64\n",
       "FIPS Code            float64\n",
       "Enrolled             float64\n",
       "dtype: object"
      ]
     },
     "execution_count": 120,
     "metadata": {},
     "output_type": "execute_result"
    }
   ],
   "source": [
    "dataframe.dtypes"
   ]
  },
  {
   "cell_type": "code",
   "execution_count": 44,
   "metadata": {},
   "outputs": [],
   "source": [
    "def PayerNames(name):\n",
    "    if type(name) != str:\n",
    "        return None\n",
    "    \n",
    "    if 'aetna' in name.lower():\n",
    "        return 'AETNA'\n",
    "    elif 'humana' in name.lower():\n",
    "        return 'HUMANA'\n",
    "    elif 'kaiser' in name.lower():\n",
    "        return 'KAISER'\n",
    "    elif 'united' in name.lower():\n",
    "        return 'UNITEDHEALTHCARE'\n",
    "    elif 'cigna' in name.lower():\n",
    "        return 'CIGNA'\n",
    "    elif 'brighthealth' in name.lower():\n",
    "        return 'BRIGHTHEALTH'\n",
    "    elif 'wellcare' in name.lower():\n",
    "        return 'WELLCARE'\n",
    "    elif 'pace' in name.lower():\n",
    "        return 'PACE'\n",
    "    elif 'molina' in name.lower():\n",
    "        return 'MOLINA'\n",
    "    elif 'longevity' in name.lower():\n",
    "        return 'LONGEVITY'\n",
    "    elif 'innovage' in name.lower():\n",
    "        return 'INNOVAGE'\n",
    "    elif 'healthspring' in name.lower():\n",
    "        return 'HEALTHSPRING'\n",
    "    elif 'coventry' in name.lower():\n",
    "        return 'COVENTRY'\n",
    "    elif 'bright health' in name.lower():\n",
    "        return 'BRIGHT HEALTH'\n",
    "    elif 'anthem' in name.lower():\n",
    "        return 'ANTHEM'\n",
    "    else:\n",
    "        return name"
   ]
  },
  {
   "cell_type": "code",
   "execution_count": 34,
   "metadata": {},
   "outputs": [
    {
     "data": {
      "text/plain": [
       "'Bright Health'"
      ]
     },
     "execution_count": 34,
     "metadata": {},
     "output_type": "execute_result"
    }
   ],
   "source": [
    "PayerNames('BRIGHT HEALTH is the best company ever')"
   ]
  },
  {
   "cell_type": "code",
   "execution_count": null,
   "metadata": {},
   "outputs": [],
   "source": []
  }
 ],
 "metadata": {
  "kernelspec": {
   "display_name": "conda_python3",
   "language": "python",
   "name": "conda_python3"
  },
  "language_info": {
   "codemirror_mode": {
    "name": "ipython",
    "version": 3
   },
   "file_extension": ".py",
   "mimetype": "text/x-python",
   "name": "python",
   "nbconvert_exporter": "python",
   "pygments_lexer": "ipython3",
   "version": "3.6.5"
  }
 },
 "nbformat": 4,
 "nbformat_minor": 4
}
