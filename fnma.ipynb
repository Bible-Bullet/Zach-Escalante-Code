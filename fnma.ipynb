{
 "cells": [
  {
   "cell_type": "code",
   "execution_count": null,
   "metadata": {
    "collapsed": true
   },
   "outputs": [],
   "source": [
    "import io\n",
    "import os\n",
    "import boto3\n",
    "import json\n",
    "import pandas as pd\n",
    "import numpy as np"
   ]
  },
  {
   "cell_type": "code",
   "execution_count": 3,
   "metadata": {
    "collapsed": true
   },
   "outputs": [],
   "source": [
    "def get_s3_keys(bucket):\n",
    "    \"\"\"Get a list of keys in an S3 bucket.\"\"\"\n",
    "    keys = []\n",
    "    resp = s3.list_objects_v2(Bucket=bucket)\n",
    "    for obj in resp['Contents']:\n",
    "        keys.append(obj['Key'])\n",
    "    return keys"
   ]
  },
  {
   "cell_type": "code",
   "execution_count": 4,
   "metadata": {
    "collapsed": true
   },
   "outputs": [],
   "source": [
    "s3 = boto3.client('s3')"
   ]
  },
  {
   "cell_type": "code",
   "execution_count": 5,
   "metadata": {},
   "outputs": [
    {
     "data": {
      "text/plain": [
       "['february/',\n",
       " 'february/lld022018_877119_AS0523.txt',\n",
       " 'february/lld022018_AS0524_AS5913.txt',\n",
       " 'february/lld022018_AS5914_AS8484.txt',\n",
       " 'february/lld022018_AS8485_AU1630.txt',\n",
       " 'february/lld022018_AX3350_BA4677.txt',\n",
       " 'february/lld022018_BA4678_BE2404.txt',\n",
       " 'february/lld022018_BE2405_BJ5106.txt',\n",
       " 'february/lld022018_BJ5107_MA2670.txt',\n",
       " 'february/lld022018_MA2671_MA3280.txt',\n",
       " 'february/lld022018_MA3281_MB0288.txt',\n",
       " 'january/',\n",
       " 'january/lld012018_877119_AS0504.txt',\n",
       " 'january/lld012018_AS0505_AS5869.txt',\n",
       " 'january/lld012018_AS5870_AS8474.txt',\n",
       " 'january/lld012018_AS8475_AU0904.txt',\n",
       " 'january/lld012018_AU0905_AX2466.txt',\n",
       " 'january/lld012018_AX2468_BA2882.txt',\n",
       " 'january/lld012018_BA2883_BE0334.txt',\n",
       " 'january/lld012018_BE0335_CA0034.txt',\n",
       " 'january/lld012018_CA0035_MA2738.txt',\n",
       " 'january/lld012018_MA2739_MB0288.txt',\n",
       " 'march/',\n",
       " 'march/lld032018_877119_AS0535.txt',\n",
       " 'march/lld032018_AS0536_AS5951.txt',\n",
       " 'march/lld032018_AS5952_AS8504.txt',\n",
       " 'march/lld032018_AS8505_AU1658.txt',\n",
       " 'march/lld032018_AU1659_AX4839.txt',\n",
       " 'march/lld032018_BA6577_BE3619.txt',\n",
       " 'march/lld032018_BE3620_BJ5872.txt',\n",
       " 'march/lld032018_BJ5873_MA2608.txt',\n",
       " 'march/lld032018_MA2609_MA3247.txt',\n",
       " 'march/lld032018_MA3248_MB0288.txt']"
      ]
     },
     "execution_count": 5,
     "metadata": {},
     "output_type": "execute_result"
    }
   ],
   "source": [
    "get_s3_keys('fnma-test-data')"
   ]
  },
  {
   "cell_type": "code",
   "execution_count": 6,
   "metadata": {
    "collapsed": true
   },
   "outputs": [],
   "source": [
    "result = s3.list_objects(Bucket='fnma-test-data', Prefix='february/', Delimiter='/')"
   ]
  },
  {
   "cell_type": "code",
   "execution_count": 7,
   "metadata": {},
   "outputs": [
    {
     "name": "stdout",
     "output_type": "stream",
     "text": [
      "february/lld022018_877119_AS0523.txt\n"
     ]
    },
    {
     "name": "stderr",
     "output_type": "stream",
     "text": [
      "/home/ec2-user/anaconda3/envs/python3/lib/python3.6/site-packages/IPython/core/interactiveshell.py:2698: DtypeWarning: Columns (17,18,21) have mixed types. Specify dtype option on import or set low_memory=False.\n",
      "  interactivity=interactivity, compiler=compiler, result=result)\n"
     ]
    },
    {
     "name": "stdout",
     "output_type": "stream",
     "text": [
      "february/lld022018_AS0524_AS5913.txt\n"
     ]
    },
    {
     "name": "stderr",
     "output_type": "stream",
     "text": [
      "/home/ec2-user/anaconda3/envs/python3/lib/python3.6/site-packages/IPython/core/interactiveshell.py:2698: DtypeWarning: Columns (17,18,20,21) have mixed types. Specify dtype option on import or set low_memory=False.\n",
      "  interactivity=interactivity, compiler=compiler, result=result)\n"
     ]
    },
    {
     "name": "stdout",
     "output_type": "stream",
     "text": [
      "february/lld022018_AS5914_AS8484.txt\n"
     ]
    },
    {
     "name": "stderr",
     "output_type": "stream",
     "text": [
      "/home/ec2-user/anaconda3/envs/python3/lib/python3.6/site-packages/IPython/core/interactiveshell.py:2698: DtypeWarning: Columns (17,20,21) have mixed types. Specify dtype option on import or set low_memory=False.\n",
      "  interactivity=interactivity, compiler=compiler, result=result)\n"
     ]
    },
    {
     "name": "stdout",
     "output_type": "stream",
     "text": [
      "february/lld022018_AS8485_AU1630.txt\n",
      "february/lld022018_AX3350_BA4677.txt\n"
     ]
    },
    {
     "name": "stderr",
     "output_type": "stream",
     "text": [
      "/home/ec2-user/anaconda3/envs/python3/lib/python3.6/site-packages/IPython/core/interactiveshell.py:2698: DtypeWarning: Columns (20,21) have mixed types. Specify dtype option on import or set low_memory=False.\n",
      "  interactivity=interactivity, compiler=compiler, result=result)\n"
     ]
    },
    {
     "name": "stdout",
     "output_type": "stream",
     "text": [
      "february/lld022018_BA4678_BE2404.txt\n",
      "february/lld022018_BE2405_BJ5106.txt\n"
     ]
    },
    {
     "name": "stderr",
     "output_type": "stream",
     "text": [
      "/home/ec2-user/anaconda3/envs/python3/lib/python3.6/site-packages/IPython/core/interactiveshell.py:2698: DtypeWarning: Columns (7,8,9,10,11,12,14,15,17,18,20,21,49,51,54,55,56,58,60,61,62,64,67,69,71,72,73,76,77) have mixed types. Specify dtype option on import or set low_memory=False.\n",
      "  interactivity=interactivity, compiler=compiler, result=result)\n"
     ]
    },
    {
     "name": "stdout",
     "output_type": "stream",
     "text": [
      "february/lld022018_BJ5107_MA2670.txt\n"
     ]
    },
    {
     "name": "stderr",
     "output_type": "stream",
     "text": [
      "/home/ec2-user/anaconda3/envs/python3/lib/python3.6/site-packages/IPython/core/interactiveshell.py:2698: DtypeWarning: Columns (7,8,9,10,11,12,14,15,17,20,21) have mixed types. Specify dtype option on import or set low_memory=False.\n",
      "  interactivity=interactivity, compiler=compiler, result=result)\n"
     ]
    },
    {
     "name": "stdout",
     "output_type": "stream",
     "text": [
      "february/lld022018_MA2671_MA3280.txt\n"
     ]
    },
    {
     "name": "stderr",
     "output_type": "stream",
     "text": [
      "/home/ec2-user/anaconda3/envs/python3/lib/python3.6/site-packages/IPython/core/interactiveshell.py:2698: DtypeWarning: Columns (21) have mixed types. Specify dtype option on import or set low_memory=False.\n",
      "  interactivity=interactivity, compiler=compiler, result=result)\n"
     ]
    },
    {
     "name": "stdout",
     "output_type": "stream",
     "text": [
      "february/lld022018_MA3281_MB0288.txt\n"
     ]
    }
   ],
   "source": [
    "df = pd.DataFrame([])\n",
    "for key in result['Contents'][1:]:\n",
    "    print(key['Key'])\n",
    "    obj = s3.get_object(Bucket = 'fnma-test-data', Key = key['Key'])\n",
    "    df = df.append(pd.read_csv(io.BytesIO(obj['Body'].read()), sep = \"|\", header = None))"
   ]
  },
  {
   "cell_type": "code",
   "execution_count": 8,
   "metadata": {
    "collapsed": true
   },
   "outputs": [],
   "source": [
    "headers = ['RecordType', 'PoolNumber', 'LoanCorrectionIndicator', 'LoanIdentifier', \n",
    "           'Channel', 'SellerName', 'ServicerName', 'OriginalInterestRate', \n",
    "           'CurrentInterestRate', 'CurrentNetInterestRate', 'OUPB', 'CUPB',\n",
    "           'OriginalLoanTerm', 'FirstPaymentDate', 'LoanAge', 'RemainingMTM',\n",
    "           'MaturityDate', 'LTV', 'CLTV', 'NumberofBorrowers', 'DTI', 'CreditScore',\n",
    "           'FirstTimeHomeBuyerIndicator', 'LoanPurpose', 'PropertyType', 'NumberofUnits',\n",
    "           'OccupancyStatus', 'State', 'MortgageInsurancePercentage', 'ProductType',\n",
    "           'PrepaymentPremiumTerm', 'InterestOnlyIndicator', 'FirstPrincipalandInterestPmtDate',\n",
    "           'MonthstoFirstScheduledAmortization', 'ConvertibilityIndicator', 'MortgageMargin',\n",
    "           'NetMortgageMargin', 'Index', 'InterestRateLookBack', 'MaxInterestRate', \n",
    "           'NetMaximumInterestRate', 'MonthstoNextRateChange', 'NextRateChangeDate', \n",
    "           'RateAdjustmentFrequency', 'InitialFixedRatePeriod', 'InitialRateCapUpPercent',\n",
    "           'InitialRateCapDownPercent', 'PeriodicCapUpPercent', 'PeriodicCapDownPercent',\n",
    "           'DaysDelinquent', 'LoanPerformanceHistory', 'LoanAgeasModification', 'ModificationProgram', \n",
    "           'ModificationType','NumberofModifications', 'TotalCapitalizedAmount', 'OriginalMortgageLoanUPB', 'Filler', \n",
    "           'CurrentDeferredUPB', 'InterestRateStepIndicator', 'InitialStepFixedRatePeriod', \n",
    "           'TotalNumberofSteps', 'NumberofRemainingSteps', 'NextStepRate', 'TerminalStepRate',\n",
    "           'DateofTerminalStep', 'StepRateAdjustmentFrequency', 'MonthstoNextStepRateChange',\n",
    "           'NextStepRateChangeDate', 'PeriodicStepCapUpPercent', 'OriginationChannel', 'OriginationInterestRate',\n",
    "           'OriginationUPB', 'OriginationLoanTerm', 'OriginationFirstPaymentDate',\n",
    "           'OriginationMaturityDate', 'OrginationLTV', 'OriginationCLTV', \n",
    "           'OriginationDTI', 'OriginationCreditScore', 'OriginationLoanPurpose', 'OriginationOccupancyStatus',\n",
    "           'OriginationProductType', 'OriginationIOIndicator']"
   ]
  },
  {
   "cell_type": "code",
   "execution_count": 9,
   "metadata": {
    "collapsed": true
   },
   "outputs": [],
   "source": [
    "df.columns = headers"
   ]
  },
  {
   "cell_type": "code",
   "execution_count": 10,
   "metadata": {
    "collapsed": true
   },
   "outputs": [],
   "source": [
    "df = df.set_index(df['LoanIdentifier'])"
   ]
  },
  {
   "cell_type": "code",
   "execution_count": null,
   "metadata": {
    "collapsed": true
   },
   "outputs": [],
   "source": [
    "vars_ = 'SellerName'\n",
    "print('Distinct Values', len(set(df[vars_])))\n",
    "print(set(df[vars_]))"
   ]
  },
  {
   "cell_type": "code",
   "execution_count": null,
   "metadata": {
    "collapsed": true
   },
   "outputs": [],
   "source": [
    "df.columns"
   ]
  },
  {
   "cell_type": "code",
   "execution_count": 13,
   "metadata": {
    "collapsed": true
   },
   "outputs": [],
   "source": [
    "distinct_vals = {}\n",
    "for col in df.columns:\n",
    "    distinct_vals[col] = {'Distinct':  len(set(df[col]))}"
   ]
  },
  {
   "cell_type": "code",
   "execution_count": 14,
   "metadata": {
    "collapsed": true
   },
   "outputs": [],
   "source": [
    "distinct_df = pd.DataFrame.from_dict(distinct_vals, orient = 'index')"
   ]
  },
  {
   "cell_type": "code",
   "execution_count": 15,
   "metadata": {},
   "outputs": [
    {
     "data": {
      "text/html": [
       "<div>\n",
       "<style>\n",
       "    .dataframe thead tr:only-child th {\n",
       "        text-align: right;\n",
       "    }\n",
       "\n",
       "    .dataframe thead th {\n",
       "        text-align: left;\n",
       "    }\n",
       "\n",
       "    .dataframe tbody tr th {\n",
       "        vertical-align: top;\n",
       "    }\n",
       "</style>\n",
       "<table border=\"1\" class=\"dataframe\">\n",
       "  <thead>\n",
       "    <tr style=\"text-align: right;\">\n",
       "      <th></th>\n",
       "      <th>Distinct</th>\n",
       "    </tr>\n",
       "  </thead>\n",
       "  <tbody>\n",
       "    <tr>\n",
       "      <th>LoanCorrectionIndicator</th>\n",
       "      <td>1</td>\n",
       "    </tr>\n",
       "    <tr>\n",
       "      <th>LoanPerformanceHistory</th>\n",
       "      <td>1</td>\n",
       "    </tr>\n",
       "    <tr>\n",
       "      <th>StepRateAdjustmentFrequency</th>\n",
       "      <td>1</td>\n",
       "    </tr>\n",
       "    <tr>\n",
       "      <th>Filler</th>\n",
       "      <td>1</td>\n",
       "    </tr>\n",
       "    <tr>\n",
       "      <th>NextStepRateChangeDate</th>\n",
       "      <td>1</td>\n",
       "    </tr>\n",
       "    <tr>\n",
       "      <th>RecordType</th>\n",
       "      <td>1</td>\n",
       "    </tr>\n",
       "    <tr>\n",
       "      <th>NextStepRate</th>\n",
       "      <td>1</td>\n",
       "    </tr>\n",
       "    <tr>\n",
       "      <th>InterestRateStepIndicator</th>\n",
       "      <td>2</td>\n",
       "    </tr>\n",
       "    <tr>\n",
       "      <th>InterestOnlyIndicator</th>\n",
       "      <td>2</td>\n",
       "    </tr>\n",
       "    <tr>\n",
       "      <th>PrepaymentPremiumTerm</th>\n",
       "      <td>2</td>\n",
       "    </tr>\n",
       "    <tr>\n",
       "      <th>OriginationIOIndicator</th>\n",
       "      <td>2</td>\n",
       "    </tr>\n",
       "    <tr>\n",
       "      <th>OriginationLoanPurpose</th>\n",
       "      <td>3</td>\n",
       "    </tr>\n",
       "    <tr>\n",
       "      <th>CurrentDeferredUPB</th>\n",
       "      <td>3</td>\n",
       "    </tr>\n",
       "    <tr>\n",
       "      <th>FirstTimeHomeBuyerIndicator</th>\n",
       "      <td>3</td>\n",
       "    </tr>\n",
       "    <tr>\n",
       "      <th>OriginationProductType</th>\n",
       "      <td>3</td>\n",
       "    </tr>\n",
       "    <tr>\n",
       "      <th>LoanPurpose</th>\n",
       "      <td>3</td>\n",
       "    </tr>\n",
       "    <tr>\n",
       "      <th>ConvertibilityIndicator</th>\n",
       "      <td>3</td>\n",
       "    </tr>\n",
       "    <tr>\n",
       "      <th>InitialStepFixedRatePeriod</th>\n",
       "      <td>3</td>\n",
       "    </tr>\n",
       "    <tr>\n",
       "      <th>NumberofRemainingSteps</th>\n",
       "      <td>3</td>\n",
       "    </tr>\n",
       "    <tr>\n",
       "      <th>InterestRateLookBack</th>\n",
       "      <td>3</td>\n",
       "    </tr>\n",
       "    <tr>\n",
       "      <th>ProductType</th>\n",
       "      <td>3</td>\n",
       "    </tr>\n",
       "    <tr>\n",
       "      <th>MonthstoNextStepRateChange</th>\n",
       "      <td>3</td>\n",
       "    </tr>\n",
       "    <tr>\n",
       "      <th>PeriodicCapUpPercent</th>\n",
       "      <td>4</td>\n",
       "    </tr>\n",
       "    <tr>\n",
       "      <th>OriginationOccupancyStatus</th>\n",
       "      <td>4</td>\n",
       "    </tr>\n",
       "    <tr>\n",
       "      <th>PeriodicCapDownPercent</th>\n",
       "      <td>4</td>\n",
       "    </tr>\n",
       "    <tr>\n",
       "      <th>NumberofUnits</th>\n",
       "      <td>4</td>\n",
       "    </tr>\n",
       "    <tr>\n",
       "      <th>OccupancyStatus</th>\n",
       "      <td>4</td>\n",
       "    </tr>\n",
       "    <tr>\n",
       "      <th>OriginationChannel</th>\n",
       "      <td>4</td>\n",
       "    </tr>\n",
       "    <tr>\n",
       "      <th>InitialRateCapDownPercent</th>\n",
       "      <td>4</td>\n",
       "    </tr>\n",
       "    <tr>\n",
       "      <th>Channel</th>\n",
       "      <td>4</td>\n",
       "    </tr>\n",
       "    <tr>\n",
       "      <th>...</th>\n",
       "      <td>...</td>\n",
       "    </tr>\n",
       "    <tr>\n",
       "      <th>NetMortgageMargin</th>\n",
       "      <td>194</td>\n",
       "    </tr>\n",
       "    <tr>\n",
       "      <th>OrginationLTV</th>\n",
       "      <td>197</td>\n",
       "    </tr>\n",
       "    <tr>\n",
       "      <th>OriginationFirstPaymentDate</th>\n",
       "      <td>287</td>\n",
       "    </tr>\n",
       "    <tr>\n",
       "      <th>FirstPaymentDate</th>\n",
       "      <td>317</td>\n",
       "    </tr>\n",
       "    <tr>\n",
       "      <th>OriginationCLTV</th>\n",
       "      <td>321</td>\n",
       "    </tr>\n",
       "    <tr>\n",
       "      <th>LoanAge</th>\n",
       "      <td>331</td>\n",
       "    </tr>\n",
       "    <tr>\n",
       "      <th>OriginationCreditScore</th>\n",
       "      <td>383</td>\n",
       "    </tr>\n",
       "    <tr>\n",
       "      <th>OriginalLoanTerm</th>\n",
       "      <td>424</td>\n",
       "    </tr>\n",
       "    <tr>\n",
       "      <th>MaturityDate</th>\n",
       "      <td>473</td>\n",
       "    </tr>\n",
       "    <tr>\n",
       "      <th>OriginationMaturityDate</th>\n",
       "      <td>484</td>\n",
       "    </tr>\n",
       "    <tr>\n",
       "      <th>LoanAgeasModification</th>\n",
       "      <td>502</td>\n",
       "    </tr>\n",
       "    <tr>\n",
       "      <th>RemainingMTM</th>\n",
       "      <td>638</td>\n",
       "    </tr>\n",
       "    <tr>\n",
       "      <th>MaxInterestRate</th>\n",
       "      <td>648</td>\n",
       "    </tr>\n",
       "    <tr>\n",
       "      <th>CreditScore</th>\n",
       "      <td>860</td>\n",
       "    </tr>\n",
       "    <tr>\n",
       "      <th>LTV</th>\n",
       "      <td>884</td>\n",
       "    </tr>\n",
       "    <tr>\n",
       "      <th>CLTV</th>\n",
       "      <td>955</td>\n",
       "    </tr>\n",
       "    <tr>\n",
       "      <th>NetMaximumInterestRate</th>\n",
       "      <td>1161</td>\n",
       "    </tr>\n",
       "    <tr>\n",
       "      <th>CurrentNetInterestRate</th>\n",
       "      <td>1186</td>\n",
       "    </tr>\n",
       "    <tr>\n",
       "      <th>OriginationUPB</th>\n",
       "      <td>1210</td>\n",
       "    </tr>\n",
       "    <tr>\n",
       "      <th>ServicerName</th>\n",
       "      <td>1285</td>\n",
       "    </tr>\n",
       "    <tr>\n",
       "      <th>OriginalMortgageLoanUPB</th>\n",
       "      <td>1321</td>\n",
       "    </tr>\n",
       "    <tr>\n",
       "      <th>OriginationInterestRate</th>\n",
       "      <td>1846</td>\n",
       "    </tr>\n",
       "    <tr>\n",
       "      <th>SellerName</th>\n",
       "      <td>2261</td>\n",
       "    </tr>\n",
       "    <tr>\n",
       "      <th>CurrentInterestRate</th>\n",
       "      <td>4444</td>\n",
       "    </tr>\n",
       "    <tr>\n",
       "      <th>OriginalInterestRate</th>\n",
       "      <td>4459</td>\n",
       "    </tr>\n",
       "    <tr>\n",
       "      <th>PoolNumber</th>\n",
       "      <td>104753</td>\n",
       "    </tr>\n",
       "    <tr>\n",
       "      <th>TotalCapitalizedAmount</th>\n",
       "      <td>132935</td>\n",
       "    </tr>\n",
       "    <tr>\n",
       "      <th>OUPB</th>\n",
       "      <td>404453</td>\n",
       "    </tr>\n",
       "    <tr>\n",
       "      <th>CUPB</th>\n",
       "      <td>6620924</td>\n",
       "    </tr>\n",
       "    <tr>\n",
       "      <th>LoanIdentifier</th>\n",
       "      <td>8919134</td>\n",
       "    </tr>\n",
       "  </tbody>\n",
       "</table>\n",
       "<p>84 rows × 1 columns</p>\n",
       "</div>"
      ],
      "text/plain": [
       "                             Distinct\n",
       "LoanCorrectionIndicator             1\n",
       "LoanPerformanceHistory              1\n",
       "StepRateAdjustmentFrequency         1\n",
       "Filler                              1\n",
       "NextStepRateChangeDate              1\n",
       "RecordType                          1\n",
       "NextStepRate                        1\n",
       "InterestRateStepIndicator           2\n",
       "InterestOnlyIndicator               2\n",
       "PrepaymentPremiumTerm               2\n",
       "OriginationIOIndicator              2\n",
       "OriginationLoanPurpose              3\n",
       "CurrentDeferredUPB                  3\n",
       "FirstTimeHomeBuyerIndicator         3\n",
       "OriginationProductType              3\n",
       "LoanPurpose                         3\n",
       "ConvertibilityIndicator             3\n",
       "InitialStepFixedRatePeriod          3\n",
       "NumberofRemainingSteps              3\n",
       "InterestRateLookBack                3\n",
       "ProductType                         3\n",
       "MonthstoNextStepRateChange          3\n",
       "PeriodicCapUpPercent                4\n",
       "OriginationOccupancyStatus          4\n",
       "PeriodicCapDownPercent              4\n",
       "NumberofUnits                       4\n",
       "OccupancyStatus                     4\n",
       "OriginationChannel                  4\n",
       "InitialRateCapDownPercent           4\n",
       "Channel                             4\n",
       "...                               ...\n",
       "NetMortgageMargin                 194\n",
       "OrginationLTV                     197\n",
       "OriginationFirstPaymentDate       287\n",
       "FirstPaymentDate                  317\n",
       "OriginationCLTV                   321\n",
       "LoanAge                           331\n",
       "OriginationCreditScore            383\n",
       "OriginalLoanTerm                  424\n",
       "MaturityDate                      473\n",
       "OriginationMaturityDate           484\n",
       "LoanAgeasModification             502\n",
       "RemainingMTM                      638\n",
       "MaxInterestRate                   648\n",
       "CreditScore                       860\n",
       "LTV                               884\n",
       "CLTV                              955\n",
       "NetMaximumInterestRate           1161\n",
       "CurrentNetInterestRate           1186\n",
       "OriginationUPB                   1210\n",
       "ServicerName                     1285\n",
       "OriginalMortgageLoanUPB          1321\n",
       "OriginationInterestRate          1846\n",
       "SellerName                       2261\n",
       "CurrentInterestRate              4444\n",
       "OriginalInterestRate             4459\n",
       "PoolNumber                     104753\n",
       "TotalCapitalizedAmount         132935\n",
       "OUPB                           404453\n",
       "CUPB                          6620924\n",
       "LoanIdentifier                8919134\n",
       "\n",
       "[84 rows x 1 columns]"
      ]
     },
     "execution_count": 15,
     "metadata": {},
     "output_type": "execute_result"
    }
   ],
   "source": [
    "distinct_df.sort_values('Distinct')"
   ]
  },
  {
   "cell_type": "code",
   "execution_count": null,
   "metadata": {
    "collapsed": true
   },
   "outputs": [],
   "source": [
    "#test = df['Channel'].str.strip().astype('category')\n",
    "#df['Channel'] = df['Channel'].replace(r'\\s+', 0, regex=True).astype('category')\n",
    "test = df['Channel'].str.strip().replace(r'', 'NONE', regex=True).astype('category')"
   ]
  },
  {
   "cell_type": "code",
   "execution_count": null,
   "metadata": {
    "collapsed": true
   },
   "outputs": [],
   "source": [
    "set(test)"
   ]
  },
  {
   "cell_type": "code",
   "execution_count": null,
   "metadata": {
    "collapsed": true
   },
   "outputs": [],
   "source": []
  }
 ],
 "metadata": {
  "kernelspec": {
   "display_name": "conda_python3",
   "language": "python",
   "name": "conda_python3"
  },
  "language_info": {
   "codemirror_mode": {
    "name": "ipython",
    "version": 3
   },
   "file_extension": ".py",
   "mimetype": "text/x-python",
   "name": "python",
   "nbconvert_exporter": "python",
   "pygments_lexer": "ipython3",
   "version": "3.6.2"
  }
 },
 "nbformat": 4,
 "nbformat_minor": 2
}
